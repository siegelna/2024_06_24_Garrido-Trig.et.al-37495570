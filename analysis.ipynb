{
 "cells": [
  {
   "cell_type": "markdown",
   "metadata": {},
   "source": [
    "# [Macrophage and neutrophil heterogeneity at single-cell spatial resolution in human inflammatory bowel disease](https://pubmed.ncbi.nlm.nih.gov/37495570/)\n",
    "GEO: [GSE214695](https://www.ncbi.nlm.nih.gov/geo/query/acc.cgi?acc=GSE214695)"
   ]
  },
  {
   "cell_type": "code",
   "execution_count": 1,
   "metadata": {
    "vscode": {
     "languageId": "r"
    }
   },
   "outputs": [],
   "source": [
    "suppressPackageStartupMessages({\n",
    "    library(Seurat)\n",
    "    library(celldex)\n",
    "    library(ShinyCell)\n",
    "    library(dplyr)\n",
    "    library(SingleR)\n",
    "    library(dplyr)\n",
    "    library(tibble)\n",
    "})"
   ]
  },
  {
   "cell_type": "code",
   "execution_count": 2,
   "metadata": {
    "vscode": {
     "languageId": "r"
    }
   },
   "outputs": [],
   "source": [
    "source('scTools/R/process.geo.data.r')"
   ]
  },
  {
   "cell_type": "code",
   "execution_count": 3,
   "metadata": {
    "vscode": {
     "languageId": "r"
    }
   },
   "outputs": [
    {
     "name": "stderr",
     "output_type": "stream",
     "text": [
      "Found 1 file(s)\n",
      "\n",
      "GSE214695_series_matrix.txt.gz\n",
      "\n"
     ]
    },
    {
     "name": "stdout",
     "output_type": "stream",
     "text": [
      "Removed file paths:\n"
     ]
    }
   ],
   "source": [
    "seurat_objs <- process.GEO.data(GEOID = \"GSE214695\")"
   ]
  },
  {
   "cell_type": "code",
   "execution_count": 4,
   "metadata": {
    "vscode": {
     "languageId": "r"
    }
   },
   "outputs": [
    {
     "name": "stderr",
     "output_type": "stream",
     "text": [
      "Warning message:\n",
      "“Some cell names are duplicated across objects provided. Renaming to enforce unique cell names.”\n"
     ]
    }
   ],
   "source": [
    "# Merge samples\n",
    "obj <- merge(seurat_objs[[1]], \n",
    "c(seurat_objs[[2]], seurat_objs[[3]], seurat_objs[[4]], seurat_objs[[5]], seurat_objs[[6]], seurat_objs[[7]],\n",
    " seurat_objs[[8]], seurat_objs[[9]], seurat_objs[[10]], seurat_objs[[11]], seurat_objs[[12]], seurat_objs[[13]],\n",
    "seurat_objs[[14]], seurat_objs[[15]], seurat_objs[[16]], seurat_objs[[17]], seurat_objs[[18]]))\n",
    "save(obj, file = file.path(\"objects\", \"00.rda\"))"
   ]
  },
  {
   "cell_type": "code",
   "execution_count": null,
   "metadata": {
    "vscode": {
     "languageId": "r"
    }
   },
   "outputs": [],
   "source": [
    "# Clean up data\n",
    "obj <- JoinLayers(obj)\n",
    "obj[[\"percent.mt\"]] <- PercentageFeatureSet(object = obj, pattern = \"^MT-\")\n",
    "obj <- subset(obj, subset = nFeature_RNA > 350 & nFeature_RNA < 5000 & percent.mt < 10)\n",
    "obj\n",
    "save(obj, file = file.path(\"objects\", \"01.rda\"))"
   ]
  },
  {
   "cell_type": "code",
   "execution_count": null,
   "metadata": {
    "vscode": {
     "languageId": "r"
    }
   },
   "outputs": [],
   "source": [
    "# obj <- SCTransform(obj, ncells = 3000,  variable.features.n = 2000, vst.flavor=\"v2\", method = 'glmGamPoi', conserve.memory = TRUE)\n",
    "# save(obj, file=file.path(\"objects\", \"02.rda\"))"
   ]
  },
  {
   "cell_type": "code",
   "execution_count": null,
   "metadata": {
    "vscode": {
     "languageId": "r"
    }
   },
   "outputs": [],
   "source": [
    "# obj <- RunPCA(obj, npcs = 30, verbose = TRUE)\n",
    "# obj <- RunUMAP(obj, reduction = \"pca\", dims = 1:20)\n",
    "# obj <- FindNeighbors(obj, reduction = \"pca\", dims = 1:20)\n",
    "# obj <- FindClusters(obj, resolution = 0.5)\n",
    "# save(obj, file=file.path(\"objects\", \"03.rda\"))"
   ]
  },
  {
   "cell_type": "code",
   "execution_count": 21,
   "metadata": {
    "vscode": {
     "languageId": "r"
    }
   },
   "outputs": [],
   "source": [
    "load(file = file.path(\"objects\", \"01.rda\"))"
   ]
  },
  {
   "cell_type": "code",
   "execution_count": 22,
   "metadata": {
    "vscode": {
     "languageId": "r"
    }
   },
   "outputs": [],
   "source": [
    "rownames(obj@meta.data) <- make.unique(gsub(\"[^A-Za-z]+\", \"\", rownames(obj@meta.data)))"
   ]
  },
  {
   "cell_type": "code",
   "execution_count": 23,
   "metadata": {
    "vscode": {
     "languageId": "r"
    }
   },
   "outputs": [],
   "source": [
    "mdata <- read.csv(\"GSE214695/GSE214695_cell_annotation.csv.gz\", sep = \",\")\n",
    "mdata$cell_id <- make.unique(mdata$cell_id)\n",
    "rownames(mdata) <- mdata$cell_id\n",
    "rownames(mdata) <- make.unique(gsub(\"[^A-Za-z]+\", \"\", rownames(mdata)))"
   ]
  },
  {
   "cell_type": "code",
   "execution_count": 24,
   "metadata": {
    "vscode": {
     "languageId": "r"
    }
   },
   "outputs": [],
   "source": [
    "metadata <- merge(obj@meta.data, mdata, by=0, all.x=TRUE)\n",
    "metadata<- select(metadata, c(Row.names, sample, annotation, nanostring_reference))"
   ]
  },
  {
   "cell_type": "code",
   "execution_count": 25,
   "metadata": {
    "vscode": {
     "languageId": "r"
    }
   },
   "outputs": [],
   "source": [
    "obj <- AddMetaData(obj, metadata = metadata, col.name = \"sample\")\n",
    "obj <- AddMetaData(obj, metadata = metadata, col.name = \"annotation\")\n",
    "obj <- AddMetaData(obj, metadata = metadata, col.name = \"nanostring_reference\")"
   ]
  },
  {
   "cell_type": "code",
   "execution_count": 26,
   "metadata": {
    "vscode": {
     "languageId": "r"
    }
   },
   "outputs": [],
   "source": [
    "rownames(obj@assays$RNA@cells) <- make.unique(gsub(\"[^A-Za-z]+\", \"\", rownames(obj@assays$RNA@cells)))"
   ]
  },
  {
   "cell_type": "code",
   "execution_count": 27,
   "metadata": {
    "vscode": {
     "languageId": "r"
    }
   },
   "outputs": [
    {
     "name": "stderr",
     "output_type": "stream",
     "text": [
      "Running SCTransform on assay: RNA\n",
      "\n",
      "Running SCTransform on layer: counts\n",
      "\n",
      "vst.flavor='v2' set. Using model with fixed slope and excluding poisson genes.\n",
      "\n",
      "Variance stabilizing transformation of count matrix of size 20560 by 26787\n",
      "\n",
      "Model formula is y ~ log_umi\n",
      "\n",
      "Get Negative Binomial regression parameters per gene\n",
      "\n",
      "Using 2000 genes, 3000 cells\n",
      "\n",
      "Found 85 outliers - those will be ignored in fitting/regularization step\n",
      "\n",
      "\n",
      "Skip calculation of full residual matrix\n",
      "\n",
      "Will not return corrected UMI because residual type is not set to 'pearson'\n",
      "\n",
      "Calculating gene attributes\n",
      "\n",
      "Wall clock passed: Time difference of 8.343577 secs\n",
      "\n",
      "Setting min_variance based on median UMI:  0.04\n",
      "\n",
      "Calculating variance for residuals of type pearson for 20560 genes\n",
      "\n",
      "Determine variable features\n",
      "\n",
      "Setting min_variance based on median UMI:  0.04\n",
      "\n",
      "Calculating residuals of type pearson for 2000 genes\n",
      "\n"
     ]
    },
    {
     "name": "stdout",
     "output_type": "stream",
     "text": [
      "  |======================================================================| 100%\n"
     ]
    },
    {
     "name": "stderr",
     "output_type": "stream",
     "text": [
      "Computing corrected UMI count matrix\n",
      "\n",
      "Centering data matrix\n",
      "\n",
      "Getting residuals for block 1(of 9) for counts dataset\n",
      "\n",
      "Getting residuals for block 2(of 9) for counts dataset\n",
      "\n",
      "Getting residuals for block 3(of 9) for counts dataset\n",
      "\n",
      "Getting residuals for block 4(of 9) for counts dataset\n",
      "\n",
      "Getting residuals for block 5(of 9) for counts dataset\n",
      "\n",
      "Getting residuals for block 6(of 9) for counts dataset\n",
      "\n",
      "Getting residuals for block 7(of 9) for counts dataset\n",
      "\n",
      "Getting residuals for block 8(of 9) for counts dataset\n",
      "\n",
      "Getting residuals for block 9(of 9) for counts dataset\n",
      "\n",
      "Centering data matrix\n",
      "\n",
      "Finished calculating residuals for counts\n",
      "\n",
      "Set default assay to SCT\n",
      "\n"
     ]
    }
   ],
   "source": [
    "Idents(obj) <- \"RNA\"\n",
    "obj <- SCTransform(obj, ncells = 3000,  variable.features.n = 2000, vst.flavor=\"v2\", method = 'glmGamPoi', conserve.memory = TRUE)\n",
    "save(obj, file=file.path(\"objects\", \"02.rda\"))"
   ]
  },
  {
   "cell_type": "code",
   "execution_count": 28,
   "metadata": {
    "vscode": {
     "languageId": "r"
    }
   },
   "outputs": [
    {
     "name": "stderr",
     "output_type": "stream",
     "text": [
      "PC_ 1 \n",
      "Positive:  IGKC, IGHA1, JCHAIN, IGHA2, IGHG1, IGHG3, IGLC2, IGLC3, IGHG4, MZB1 \n",
      "\t   IGHG2, IGKV3-20, IGHGP, IGKV4-1, DERL3, IGLL5, IGKV1-5, IGHM, IGHV3-23, IGLV6-57 \n",
      "\t   IGKV3-11, IGLV3-1, HERPUD1, IGHV3-7, DNAAF1, XBP1, IGLV2-14, IGKV1-39, IGKV3-15, CD79A \n",
      "Negative:  DCN, LUM, COL3A1, IFITM3, COL1A2, ADAMDEC1, CALD1, C1S, CXCL14, A2M \n",
      "\t   EGR1, CCL2, SOD2, COL1A1, TMEM176B, FOS, NNMT, C1R, MFAP4, S100A6 \n",
      "\t   RARRES2, IGFBP7, IER3, FN1, FTH1, FBLN1, CFH, COL6A1, SPARC, MEG3 \n",
      "PC_ 2 \n",
      "Positive:  HLA-DRA, LYZ, HLA-DPB1, HLA-DRB1, HLA-DPA1, TYROBP, FCER1G, AIF1, CCL5, FTH1 \n",
      "\t   HLA-DQA1, HLA-DQB1, HLA-DRB5, TMSB4X, CCL4, S100A9, IL1B, CD74, IL32, CXCL8 \n",
      "\t   BCL2A1, CXCR4, PLAUR, CD83, C15orf48, IL7R, CD52, CD3D, S100A8, PTPRC \n",
      "Negative:  IGKC, IGHA1, JCHAIN, DCN, LUM, COL3A1, COL1A2, ADAMDEC1, CALD1, C1S \n",
      "\t   CXCL14, IGHA2, CCL2, COL1A1, A2M, C1R, MFAP4, NNMT, EGR1, FBLN1 \n",
      "\t   FN1, RARRES2, FOS, IFITM3, CFH, IGFBP7, MEG3, COL6A1, TCF21, TMEM176B \n",
      "PC_ 3 \n",
      "Positive:  CCL5, IL32, CD3D, KLRB1, GZMA, TRBC1, NKG7, CD2, TRBC2, TRAC \n",
      "\t   LTB, CD52, IL7R, CXCR4, CD3E, CD7, CD3G, LINC01871, GZMK, TMSB4X \n",
      "\t   CST7, CREM, GZMB, S100A4, PTPRC, SPOCK2, RORA, LCK, CD69, PIK3R1 \n",
      "Negative:  IGKC, IGHA1, HLA-DRA, LYZ, JCHAIN, AIF1, TYROBP, FCER1G, HLA-DRB1, HLA-DPB1 \n",
      "\t   HLA-DPA1, SOD2, CXCL8, S100A9, IL1B, IGHA2, PLAUR, S100A8, HLA-DQA1, CCL3 \n",
      "\t   HLA-DQB1, CST3, HLA-DRB5, C1QA, G0S2, IL1RN, TIMP1, MS4A7, EREG, CD74 \n",
      "PC_ 4 \n",
      "Positive:  CCL5, IGKC, CD3D, IGHA1, GZMA, KLRB1, S100A4, NKG7, CXCR4, IL32 \n",
      "\t   TRBC1, CD52, IL7R, JCHAIN, TRBC2, CD2, TMSB4X, DCN, PTPRC, CREM \n",
      "\t   LTB, TRAC, LUM, ADAMDEC1, TNFAIP3, GZMK, ANXA1, CCL4, COL3A1, CST7 \n",
      "Negative:  PIGR, KRT8, PHGR1, PLCG2, LGALS4, ELF3, KRT18, CLDN4, FABP1, IFI27 \n",
      "\t   CLDN7, S100A6, KRT19, AGR2, FXYD3, C15orf48, KRT20, MUC12, SMIM22, EPCAM \n",
      "\t   TFF3, MUC4, CA2, CD24, TSPAN8, MT1G, CEACAM5, CLDN3, TSPAN1, FAM3D \n",
      "PC_ 5 \n",
      "Positive:  IGHG1, IGHG3, IGHG4, IGHGP, IGHG2, IGKC, HLA-DRA, HLA-DPB1, HLA-DPA1, HLA-DQA1 \n",
      "\t   IGKV3-20, HLA-DRB1, HLA-DQB1, MS4A1, HLA-DRB5, CD74, IGHV1-69D, IGHM, TCL1A, IGHV1-2 \n",
      "\t   CD22, XBP1, HLA-DMB, DNAAF1, C1QA, PTP4A3, C1QB, HLA-DMA, CD79B, BANK1 \n",
      "Negative:  IGHA1, JCHAIN, IGHA2, IGLC3, IGLC2, CCL5, CCL4, IL32, GZMA, NKG7 \n",
      "\t   FTH1, CCL3, TNFAIP3, KLRB1, S100A4, CD3D, SOD2, C15orf48, CD69, IGLL5 \n",
      "\t   IL7R, NFKBIA, ANXA1, CXCL8, TRBC1, IL1B, S100A8, MT2A, G0S2, S100A9 \n",
      "\n",
      "20:34:59 UMAP embedding parameters a = 0.9922 b = 1.112\n",
      "\n",
      "Found more than one class \"dist\" in cache; using the first, from namespace 'spam'\n",
      "\n",
      "Also defined by ‘BiocGenerics’\n",
      "\n",
      "20:34:59 Read 26787 rows and found 20 numeric columns\n",
      "\n",
      "20:34:59 Using Annoy for neighbor search, n_neighbors = 30\n",
      "\n",
      "Found more than one class \"dist\" in cache; using the first, from namespace 'spam'\n",
      "\n",
      "Also defined by ‘BiocGenerics’\n",
      "\n",
      "20:34:59 Building Annoy index with metric = cosine, n_trees = 50\n",
      "\n",
      "0%   10   20   30   40   50   60   70   80   90   100%\n",
      "\n",
      "[----|----|----|----|----|----|----|----|----|----|\n",
      "\n",
      "*\n",
      "*\n",
      "*\n",
      "*\n",
      "*\n",
      "*\n",
      "*\n",
      "*\n",
      "*\n",
      "*\n",
      "*\n",
      "*\n",
      "*\n",
      "*\n",
      "*\n",
      "*\n",
      "*\n",
      "*\n",
      "*\n",
      "*\n",
      "*\n",
      "*\n",
      "*\n",
      "*\n",
      "*\n",
      "*\n",
      "*\n",
      "*\n",
      "*\n",
      "*\n",
      "*\n",
      "*\n",
      "*\n",
      "*\n",
      "*\n",
      "*\n",
      "*\n",
      "*\n",
      "*\n",
      "*\n",
      "*\n",
      "*\n",
      "*\n",
      "*\n",
      "*\n",
      "*\n",
      "*\n",
      "*\n",
      "*\n",
      "*\n",
      "|\n",
      "\n",
      "20:35:01 Writing NN index file to temp file /tmp/RtmpvWYxDr/file1a1457ff8b4b3\n",
      "\n",
      "20:35:01 Searching Annoy index using 1 thread, search_k = 3000\n",
      "\n",
      "20:35:10 Annoy recall = 100%\n",
      "\n",
      "20:35:11 Commencing smooth kNN distance calibration using 1 thread\n",
      " with target n_neighbors = 30\n",
      "\n",
      "20:35:14 Initializing from normalized Laplacian + noise (using RSpectra)\n",
      "\n",
      "20:35:16 Commencing optimization for 200 epochs, with 1109642 positive edges\n",
      "\n",
      "20:35:27 Optimization finished\n",
      "\n",
      "Computing nearest neighbor graph\n",
      "\n",
      "Computing SNN\n",
      "\n"
     ]
    },
    {
     "name": "stdout",
     "output_type": "stream",
     "text": [
      "Modularity Optimizer version 1.3.0 by Ludo Waltman and Nees Jan van Eck\n",
      "\n",
      "Number of nodes: 26787\n",
      "Number of edges: 860336\n",
      "\n",
      "Running Louvain algorithm...\n",
      "Maximum modularity in 10 random starts: 0.9473\n",
      "Number of communities: 26\n",
      "Elapsed time: 3 seconds\n"
     ]
    }
   ],
   "source": [
    "obj <- RunPCA(obj, npcs = 30, verbose = TRUE)\n",
    "obj <- RunUMAP(obj, reduction = \"pca\", dims = 1:20)\n",
    "obj <- FindNeighbors(obj, reduction = \"pca\", dims = 1:20)\n",
    "obj <- FindClusters(obj, resolution = 0.5)\n",
    "save(obj, file=file.path(\"objects\", \"03.rda\"))"
   ]
  },
  {
   "cell_type": "code",
   "execution_count": 29,
   "metadata": {
    "vscode": {
     "languageId": "r"
    }
   },
   "outputs": [],
   "source": [
    "immune_cell_names <- c(\n",
    "  'CD8 CTL', 'Tregs', 'M2', 'PC IgA IgM', 'PC IgA heat shock 1', 'PC IgA 1',\n",
    "  'PC IgA heat shock 2', 'ThF', 'PC IgA 3', 'Memory B cell', 'PC IgA Lambda 1',\n",
    "  'CD4 ANXA1', 'NK', 'PC IgA 2', 'Cycling T cells', 'PC IgA 4', 'CD4 naïve',\n",
    "  'CD8 CTL TRM', 'S1PR1 T cells', 'Plasmablast IgA Lambda 2', 'ILC3', 'GC B cell',\n",
    "  'B cell', 'T cells CCL20', 'IDA macrophage', 'M1 ACOD1', 'PC IgG 1',\n",
    "  'CD8 FGFBP2', 'DCs CD1c', 'M0_Ribhi', 'M1 CXCL5', 'Ribhi T cells 1',\n",
    "  'Activated endothelium', 'M0', 'Ribhi T cells 2', 'DCs CCL22', 'B cell Ribhi',\n",
    "  'M1 CXCL5', 'Tuft cells', 'Eosinophils', 'Cycling cells 3', 'Myofibroblasts',\n",
    "  'Naïve B cell', 'DCs CCL22_Ribhi'\n",
    ")"
   ]
  },
  {
   "cell_type": "code",
   "execution_count": 30,
   "metadata": {
    "vscode": {
     "languageId": "r"
    }
   },
   "outputs": [],
   "source": [
    "obj <- SetIdent(obj, value = \"annotation\")\n",
    "obj <- subset(obj, idents = immune_cell_names, invert = TRUE)"
   ]
  },
  {
   "cell_type": "code",
   "execution_count": 31,
   "metadata": {
    "vscode": {
     "languageId": "r"
    }
   },
   "outputs": [
    {
     "name": "stderr",
     "output_type": "stream",
     "text": [
      "see ?celldex and browseVignettes('celldex') for documentation\n",
      "\n",
      "loading from cache\n",
      "\n",
      "see ?celldex and browseVignettes('celldex') for documentation\n",
      "\n",
      "loading from cache\n",
      "\n",
      "see ?celldex and browseVignettes('celldex') for documentation\n",
      "\n",
      "loading from cache\n",
      "\n",
      "see ?celldex and browseVignettes('celldex') for documentation\n",
      "\n",
      "loading from cache\n",
      "\n"
     ]
    }
   ],
   "source": [
    "blueprint.ref <- celldex::BlueprintEncodeData()\n",
    "monaco.ref <- celldex::MonacoImmuneData()"
   ]
  },
  {
   "cell_type": "code",
   "execution_count": 32,
   "metadata": {
    "vscode": {
     "languageId": "r"
    }
   },
   "outputs": [],
   "source": [
    "sce <- LayerData(obj)\n",
    "blueprint.main <- SingleR(test = sce, assay.type.test = 1, ref = blueprint.ref, labels = blueprint.ref$label.main)\n",
    "obj@meta.data$blueprint.main <- blueprint.main$pruned.labels\n",
    "save(obj, file=file.path(\"objects\", \"04.rda\"))"
   ]
  },
  {
   "cell_type": "code",
   "execution_count": 33,
   "metadata": {
    "vscode": {
     "languageId": "r"
    }
   },
   "outputs": [
    {
     "data": {
      "text/plain": [
       "\n",
       "       Adipocytes           B-cells      CD4+ T-cells      CD8+ T-cells \n",
       "               23              5023              1125              1405 \n",
       "               DC Endothelial cells  Epithelial cells      Erythrocytes \n",
       "               31                54               486                21 \n",
       "      Fibroblasts               HSC     Keratinocytes       Macrophages \n",
       "              487               172                 8               127 \n",
       "  Mesangial cells         Monocytes          Myocytes       Neutrophils \n",
       "                1               384                 5                36 \n",
       "         NK cells         Pericytes \n",
       "              119                16 "
      ]
     },
     "metadata": {},
     "output_type": "display_data"
    }
   ],
   "source": [
    "table(obj@meta.data$blueprint.main)"
   ]
  },
  {
   "cell_type": "code",
   "execution_count": 34,
   "metadata": {
    "vscode": {
     "languageId": "r"
    }
   },
   "outputs": [],
   "source": [
    "obj <- SetIdent(obj, value = \"blueprint.main\")\n",
    "remove_low_count_cells <- function(seurat_obj, metadata_column, threshold = 20) {\n",
    "\n",
    "  # obj <- SetIdent(obj, value = metadata_column)\n",
    "\n",
    "  total_counts <- table(seurat_obj@meta.data[[metadata_column]])\n",
    "\n",
    "  low_count_cells <- names(total_counts[total_counts < threshold])\n",
    "\n",
    "  seurat_obj <- subset(seurat_obj, idents = low_count_cells, invert = TRUE)\n",
    "\n",
    "  return(seurat_obj)\n",
    "}\n",
    "obj <- remove_low_count_cells(seurat_obj = obj, metadata_column = \"blueprint.main\", threshold = 20)"
   ]
  },
  {
   "cell_type": "code",
   "execution_count": 35,
   "metadata": {
    "vscode": {
     "languageId": "r"
    }
   },
   "outputs": [
    {
     "data": {
      "text/plain": [
       "\n",
       "       Adipocytes           B-cells      CD4+ T-cells      CD8+ T-cells \n",
       "               23              5023              1125              1405 \n",
       "               DC Endothelial cells  Epithelial cells      Erythrocytes \n",
       "               31                54               486                21 \n",
       "      Fibroblasts               HSC       Macrophages         Monocytes \n",
       "              487               172               127               384 \n",
       "      Neutrophils          NK cells \n",
       "               36               119 "
      ]
     },
     "metadata": {},
     "output_type": "display_data"
    }
   ],
   "source": [
    "table(obj@meta.data$blueprint.main)"
   ]
  },
  {
   "cell_type": "code",
   "execution_count": 36,
   "metadata": {
    "vscode": {
     "languageId": "r"
    }
   },
   "outputs": [],
   "source": [
    "sce <- LayerData(obj)\n",
    "monaco.fine <- SingleR(test = sce, assay.type.test = 1, ref = monaco.ref, labels = monaco.ref$label.fine)\n",
    "obj@meta.data$monaco.fine <- monaco.fine$pruned.labels\n",
    "save(obj, file=file.path('objects', '05.rda'))"
   ]
  },
  {
   "cell_type": "code",
   "execution_count": 37,
   "metadata": {
    "vscode": {
     "languageId": "r"
    }
   },
   "outputs": [
    {
     "data": {
      "text/plain": [
       "\n",
       "   Central memory CD8 T cells           Classical monocytes \n",
       "                          106                           264 \n",
       "  Effector memory CD8 T cells             Exhausted B cells \n",
       "                          246                           283 \n",
       "    Follicular helper T cells        Intermediate monocytes \n",
       "                          234                           159 \n",
       "        Low-density basophils       Low-density neutrophils \n",
       "                          127                            45 \n",
       "                   MAIT cells       Myeloid dendritic cells \n",
       "                          295                           453 \n",
       "                Naive B cells             Naive CD4 T cells \n",
       "                           62                            27 \n",
       "            Naive CD8 T cells          Natural killer cells \n",
       "                            4                            92 \n",
       "      Non classical monocytes   Non-switched memory B cells \n",
       "                           24                           151 \n",
       "           Non-Vd2 gd T cells                  Plasmablasts \n",
       "                          121                          4351 \n",
       " Plasmacytoid dendritic cells              Progenitor cells \n",
       "                          103                           658 \n",
       "      Switched memory B cells            T regulatory cells \n",
       "                          170                           457 \n",
       "Terminal effector CD4 T cells Terminal effector CD8 T cells \n",
       "                            3                            71 \n",
       "                    Th1 cells                Th1/Th17 cells \n",
       "                           92                           435 \n",
       "                   Th17 cells                     Th2 cells \n",
       "                          215                            35 \n",
       "               Vd2 gd T cells \n",
       "                          218 "
      ]
     },
     "metadata": {},
     "output_type": "display_data"
    }
   ],
   "source": [
    "table(obj@meta.data$monaco.fine)"
   ]
  },
  {
   "cell_type": "code",
   "execution_count": 38,
   "metadata": {
    "vscode": {
     "languageId": "r"
    }
   },
   "outputs": [],
   "source": [
    "obj <- SetIdent(obj, value = \"monaco.fine\")\n",
    "remove_low_count_cells <- function(seurat_obj, metadata_column, threshold = 20) {\n",
    "\n",
    "  total_counts <- table(seurat_obj@meta.data[[metadata_column]])\n",
    "\n",
    "  low_count_cells <- names(total_counts[total_counts < threshold])\n",
    "\n",
    "  seurat_obj <- subset(seurat_obj, idents = low_count_cells, invert = TRUE)\n",
    "\n",
    "  return(seurat_obj)\n",
    "}\n",
    "obj <- remove_low_count_cells(seurat_obj = obj, metadata_column = \"monaco.fine\", threshold = 20)"
   ]
  },
  {
   "cell_type": "code",
   "execution_count": 39,
   "metadata": {
    "vscode": {
     "languageId": "r"
    }
   },
   "outputs": [
    {
     "data": {
      "text/plain": [
       "\n",
       "   Central memory CD8 T cells           Classical monocytes \n",
       "                          106                           264 \n",
       "  Effector memory CD8 T cells             Exhausted B cells \n",
       "                          246                           283 \n",
       "    Follicular helper T cells        Intermediate monocytes \n",
       "                          234                           159 \n",
       "        Low-density basophils       Low-density neutrophils \n",
       "                          127                            45 \n",
       "                   MAIT cells       Myeloid dendritic cells \n",
       "                          295                           453 \n",
       "                Naive B cells             Naive CD4 T cells \n",
       "                           62                            27 \n",
       "         Natural killer cells       Non classical monocytes \n",
       "                           92                            24 \n",
       "  Non-switched memory B cells            Non-Vd2 gd T cells \n",
       "                          151                           121 \n",
       "                 Plasmablasts  Plasmacytoid dendritic cells \n",
       "                         4351                           103 \n",
       "             Progenitor cells       Switched memory B cells \n",
       "                          658                           170 \n",
       "           T regulatory cells Terminal effector CD8 T cells \n",
       "                          457                            71 \n",
       "                    Th1 cells                Th1/Th17 cells \n",
       "                           92                           435 \n",
       "                   Th17 cells                     Th2 cells \n",
       "                          215                            35 \n",
       "               Vd2 gd T cells \n",
       "                          218 "
      ]
     },
     "metadata": {},
     "output_type": "display_data"
    }
   ],
   "source": [
    "table(obj@meta.data$monaco.fine)"
   ]
  },
  {
   "cell_type": "code",
   "execution_count": 40,
   "metadata": {
    "vscode": {
     "languageId": "r"
    }
   },
   "outputs": [],
   "source": [
    "# Genes Rik was interested\n",
    "genes <- \n",
    "c(\"LILRB1\", \"LILRB2\", \"LILRB3\", \"HLA-G\", \"IL1B\",\n",
    " \"IL6\", \"IL23A\", \"IL12A\", \"IL12B\", \"TNF\", \"IL10\", \"TIGIT\", \"PDCD1\")"
   ]
  },
  {
   "cell_type": "code",
   "execution_count": 41,
   "metadata": {
    "vscode": {
     "languageId": "r"
    }
   },
   "outputs": [],
   "source": [
    "# Keep only genes present in data for `default.multigene`\n",
    "seurat_data <- GetAssayData(object = obj)\n",
    "seurat_genes <- rownames(seurat_data)\n",
    "present_genes <- genes[genes %in% seurat_genes]"
   ]
  },
  {
   "cell_type": "code",
   "execution_count": 42,
   "metadata": {
    "vscode": {
     "languageId": "r"
    }
   },
   "outputs": [],
   "source": [
    "# Clean up metadata\n",
    "obj@meta.data$Gender <- obj@meta.data$gender.ch1\n",
    "obj@meta.data$Stim <- obj@meta.data$disease.state.ch1\n",
    "obj@meta.data$Orig.Annotations <- obj@meta.data$annotation"
   ]
  },
  {
   "cell_type": "code",
   "execution_count": 43,
   "metadata": {
    "vscode": {
     "languageId": "r"
    }
   },
   "outputs": [
    {
     "name": "stderr",
     "output_type": "stream",
     "text": [
      "Warning message:\n",
      "“Removing 2119 cells missing data for vars requested”\n"
     ]
    }
   ],
   "source": [
    "columns_to_keep <-  c('orig.ident', 'nCount_RNA', 'Stim', 'Gender', 'Orig.Annotations', 'blueprint.main', 'monaco.fine')\n",
    "obj@meta.data <- obj@meta.data[, columns_to_keep, drop = FALSE]\n",
    "obj <- subset(obj, subset = Orig.Annotations != \"NA\")"
   ]
  },
  {
   "cell_type": "code",
   "execution_count": 44,
   "metadata": {
    "vscode": {
     "languageId": "r"
    }
   },
   "outputs": [],
   "source": [
    "save(obj, file=file.path('objects', '06.rda'))"
   ]
  },
  {
   "cell_type": "code",
   "execution_count": 45,
   "metadata": {
    "vscode": {
     "languageId": "r"
    }
   },
   "outputs": [
    {
     "data": {
      "text/html": [
       "<table class=\"dataframe\">\n",
       "<caption>A data.table: 14 × 7</caption>\n",
       "<thead>\n",
       "\t<tr><th scope=col>ID</th><th scope=col>UI</th><th scope=col>fID</th><th scope=col>fCL</th><th scope=col>fRow</th><th scope=col>grp</th><th scope=col>dimred</th></tr>\n",
       "\t<tr><th scope=col>&lt;chr&gt;</th><th scope=col>&lt;chr&gt;</th><th scope=col>&lt;chr&gt;</th><th scope=col>&lt;chr&gt;</th><th scope=col>&lt;dbl&gt;</th><th scope=col>&lt;lgl&gt;</th><th scope=col>&lt;lgl&gt;</th></tr>\n",
       "</thead>\n",
       "<tbody>\n",
       "\t<tr><td>orig.ident      </td><td>orig.ident      </td><td>SeuratProject                                                                                                                                                                                                                                                                                                                                                                                                                                                                                                                                                                                                           </td><td>black                                                                                                                                                                                                                                                                                                                                                                                          </td><td> 1</td><td>FALSE</td><td>FALSE</td></tr>\n",
       "\t<tr><td>nCount_RNA      </td><td>nCount_RNA      </td><td>NA                                                                                                                                                                                                                                                                                                                                                                                                                                                                                                                                                                                                                      </td><td>NA                                                                                                                                                                                                                                                                                                                                                                                             </td><td>NA</td><td>FALSE</td><td>FALSE</td></tr>\n",
       "\t<tr><td>Stim            </td><td>Stim            </td><td>Crohn’s disease|healthy control|ulcerative colitis                                                                                                                                                                                                                                                                                                                                                                                                                                                                                                                                                                      </td><td>#A6CEE3|#F06C45|#B15928                                                                                                                                                                                                                                                                                                                                                                        </td><td> 1</td><td> TRUE</td><td>FALSE</td></tr>\n",
       "\t<tr><td>Gender          </td><td>Gender          </td><td>Female|Male                                                                                                                                                                                                                                                                                                                                                                                                                                                                                                                                                                                                             </td><td>#A6CEE3|#B15928                                                                                                                                                                                                                                                                                                                                                                                </td><td> 1</td><td> TRUE</td><td>FALSE</td></tr>\n",
       "\t<tr><td>Orig.Annotations</td><td>Orig.Annotations</td><td>BEST4 OTOP2|Colonocyte 1|Colonocyte 2|Cycling cells|Cycling myeloid|Cycling TA|DN EOMES|DN TNF|Endothelium|Enteroendocrine|Epithelium Ribhi|Fibroblasts Ribhi|FRCs|gd IEL|Glia|Goblet|IER fibroblasts|Inflammatory colonocyte|Inflammatory fibroblasts|Inflammatory monocytes|Laminin colonocytes|Lymphatic endothelium|M2.2|MAIT|Mast 1|Mast 2|Mast Ribhi|Mature goblet|MT fibroblasts|MT T cells|Neutrophil 1|Neutrophil 2|Neutrophil 3|Paneth-like|PC  immediate early response|PC IgG 2|PC IGLL5|Pericytes|Plasmablast IgG|Plasmablast IgG Lambda|PLCG2 colonocytes|S1|S1 Ribhi|S1.2|S2a|S2b|S3|Secretory progenitor</td><td>#A6CEE3|#86B9D8|#66A5CD|#4791C2|#277DB7|#3889AC|#5AA1A3|#7CB999|#9FD18F|#A4D880|#86C969|#69BA53|#4BAC3E|#3B9F30|#6A9E4A|#999C63|#C79B7D|#F69A96|#F57E7E|#F06061|#EA4243|#E52426|#E63228|#EC593B|#F37F4F|#F9A662|#FDB965|#FDAA4B|#FE9B31|#FE8C17|#FD8004|#F18C36|#E59768|#D8A39A|#CCAFCC|#B79BCA|#A180BC|#8A64AE|#7449A0|#7D5599|#9F8399|#C2B099|#E5DD99|#FAF491|#E7CD77|#D5A65C|#C37F42|#B15928</td><td>12</td><td> TRUE</td><td>FALSE</td></tr>\n",
       "\t<tr><td>blueprint.main  </td><td>blueprint.main  </td><td>Adipocytes|B-cells|CD4+ T-cells|CD8+ T-cells|DC|Endothelial cells|Epithelial cells|Erythrocytes|Fibroblasts|HSC|Macrophages|Monocytes|Neutrophils|NK cells                                                                                                                                                                                                                                                                                                                                                                                                                                                              </td><td>#A6CEE3|#3385BB|#84BF96|#6DBD57|#7F9D55|#F57C7C|#E42622|#FBB268|#FE8D19|#DE9E83|#9D7BBA|#977899|#F3E587|#B15928                                                                                                                                                                                                                                                                                </td><td> 4</td><td> TRUE</td><td>FALSE</td></tr>\n",
       "\t<tr><td>monaco.fine     </td><td>monaco.fine     </td><td>Central memory CD8 T cells|Classical monocytes|Effector memory CD8 T cells|Exhausted B cells|Follicular helper T cells|Intermediate monocytes|Low-density basophils|Low-density neutrophils|MAIT cells|Myeloid dendritic cells|Naive B cells|Naive CD4 T cells|Natural killer cells|Non classical monocytes|Non-switched memory B cells|Non-Vd2 gd T cells|Plasmablasts|Plasmacytoid dendritic cells|Progenitor cells|Switched memory B cells|T regulatory cells|Terminal effector CD8 T cells|Th1 cells|Th1/Th17 cells|Th17 cells|Th2 cells|Vd2 gd T cells                                                             </td><td>#A6CEE3|#6CA9CF|#3385BB|#4693A8|#84BF96|#A3D77F|#6DBD57|#37A22F|#7F9D55|#D49B84|#F57C7C|#EB4647|#E42622|#F06C45|#FBB268|#FDA848|#FE8D19|#F48829|#DE9E83|#C6ADD3|#9D7BBA|#754AA0|#977899|#D6CA99|#F3E587|#D29F57|#B15928                                                                                                                                                                        </td><td> 7</td><td> TRUE</td><td>FALSE</td></tr>\n",
       "\t<tr><td>PC_1            </td><td>PC1             </td><td>NA                                                                                                                                                                                                                                                                                                                                                                                                                                                                                                                                                                                                                      </td><td>NA                                                                                                                                                                                                                                                                                                                                                                                             </td><td>NA</td><td>FALSE</td><td> TRUE</td></tr>\n",
       "\t<tr><td>PC_2            </td><td>PC2             </td><td>NA                                                                                                                                                                                                                                                                                                                                                                                                                                                                                                                                                                                                                      </td><td>NA                                                                                                                                                                                                                                                                                                                                                                                             </td><td>NA</td><td>FALSE</td><td> TRUE</td></tr>\n",
       "\t<tr><td>PC_3            </td><td>PC3             </td><td>NA                                                                                                                                                                                                                                                                                                                                                                                                                                                                                                                                                                                                                      </td><td>NA                                                                                                                                                                                                                                                                                                                                                                                             </td><td>NA</td><td>FALSE</td><td> TRUE</td></tr>\n",
       "\t<tr><td>PC_4            </td><td>PC4             </td><td>NA                                                                                                                                                                                                                                                                                                                                                                                                                                                                                                                                                                                                                      </td><td>NA                                                                                                                                                                                                                                                                                                                                                                                             </td><td>NA</td><td>FALSE</td><td> TRUE</td></tr>\n",
       "\t<tr><td>PC_5            </td><td>PC5             </td><td>NA                                                                                                                                                                                                                                                                                                                                                                                                                                                                                                                                                                                                                      </td><td>NA                                                                                                                                                                                                                                                                                                                                                                                             </td><td>NA</td><td>FALSE</td><td> TRUE</td></tr>\n",
       "\t<tr><td>umap_1          </td><td>umap1           </td><td>NA                                                                                                                                                                                                                                                                                                                                                                                                                                                                                                                                                                                                                      </td><td>NA                                                                                                                                                                                                                                                                                                                                                                                             </td><td>NA</td><td>FALSE</td><td> TRUE</td></tr>\n",
       "\t<tr><td>umap_2          </td><td>umap2           </td><td>NA                                                                                                                                                                                                                                                                                                                                                                                                                                                                                                                                                                                                                      </td><td>NA                                                                                                                                                                                                                                                                                                                                                                                             </td><td>NA</td><td>FALSE</td><td> TRUE</td></tr>\n",
       "</tbody>\n",
       "</table>\n"
      ],
      "text/latex": [
       "A data.table: 14 × 7\n",
       "\\begin{tabular}{lllllll}\n",
       " ID & UI & fID & fCL & fRow & grp & dimred\\\\\n",
       " <chr> & <chr> & <chr> & <chr> & <dbl> & <lgl> & <lgl>\\\\\n",
       "\\hline\n",
       "\t orig.ident       & orig.ident       & SeuratProject                                                                                                                                                                                                                                                                                                                                                                                                                                                                                                                                                                                                            & black                                                                                                                                                                                                                                                                                                                                                                                           &  1 & FALSE & FALSE\\\\\n",
       "\t nCount\\_RNA       & nCount\\_RNA       & NA                                                                                                                                                                                                                                                                                                                                                                                                                                                                                                                                                                                                                       & NA                                                                                                                                                                                                                                                                                                                                                                                              & NA & FALSE & FALSE\\\\\n",
       "\t Stim             & Stim             & Crohn’s disease\\textbar{}healthy control\\textbar{}ulcerative colitis                                                                                                                                                                                                                                                                                                                                                                                                                                                                                                                                                                       & \\#A6CEE3\\textbar{}\\#F06C45\\textbar{}\\#B15928                                                                                                                                                                                                                                                                                                                                                                         &  1 &  TRUE & FALSE\\\\\n",
       "\t Gender           & Gender           & Female\\textbar{}Male                                                                                                                                                                                                                                                                                                                                                                                                                                                                                                                                                                                                              & \\#A6CEE3\\textbar{}\\#B15928                                                                                                                                                                                                                                                                                                                                                                                 &  1 &  TRUE & FALSE\\\\\n",
       "\t Orig.Annotations & Orig.Annotations & BEST4 OTOP2\\textbar{}Colonocyte 1\\textbar{}Colonocyte 2\\textbar{}Cycling cells\\textbar{}Cycling myeloid\\textbar{}Cycling TA\\textbar{}DN EOMES\\textbar{}DN TNF\\textbar{}Endothelium\\textbar{}Enteroendocrine\\textbar{}Epithelium Ribhi\\textbar{}Fibroblasts Ribhi\\textbar{}FRCs\\textbar{}gd IEL\\textbar{}Glia\\textbar{}Goblet\\textbar{}IER fibroblasts\\textbar{}Inflammatory colonocyte\\textbar{}Inflammatory fibroblasts\\textbar{}Inflammatory monocytes\\textbar{}Laminin colonocytes\\textbar{}Lymphatic endothelium\\textbar{}M2.2\\textbar{}MAIT\\textbar{}Mast 1\\textbar{}Mast 2\\textbar{}Mast Ribhi\\textbar{}Mature goblet\\textbar{}MT fibroblasts\\textbar{}MT T cells\\textbar{}Neutrophil 1\\textbar{}Neutrophil 2\\textbar{}Neutrophil 3\\textbar{}Paneth-like\\textbar{}PC  immediate early response\\textbar{}PC IgG 2\\textbar{}PC IGLL5\\textbar{}Pericytes\\textbar{}Plasmablast IgG\\textbar{}Plasmablast IgG Lambda\\textbar{}PLCG2 colonocytes\\textbar{}S1\\textbar{}S1 Ribhi\\textbar{}S1.2\\textbar{}S2a\\textbar{}S2b\\textbar{}S3\\textbar{}Secretory progenitor & \\#A6CEE3\\textbar{}\\#86B9D8\\textbar{}\\#66A5CD\\textbar{}\\#4791C2\\textbar{}\\#277DB7\\textbar{}\\#3889AC\\textbar{}\\#5AA1A3\\textbar{}\\#7CB999\\textbar{}\\#9FD18F\\textbar{}\\#A4D880\\textbar{}\\#86C969\\textbar{}\\#69BA53\\textbar{}\\#4BAC3E\\textbar{}\\#3B9F30\\textbar{}\\#6A9E4A\\textbar{}\\#999C63\\textbar{}\\#C79B7D\\textbar{}\\#F69A96\\textbar{}\\#F57E7E\\textbar{}\\#F06061\\textbar{}\\#EA4243\\textbar{}\\#E52426\\textbar{}\\#E63228\\textbar{}\\#EC593B\\textbar{}\\#F37F4F\\textbar{}\\#F9A662\\textbar{}\\#FDB965\\textbar{}\\#FDAA4B\\textbar{}\\#FE9B31\\textbar{}\\#FE8C17\\textbar{}\\#FD8004\\textbar{}\\#F18C36\\textbar{}\\#E59768\\textbar{}\\#D8A39A\\textbar{}\\#CCAFCC\\textbar{}\\#B79BCA\\textbar{}\\#A180BC\\textbar{}\\#8A64AE\\textbar{}\\#7449A0\\textbar{}\\#7D5599\\textbar{}\\#9F8399\\textbar{}\\#C2B099\\textbar{}\\#E5DD99\\textbar{}\\#FAF491\\textbar{}\\#E7CD77\\textbar{}\\#D5A65C\\textbar{}\\#C37F42\\textbar{}\\#B15928 & 12 &  TRUE & FALSE\\\\\n",
       "\t blueprint.main   & blueprint.main   & Adipocytes\\textbar{}B-cells\\textbar{}CD4+ T-cells\\textbar{}CD8+ T-cells\\textbar{}DC\\textbar{}Endothelial cells\\textbar{}Epithelial cells\\textbar{}Erythrocytes\\textbar{}Fibroblasts\\textbar{}HSC\\textbar{}Macrophages\\textbar{}Monocytes\\textbar{}Neutrophils\\textbar{}NK cells                                                                                                                                                                                                                                                                                                                                                                                                                                                               & \\#A6CEE3\\textbar{}\\#3385BB\\textbar{}\\#84BF96\\textbar{}\\#6DBD57\\textbar{}\\#7F9D55\\textbar{}\\#F57C7C\\textbar{}\\#E42622\\textbar{}\\#FBB268\\textbar{}\\#FE8D19\\textbar{}\\#DE9E83\\textbar{}\\#9D7BBA\\textbar{}\\#977899\\textbar{}\\#F3E587\\textbar{}\\#B15928                                                                                                                                                                                                                                                                                 &  4 &  TRUE & FALSE\\\\\n",
       "\t monaco.fine      & monaco.fine      & Central memory CD8 T cells\\textbar{}Classical monocytes\\textbar{}Effector memory CD8 T cells\\textbar{}Exhausted B cells\\textbar{}Follicular helper T cells\\textbar{}Intermediate monocytes\\textbar{}Low-density basophils\\textbar{}Low-density neutrophils\\textbar{}MAIT cells\\textbar{}Myeloid dendritic cells\\textbar{}Naive B cells\\textbar{}Naive CD4 T cells\\textbar{}Natural killer cells\\textbar{}Non classical monocytes\\textbar{}Non-switched memory B cells\\textbar{}Non-Vd2 gd T cells\\textbar{}Plasmablasts\\textbar{}Plasmacytoid dendritic cells\\textbar{}Progenitor cells\\textbar{}Switched memory B cells\\textbar{}T regulatory cells\\textbar{}Terminal effector CD8 T cells\\textbar{}Th1 cells\\textbar{}Th1/Th17 cells\\textbar{}Th17 cells\\textbar{}Th2 cells\\textbar{}Vd2 gd T cells                                                              & \\#A6CEE3\\textbar{}\\#6CA9CF\\textbar{}\\#3385BB\\textbar{}\\#4693A8\\textbar{}\\#84BF96\\textbar{}\\#A3D77F\\textbar{}\\#6DBD57\\textbar{}\\#37A22F\\textbar{}\\#7F9D55\\textbar{}\\#D49B84\\textbar{}\\#F57C7C\\textbar{}\\#EB4647\\textbar{}\\#E42622\\textbar{}\\#F06C45\\textbar{}\\#FBB268\\textbar{}\\#FDA848\\textbar{}\\#FE8D19\\textbar{}\\#F48829\\textbar{}\\#DE9E83\\textbar{}\\#C6ADD3\\textbar{}\\#9D7BBA\\textbar{}\\#754AA0\\textbar{}\\#977899\\textbar{}\\#D6CA99\\textbar{}\\#F3E587\\textbar{}\\#D29F57\\textbar{}\\#B15928                                                                                                                                                                         &  7 &  TRUE & FALSE\\\\\n",
       "\t PC\\_1             & PC1              & NA                                                                                                                                                                                                                                                                                                                                                                                                                                                                                                                                                                                                                       & NA                                                                                                                                                                                                                                                                                                                                                                                              & NA & FALSE &  TRUE\\\\\n",
       "\t PC\\_2             & PC2              & NA                                                                                                                                                                                                                                                                                                                                                                                                                                                                                                                                                                                                                       & NA                                                                                                                                                                                                                                                                                                                                                                                              & NA & FALSE &  TRUE\\\\\n",
       "\t PC\\_3             & PC3              & NA                                                                                                                                                                                                                                                                                                                                                                                                                                                                                                                                                                                                                       & NA                                                                                                                                                                                                                                                                                                                                                                                              & NA & FALSE &  TRUE\\\\\n",
       "\t PC\\_4             & PC4              & NA                                                                                                                                                                                                                                                                                                                                                                                                                                                                                                                                                                                                                       & NA                                                                                                                                                                                                                                                                                                                                                                                              & NA & FALSE &  TRUE\\\\\n",
       "\t PC\\_5             & PC5              & NA                                                                                                                                                                                                                                                                                                                                                                                                                                                                                                                                                                                                                       & NA                                                                                                                                                                                                                                                                                                                                                                                              & NA & FALSE &  TRUE\\\\\n",
       "\t umap\\_1           & umap1            & NA                                                                                                                                                                                                                                                                                                                                                                                                                                                                                                                                                                                                                       & NA                                                                                                                                                                                                                                                                                                                                                                                              & NA & FALSE &  TRUE\\\\\n",
       "\t umap\\_2           & umap2            & NA                                                                                                                                                                                                                                                                                                                                                                                                                                                                                                                                                                                                                       & NA                                                                                                                                                                                                                                                                                                                                                                                              & NA & FALSE &  TRUE\\\\\n",
       "\\end{tabular}\n"
      ],
      "text/markdown": [
       "\n",
       "A data.table: 14 × 7\n",
       "\n",
       "| ID &lt;chr&gt; | UI &lt;chr&gt; | fID &lt;chr&gt; | fCL &lt;chr&gt; | fRow &lt;dbl&gt; | grp &lt;lgl&gt; | dimred &lt;lgl&gt; |\n",
       "|---|---|---|---|---|---|---|\n",
       "| orig.ident       | orig.ident       | SeuratProject                                                                                                                                                                                                                                                                                                                                                                                                                                                                                                                                                                                                            | black                                                                                                                                                                                                                                                                                                                                                                                           |  1 | FALSE | FALSE |\n",
       "| nCount_RNA       | nCount_RNA       | NA                                                                                                                                                                                                                                                                                                                                                                                                                                                                                                                                                                                                                       | NA                                                                                                                                                                                                                                                                                                                                                                                              | NA | FALSE | FALSE |\n",
       "| Stim             | Stim             | Crohn’s disease|healthy control|ulcerative colitis                                                                                                                                                                                                                                                                                                                                                                                                                                                                                                                                                                       | #A6CEE3|#F06C45|#B15928                                                                                                                                                                                                                                                                                                                                                                         |  1 |  TRUE | FALSE |\n",
       "| Gender           | Gender           | Female|Male                                                                                                                                                                                                                                                                                                                                                                                                                                                                                                                                                                                                              | #A6CEE3|#B15928                                                                                                                                                                                                                                                                                                                                                                                 |  1 |  TRUE | FALSE |\n",
       "| Orig.Annotations | Orig.Annotations | BEST4 OTOP2|Colonocyte 1|Colonocyte 2|Cycling cells|Cycling myeloid|Cycling TA|DN EOMES|DN TNF|Endothelium|Enteroendocrine|Epithelium Ribhi|Fibroblasts Ribhi|FRCs|gd IEL|Glia|Goblet|IER fibroblasts|Inflammatory colonocyte|Inflammatory fibroblasts|Inflammatory monocytes|Laminin colonocytes|Lymphatic endothelium|M2.2|MAIT|Mast 1|Mast 2|Mast Ribhi|Mature goblet|MT fibroblasts|MT T cells|Neutrophil 1|Neutrophil 2|Neutrophil 3|Paneth-like|PC  immediate early response|PC IgG 2|PC IGLL5|Pericytes|Plasmablast IgG|Plasmablast IgG Lambda|PLCG2 colonocytes|S1|S1 Ribhi|S1.2|S2a|S2b|S3|Secretory progenitor | #A6CEE3|#86B9D8|#66A5CD|#4791C2|#277DB7|#3889AC|#5AA1A3|#7CB999|#9FD18F|#A4D880|#86C969|#69BA53|#4BAC3E|#3B9F30|#6A9E4A|#999C63|#C79B7D|#F69A96|#F57E7E|#F06061|#EA4243|#E52426|#E63228|#EC593B|#F37F4F|#F9A662|#FDB965|#FDAA4B|#FE9B31|#FE8C17|#FD8004|#F18C36|#E59768|#D8A39A|#CCAFCC|#B79BCA|#A180BC|#8A64AE|#7449A0|#7D5599|#9F8399|#C2B099|#E5DD99|#FAF491|#E7CD77|#D5A65C|#C37F42|#B15928 | 12 |  TRUE | FALSE |\n",
       "| blueprint.main   | blueprint.main   | Adipocytes|B-cells|CD4+ T-cells|CD8+ T-cells|DC|Endothelial cells|Epithelial cells|Erythrocytes|Fibroblasts|HSC|Macrophages|Monocytes|Neutrophils|NK cells                                                                                                                                                                                                                                                                                                                                                                                                                                                               | #A6CEE3|#3385BB|#84BF96|#6DBD57|#7F9D55|#F57C7C|#E42622|#FBB268|#FE8D19|#DE9E83|#9D7BBA|#977899|#F3E587|#B15928                                                                                                                                                                                                                                                                                 |  4 |  TRUE | FALSE |\n",
       "| monaco.fine      | monaco.fine      | Central memory CD8 T cells|Classical monocytes|Effector memory CD8 T cells|Exhausted B cells|Follicular helper T cells|Intermediate monocytes|Low-density basophils|Low-density neutrophils|MAIT cells|Myeloid dendritic cells|Naive B cells|Naive CD4 T cells|Natural killer cells|Non classical monocytes|Non-switched memory B cells|Non-Vd2 gd T cells|Plasmablasts|Plasmacytoid dendritic cells|Progenitor cells|Switched memory B cells|T regulatory cells|Terminal effector CD8 T cells|Th1 cells|Th1/Th17 cells|Th17 cells|Th2 cells|Vd2 gd T cells                                                              | #A6CEE3|#6CA9CF|#3385BB|#4693A8|#84BF96|#A3D77F|#6DBD57|#37A22F|#7F9D55|#D49B84|#F57C7C|#EB4647|#E42622|#F06C45|#FBB268|#FDA848|#FE8D19|#F48829|#DE9E83|#C6ADD3|#9D7BBA|#754AA0|#977899|#D6CA99|#F3E587|#D29F57|#B15928                                                                                                                                                                         |  7 |  TRUE | FALSE |\n",
       "| PC_1             | PC1              | NA                                                                                                                                                                                                                                                                                                                                                                                                                                                                                                                                                                                                                       | NA                                                                                                                                                                                                                                                                                                                                                                                              | NA | FALSE |  TRUE |\n",
       "| PC_2             | PC2              | NA                                                                                                                                                                                                                                                                                                                                                                                                                                                                                                                                                                                                                       | NA                                                                                                                                                                                                                                                                                                                                                                                              | NA | FALSE |  TRUE |\n",
       "| PC_3             | PC3              | NA                                                                                                                                                                                                                                                                                                                                                                                                                                                                                                                                                                                                                       | NA                                                                                                                                                                                                                                                                                                                                                                                              | NA | FALSE |  TRUE |\n",
       "| PC_4             | PC4              | NA                                                                                                                                                                                                                                                                                                                                                                                                                                                                                                                                                                                                                       | NA                                                                                                                                                                                                                                                                                                                                                                                              | NA | FALSE |  TRUE |\n",
       "| PC_5             | PC5              | NA                                                                                                                                                                                                                                                                                                                                                                                                                                                                                                                                                                                                                       | NA                                                                                                                                                                                                                                                                                                                                                                                              | NA | FALSE |  TRUE |\n",
       "| umap_1           | umap1            | NA                                                                                                                                                                                                                                                                                                                                                                                                                                                                                                                                                                                                                       | NA                                                                                                                                                                                                                                                                                                                                                                                              | NA | FALSE |  TRUE |\n",
       "| umap_2           | umap2            | NA                                                                                                                                                                                                                                                                                                                                                                                                                                                                                                                                                                                                                       | NA                                                                                                                                                                                                                                                                                                                                                                                              | NA | FALSE |  TRUE |\n",
       "\n"
      ],
      "text/plain": [
       "   ID               UI              \n",
       "1  orig.ident       orig.ident      \n",
       "2  nCount_RNA       nCount_RNA      \n",
       "3  Stim             Stim            \n",
       "4  Gender           Gender          \n",
       "5  Orig.Annotations Orig.Annotations\n",
       "6  blueprint.main   blueprint.main  \n",
       "7  monaco.fine      monaco.fine     \n",
       "8  PC_1             PC1             \n",
       "9  PC_2             PC2             \n",
       "10 PC_3             PC3             \n",
       "11 PC_4             PC4             \n",
       "12 PC_5             PC5             \n",
       "13 umap_1           umap1           \n",
       "14 umap_2           umap2           \n",
       "   fID                                                                                                                                                                                                                                                                                                                                                                                                                                                                                                                                                                                                                     \n",
       "1  SeuratProject                                                                                                                                                                                                                                                                                                                                                                                                                                                                                                                                                                                                           \n",
       "2  NA                                                                                                                                                                                                                                                                                                                                                                                                                                                                                                                                                                                                                      \n",
       "3  Crohn’s disease|healthy control|ulcerative colitis                                                                                                                                                                                                                                                                                                                                                                                                                                                                                                                                                                      \n",
       "4  Female|Male                                                                                                                                                                                                                                                                                                                                                                                                                                                                                                                                                                                                             \n",
       "5  BEST4 OTOP2|Colonocyte 1|Colonocyte 2|Cycling cells|Cycling myeloid|Cycling TA|DN EOMES|DN TNF|Endothelium|Enteroendocrine|Epithelium Ribhi|Fibroblasts Ribhi|FRCs|gd IEL|Glia|Goblet|IER fibroblasts|Inflammatory colonocyte|Inflammatory fibroblasts|Inflammatory monocytes|Laminin colonocytes|Lymphatic endothelium|M2.2|MAIT|Mast 1|Mast 2|Mast Ribhi|Mature goblet|MT fibroblasts|MT T cells|Neutrophil 1|Neutrophil 2|Neutrophil 3|Paneth-like|PC  immediate early response|PC IgG 2|PC IGLL5|Pericytes|Plasmablast IgG|Plasmablast IgG Lambda|PLCG2 colonocytes|S1|S1 Ribhi|S1.2|S2a|S2b|S3|Secretory progenitor\n",
       "6  Adipocytes|B-cells|CD4+ T-cells|CD8+ T-cells|DC|Endothelial cells|Epithelial cells|Erythrocytes|Fibroblasts|HSC|Macrophages|Monocytes|Neutrophils|NK cells                                                                                                                                                                                                                                                                                                                                                                                                                                                              \n",
       "7  Central memory CD8 T cells|Classical monocytes|Effector memory CD8 T cells|Exhausted B cells|Follicular helper T cells|Intermediate monocytes|Low-density basophils|Low-density neutrophils|MAIT cells|Myeloid dendritic cells|Naive B cells|Naive CD4 T cells|Natural killer cells|Non classical monocytes|Non-switched memory B cells|Non-Vd2 gd T cells|Plasmablasts|Plasmacytoid dendritic cells|Progenitor cells|Switched memory B cells|T regulatory cells|Terminal effector CD8 T cells|Th1 cells|Th1/Th17 cells|Th17 cells|Th2 cells|Vd2 gd T cells                                                             \n",
       "8  NA                                                                                                                                                                                                                                                                                                                                                                                                                                                                                                                                                                                                                      \n",
       "9  NA                                                                                                                                                                                                                                                                                                                                                                                                                                                                                                                                                                                                                      \n",
       "10 NA                                                                                                                                                                                                                                                                                                                                                                                                                                                                                                                                                                                                                      \n",
       "11 NA                                                                                                                                                                                                                                                                                                                                                                                                                                                                                                                                                                                                                      \n",
       "12 NA                                                                                                                                                                                                                                                                                                                                                                                                                                                                                                                                                                                                                      \n",
       "13 NA                                                                                                                                                                                                                                                                                                                                                                                                                                                                                                                                                                                                                      \n",
       "14 NA                                                                                                                                                                                                                                                                                                                                                                                                                                                                                                                                                                                                                      \n",
       "   fCL                                                                                                                                                                                                                                                                                                                                                                                            \n",
       "1  black                                                                                                                                                                                                                                                                                                                                                                                          \n",
       "2  NA                                                                                                                                                                                                                                                                                                                                                                                             \n",
       "3  #A6CEE3|#F06C45|#B15928                                                                                                                                                                                                                                                                                                                                                                        \n",
       "4  #A6CEE3|#B15928                                                                                                                                                                                                                                                                                                                                                                                \n",
       "5  #A6CEE3|#86B9D8|#66A5CD|#4791C2|#277DB7|#3889AC|#5AA1A3|#7CB999|#9FD18F|#A4D880|#86C969|#69BA53|#4BAC3E|#3B9F30|#6A9E4A|#999C63|#C79B7D|#F69A96|#F57E7E|#F06061|#EA4243|#E52426|#E63228|#EC593B|#F37F4F|#F9A662|#FDB965|#FDAA4B|#FE9B31|#FE8C17|#FD8004|#F18C36|#E59768|#D8A39A|#CCAFCC|#B79BCA|#A180BC|#8A64AE|#7449A0|#7D5599|#9F8399|#C2B099|#E5DD99|#FAF491|#E7CD77|#D5A65C|#C37F42|#B15928\n",
       "6  #A6CEE3|#3385BB|#84BF96|#6DBD57|#7F9D55|#F57C7C|#E42622|#FBB268|#FE8D19|#DE9E83|#9D7BBA|#977899|#F3E587|#B15928                                                                                                                                                                                                                                                                                \n",
       "7  #A6CEE3|#6CA9CF|#3385BB|#4693A8|#84BF96|#A3D77F|#6DBD57|#37A22F|#7F9D55|#D49B84|#F57C7C|#EB4647|#E42622|#F06C45|#FBB268|#FDA848|#FE8D19|#F48829|#DE9E83|#C6ADD3|#9D7BBA|#754AA0|#977899|#D6CA99|#F3E587|#D29F57|#B15928                                                                                                                                                                        \n",
       "8  NA                                                                                                                                                                                                                                                                                                                                                                                             \n",
       "9  NA                                                                                                                                                                                                                                                                                                                                                                                             \n",
       "10 NA                                                                                                                                                                                                                                                                                                                                                                                             \n",
       "11 NA                                                                                                                                                                                                                                                                                                                                                                                             \n",
       "12 NA                                                                                                                                                                                                                                                                                                                                                                                             \n",
       "13 NA                                                                                                                                                                                                                                                                                                                                                                                             \n",
       "14 NA                                                                                                                                                                                                                                                                                                                                                                                             \n",
       "   fRow grp   dimred\n",
       "1   1   FALSE FALSE \n",
       "2  NA   FALSE FALSE \n",
       "3   1    TRUE FALSE \n",
       "4   1    TRUE FALSE \n",
       "5  12    TRUE FALSE \n",
       "6   4    TRUE FALSE \n",
       "7   7    TRUE FALSE \n",
       "8  NA   FALSE  TRUE \n",
       "9  NA   FALSE  TRUE \n",
       "10 NA   FALSE  TRUE \n",
       "11 NA   FALSE  TRUE \n",
       "12 NA   FALSE  TRUE \n",
       "13 NA   FALSE  TRUE \n",
       "14 NA   FALSE  TRUE "
      ]
     },
     "metadata": {},
     "output_type": "display_data"
    }
   ],
   "source": [
    "# All stims\n",
    "seu =  obj\n",
    "scConf1 = createConfig(seu)\n",
    "makeShinyFiles(seu, scConf1,\n",
    "             gene.mapping = TRUE,\n",
    "             shiny.prefix = \"sc1\",\n",
    "             shiny.dir = \"colon_UC_crohns_scRNA-seq_GSM6614348/\",\n",
    "             gex.assay = \"SCT\",\n",
    "             default.multigene = present_genes) "
   ]
  },
  {
   "cell_type": "code",
   "execution_count": 46,
   "metadata": {
    "vscode": {
     "languageId": "r"
    }
   },
   "outputs": [
    {
     "name": "stderr",
     "output_type": "stream",
     "text": [
      "PC_ 1 \n",
      "Positive:  IGKC, IGHA1, IGHG1, IGHG3, JCHAIN, IGHA2, IGHG4, IGLC2, IGHGP, IGLC3 \n",
      "\t   MZB1, IGKV3-20, IGHG2, DERL3, IGKV1-5, IGKV4-1, IGLV6-57, IGLV3-1, IGHV1-24, DNAAF1 \n",
      "\t   IGHV1-2, IGHV3-21, XBP1, IGHV3-23, IGLL5, IGHV3-30, BTG2, IGKV1-39, IGLV3-21, HERPUD1 \n",
      "Negative:  HLA-DRA, SOD2, FCER1G, LYZ, HLA-DRB1, TIMP1, HLA-DPB1, S100A9, TYROBP, HLA-DPA1 \n",
      "\t   FTH1, AIF1, S100A8, S100A4, NAMPT, PLAUR, HLA-DRB5, IL1B, CXCL8, IFITM3 \n",
      "\t   BCL2A1, S100A6, C15orf48, HLA-DQB1, VCAN, CCL4, C5AR1, HLA-DQA1, GLUL, S100A11 \n",
      "PC_ 2 \n",
      "Positive:  IGKC, IGHG1, S100A9, LYZ, IGHG3, HLA-DRA, FCER1G, S100A8, TYROBP, AIF1 \n",
      "\t   IL1B, IGHA1, PLAUR, C5AR1, CXCL8, FCN1, SOD2, HLA-DRB1, IL1RN, CD14 \n",
      "\t   CD300E, C15orf48, EREG, IGHG4, NAMPT, HLA-DPA1, BCL2A1, HLA-DPB1, CCL3, TIMP1 \n",
      "Negative:  CCL5, IL32, CD3D, GZMA, NKG7, KLRB1, TRBC1, GZMK, CD2, TRAC \n",
      "\t   TRBC2, DCN, CD3G, LUM, CST7, TMSB4X, CALD1, CD3E, CXCL14, IGFBP7 \n",
      "\t   COL3A1, RARRES2, CD7, COL1A2, GZMB, C1S, CXCR4, IL7R, NNMT, CD52 \n",
      "PC_ 3 \n",
      "Positive:  IFITM3, DCN, LUM, IGFBP7, CALD1, IGKC, CXCL14, RARRES2, COL3A1, COL1A2 \n",
      "\t   S100A6, C1S, IGFBP5, TIMP1, NNMT, C1R, A2M, COL1A1, IGHA1, SPARC \n",
      "\t   TMEM176B, CTSK, COL6A2, COL6A1, POSTN, SOD2, C11orf96, S100A13, ADAMDEC1, TPM2 \n",
      "Negative:  CCL5, CD3D, NKG7, GZMA, HLA-DRA, GZMK, CD52, IL32, TMSB4X, TRBC1 \n",
      "\t   HLA-DPB1, PTPRC, KLRB1, CXCR4, MS4A1, CST7, CD2, HLA-DPA1, TRAC, GZMB \n",
      "\t   TRBC2, HLA-DRB5, LAPTM5, CD3G, CREM, CORO1A, CD3E, HLA-DQB1, CD7, CCL4 \n",
      "PC_ 4 \n",
      "Positive:  IGHG1, IGHG3, IGHG4, IGHGP, IGHG2, IGKC, IGHV1-2, IGKV3-20, IFITM3, IGHV1-69D \n",
      "\t   PTP4A3, MS4A1, IGFBP7, GZMA, CD3D, NKG7, GZMK, IGFBP5, CCND2, TCL1A \n",
      "\t   CALD1, CAV1, RARRES2, CXCL14, RASSF6, CCL5, IGLV3-1, CXCR4, IL32, IGKV3-11 \n",
      "Negative:  IGHA1, JCHAIN, IGHA2, IGLC2, IGLC3, DERL3, LYZ, IGLV3-21, S100A9, FCER1G \n",
      "\t   S100A8, AIF1, C15orf48, TYROBP, IL1B, CCL3, CXCL8, PLCG2, PIGR, IGLV1-47 \n",
      "\t   PLAUR, PHGR1, FTL, IL1RN, KRT8, FCN1, IGLV2-14, IGHV2-5, IGHV1-46, LGALS4 \n",
      "PC_ 5 \n",
      "Positive:  CCL5, NKG7, CCL4, GZMA, CD3D, S100A4, IL32, GZMK, S100A8, S100A9 \n",
      "\t   KLRB1, TRBC1, IL1B, CST7, IGKC, NAMPT, SOD2, CD2, CXCL8, CCL3 \n",
      "\t   FCER1G, SRGN, PLAUR, GZMB, IL7R, FTH1, IL1RN, CD3G, GNLY, TRBC2 \n",
      "Negative:  HLA-DRA, MS4A1, HLA-DPB1, HLA-DPA1, HLA-DRB5, HLA-DQA1, HLA-DQB1, TCL1A, CD22, CD74 \n",
      "\t   HLA-DRB1, HLA-DMB, BCL11A, NEIL1, SMIM14, CD79B, LRMP, STMN1, SWAP70, BANK1 \n",
      "\t   CD83, IGHM, CD72, VPREB3, LAPTM5, IGLC2, CD37, RGS13, BCAS4, HLA-DMA \n",
      "\n",
      "20:39:01 UMAP embedding parameters a = 0.9922 b = 1.112\n",
      "\n",
      "Found more than one class \"dist\" in cache; using the first, from namespace 'spam'\n",
      "\n",
      "Also defined by ‘BiocGenerics’\n",
      "\n",
      "20:39:01 Read 3168 rows and found 20 numeric columns\n",
      "\n",
      "20:39:01 Using Annoy for neighbor search, n_neighbors = 30\n",
      "\n",
      "Found more than one class \"dist\" in cache; using the first, from namespace 'spam'\n",
      "\n",
      "Also defined by ‘BiocGenerics’\n",
      "\n",
      "20:39:01 Building Annoy index with metric = cosine, n_trees = 50\n",
      "\n",
      "0%   10   20   30   40   50   60   70   80   90   100%\n",
      "\n",
      "[----|----|----|----|----|----|----|----|----|----|\n",
      "\n",
      "*\n",
      "*\n",
      "*\n",
      "*\n",
      "*\n",
      "*\n",
      "*\n",
      "*\n",
      "*\n",
      "*\n",
      "*\n",
      "*\n",
      "*\n",
      "*\n",
      "*\n",
      "*\n",
      "*\n",
      "*\n",
      "*\n",
      "*\n",
      "*\n",
      "*\n",
      "*\n",
      "*\n",
      "*\n",
      "*\n",
      "*\n",
      "*\n",
      "*\n",
      "*\n",
      "*\n",
      "*\n",
      "*\n",
      "*\n",
      "*\n",
      "*\n",
      "*\n",
      "*\n",
      "*\n",
      "*\n",
      "*\n",
      "*\n",
      "*\n",
      "*\n",
      "*\n",
      "*\n",
      "*\n",
      "*\n",
      "*\n",
      "*\n",
      "|\n",
      "\n",
      "20:39:01 Writing NN index file to temp file /tmp/RtmpvWYxDr/file1a14534219f22\n",
      "\n",
      "20:39:01 Searching Annoy index using 1 thread, search_k = 3000\n",
      "\n",
      "20:39:02 Annoy recall = 100%\n",
      "\n",
      "20:39:03 Commencing smooth kNN distance calibration using 1 thread\n",
      " with target n_neighbors = 30\n",
      "\n",
      "20:39:05 Initializing from normalized Laplacian + noise (using RSpectra)\n",
      "\n",
      "20:39:05 Commencing optimization for 500 epochs, with 122594 positive edges\n",
      "\n",
      "20:39:09 Optimization finished\n",
      "\n",
      "Computing nearest neighbor graph\n",
      "\n",
      "Computing SNN\n",
      "\n"
     ]
    },
    {
     "name": "stdout",
     "output_type": "stream",
     "text": [
      "Modularity Optimizer version 1.3.0 by Ludo Waltman and Nees Jan van Eck\n",
      "\n",
      "Number of nodes: 3168\n",
      "Number of edges: 89243\n",
      "\n",
      "Running Louvain algorithm...\n",
      "Maximum modularity in 10 random starts: 0.9489\n",
      "Number of communities: 23\n",
      "Elapsed time: 0 seconds\n"
     ]
    },
    {
     "data": {
      "text/html": [
       "<table class=\"dataframe\">\n",
       "<caption>A data.table: 16 × 7</caption>\n",
       "<thead>\n",
       "\t<tr><th scope=col>ID</th><th scope=col>UI</th><th scope=col>fID</th><th scope=col>fCL</th><th scope=col>fRow</th><th scope=col>grp</th><th scope=col>dimred</th></tr>\n",
       "\t<tr><th scope=col>&lt;chr&gt;</th><th scope=col>&lt;chr&gt;</th><th scope=col>&lt;chr&gt;</th><th scope=col>&lt;chr&gt;</th><th scope=col>&lt;dbl&gt;</th><th scope=col>&lt;lgl&gt;</th><th scope=col>&lt;lgl&gt;</th></tr>\n",
       "</thead>\n",
       "<tbody>\n",
       "\t<tr><td>orig.ident      </td><td>orig.ident      </td><td>SeuratProject                                                                                                                                                                                                                                                                                                                                                                                                                                                                                                                                                                                                           </td><td>black                                                                                                                                                                                                                                                                                                                                                                                          </td><td> 1</td><td>FALSE</td><td>FALSE</td></tr>\n",
       "\t<tr><td>nCount_RNA      </td><td>nCount_RNA      </td><td>NA                                                                                                                                                                                                                                                                                                                                                                                                                                                                                                                                                                                                                      </td><td>NA                                                                                                                                                                                                                                                                                                                                                                                             </td><td>NA</td><td>FALSE</td><td>FALSE</td></tr>\n",
       "\t<tr><td>Stim            </td><td>Stim            </td><td>ulcerative colitis                                                                                                                                                                                                                                                                                                                                                                                                                                                                                                                                                                                                      </td><td>black                                                                                                                                                                                                                                                                                                                                                                                          </td><td> 1</td><td>FALSE</td><td>FALSE</td></tr>\n",
       "\t<tr><td>Gender          </td><td>Gender          </td><td>Female|Male                                                                                                                                                                                                                                                                                                                                                                                                                                                                                                                                                                                                             </td><td>#A6CEE3|#B15928                                                                                                                                                                                                                                                                                                                                                                                </td><td> 1</td><td> TRUE</td><td>FALSE</td></tr>\n",
       "\t<tr><td>Orig.Annotations</td><td>Orig.Annotations</td><td>BEST4 OTOP2|Colonocyte 1|Colonocyte 2|Cycling cells|Cycling myeloid|Cycling TA|DN EOMES|DN TNF|Endothelium|Enteroendocrine|Epithelium Ribhi|Fibroblasts Ribhi|FRCs|gd IEL|Glia|Goblet|IER fibroblasts|Inflammatory colonocyte|Inflammatory fibroblasts|Inflammatory monocytes|Laminin colonocytes|Lymphatic endothelium|M2.2|MAIT|Mast 1|Mast 2|Mast Ribhi|Mature goblet|MT fibroblasts|MT T cells|Neutrophil 1|Neutrophil 2|Neutrophil 3|Paneth-like|PC  immediate early response|PC IgG 2|PC IGLL5|Pericytes|Plasmablast IgG|Plasmablast IgG Lambda|PLCG2 colonocytes|S1|S1 Ribhi|S1.2|S2a|S2b|S3|Secretory progenitor</td><td>#A6CEE3|#86B9D8|#66A5CD|#4791C2|#277DB7|#3889AC|#5AA1A3|#7CB999|#9FD18F|#A4D880|#86C969|#69BA53|#4BAC3E|#3B9F30|#6A9E4A|#999C63|#C79B7D|#F69A96|#F57E7E|#F06061|#EA4243|#E52426|#E63228|#EC593B|#F37F4F|#F9A662|#FDB965|#FDAA4B|#FE9B31|#FE8C17|#FD8004|#F18C36|#E59768|#D8A39A|#CCAFCC|#B79BCA|#A180BC|#8A64AE|#7449A0|#7D5599|#9F8399|#C2B099|#E5DD99|#FAF491|#E7CD77|#D5A65C|#C37F42|#B15928</td><td>12</td><td> TRUE</td><td>FALSE</td></tr>\n",
       "\t<tr><td>blueprint.main  </td><td>blueprint.main  </td><td>Adipocytes|B-cells|CD4+ T-cells|CD8+ T-cells|DC|Endothelial cells|Epithelial cells|Erythrocytes|Fibroblasts|HSC|Macrophages|Monocytes|Neutrophils|NK cells                                                                                                                                                                                                                                                                                                                                                                                                                                                              </td><td>#A6CEE3|#3385BB|#84BF96|#6DBD57|#7F9D55|#F57C7C|#E42622|#FBB268|#FE8D19|#DE9E83|#9D7BBA|#977899|#F3E587|#B15928                                                                                                                                                                                                                                                                                </td><td> 4</td><td> TRUE</td><td>FALSE</td></tr>\n",
       "\t<tr><td>monaco.fine     </td><td>monaco.fine     </td><td>Central memory CD8 T cells|Classical monocytes|Effector memory CD8 T cells|Exhausted B cells|Follicular helper T cells|Intermediate monocytes|Low-density basophils|Low-density neutrophils|MAIT cells|Myeloid dendritic cells|Naive B cells|Naive CD4 T cells|Natural killer cells|Non classical monocytes|Non-switched memory B cells|Non-Vd2 gd T cells|Plasmablasts|Plasmacytoid dendritic cells|Progenitor cells|Switched memory B cells|T regulatory cells|Terminal effector CD8 T cells|Th1 cells|Th1/Th17 cells|Th17 cells|Th2 cells|Vd2 gd T cells                                                             </td><td>#A6CEE3|#6CA9CF|#3385BB|#4693A8|#84BF96|#A3D77F|#6DBD57|#37A22F|#7F9D55|#D49B84|#F57C7C|#EB4647|#E42622|#F06C45|#FBB268|#FDA848|#FE8D19|#F48829|#DE9E83|#C6ADD3|#9D7BBA|#754AA0|#977899|#D6CA99|#F3E587|#D29F57|#B15928                                                                                                                                                                        </td><td> 7</td><td> TRUE</td><td>FALSE</td></tr>\n",
       "\t<tr><td>SCT_snn_res.0.5 </td><td>SCT_snn_res.0.5 </td><td>0|1|2|3|4|5|6|7|8|9|10|11|12|13|14|15|16|17|18|19|20|21|22                                                                                                                                                                                                                                                                                                                                                                                                                                                                                                                                                              </td><td>#A6CEE3|#62A3CB|#1F78B4|#68AB9F|#B2DF8A|#72BF5A|#33A02C|#969D62|#FB9A99|#EF595A|#E31A1C|#F06C45|#FDBF6F|#FE9E37|#FF7F00|#E4986B|#CAB2D6|#9A77B8|#6A3D9A|#B49D99|#FFFF99|#D8AC60|#B15928                                                                                                                                                                                                        </td><td> 6</td><td> TRUE</td><td>FALSE</td></tr>\n",
       "\t<tr><td>seurat_clusters </td><td>seurat_clusters </td><td>0|1|2|3|4|5|6|7|8|9|10|11|12|13|14|15|16|17|18|19|20|21|22                                                                                                                                                                                                                                                                                                                                                                                                                                                                                                                                                              </td><td>#A6CEE3|#62A3CB|#1F78B4|#68AB9F|#B2DF8A|#72BF5A|#33A02C|#969D62|#FB9A99|#EF595A|#E31A1C|#F06C45|#FDBF6F|#FE9E37|#FF7F00|#E4986B|#CAB2D6|#9A77B8|#6A3D9A|#B49D99|#FFFF99|#D8AC60|#B15928                                                                                                                                                                                                        </td><td> 6</td><td> TRUE</td><td>FALSE</td></tr>\n",
       "\t<tr><td>PC_1            </td><td>PC1             </td><td>NA                                                                                                                                                                                                                                                                                                                                                                                                                                                                                                                                                                                                                      </td><td>NA                                                                                                                                                                                                                                                                                                                                                                                             </td><td>NA</td><td>FALSE</td><td> TRUE</td></tr>\n",
       "\t<tr><td>PC_2            </td><td>PC2             </td><td>NA                                                                                                                                                                                                                                                                                                                                                                                                                                                                                                                                                                                                                      </td><td>NA                                                                                                                                                                                                                                                                                                                                                                                             </td><td>NA</td><td>FALSE</td><td> TRUE</td></tr>\n",
       "\t<tr><td>PC_3            </td><td>PC3             </td><td>NA                                                                                                                                                                                                                                                                                                                                                                                                                                                                                                                                                                                                                      </td><td>NA                                                                                                                                                                                                                                                                                                                                                                                             </td><td>NA</td><td>FALSE</td><td> TRUE</td></tr>\n",
       "\t<tr><td>PC_4            </td><td>PC4             </td><td>NA                                                                                                                                                                                                                                                                                                                                                                                                                                                                                                                                                                                                                      </td><td>NA                                                                                                                                                                                                                                                                                                                                                                                             </td><td>NA</td><td>FALSE</td><td> TRUE</td></tr>\n",
       "\t<tr><td>PC_5            </td><td>PC5             </td><td>NA                                                                                                                                                                                                                                                                                                                                                                                                                                                                                                                                                                                                                      </td><td>NA                                                                                                                                                                                                                                                                                                                                                                                             </td><td>NA</td><td>FALSE</td><td> TRUE</td></tr>\n",
       "\t<tr><td>umap_1          </td><td>umap1           </td><td>NA                                                                                                                                                                                                                                                                                                                                                                                                                                                                                                                                                                                                                      </td><td>NA                                                                                                                                                                                                                                                                                                                                                                                             </td><td>NA</td><td>FALSE</td><td> TRUE</td></tr>\n",
       "\t<tr><td>umap_2          </td><td>umap2           </td><td>NA                                                                                                                                                                                                                                                                                                                                                                                                                                                                                                                                                                                                                      </td><td>NA                                                                                                                                                                                                                                                                                                                                                                                             </td><td>NA</td><td>FALSE</td><td> TRUE</td></tr>\n",
       "</tbody>\n",
       "</table>\n"
      ],
      "text/latex": [
       "A data.table: 16 × 7\n",
       "\\begin{tabular}{lllllll}\n",
       " ID & UI & fID & fCL & fRow & grp & dimred\\\\\n",
       " <chr> & <chr> & <chr> & <chr> & <dbl> & <lgl> & <lgl>\\\\\n",
       "\\hline\n",
       "\t orig.ident       & orig.ident       & SeuratProject                                                                                                                                                                                                                                                                                                                                                                                                                                                                                                                                                                                                            & black                                                                                                                                                                                                                                                                                                                                                                                           &  1 & FALSE & FALSE\\\\\n",
       "\t nCount\\_RNA       & nCount\\_RNA       & NA                                                                                                                                                                                                                                                                                                                                                                                                                                                                                                                                                                                                                       & NA                                                                                                                                                                                                                                                                                                                                                                                              & NA & FALSE & FALSE\\\\\n",
       "\t Stim             & Stim             & ulcerative colitis                                                                                                                                                                                                                                                                                                                                                                                                                                                                                                                                                                                                       & black                                                                                                                                                                                                                                                                                                                                                                                           &  1 & FALSE & FALSE\\\\\n",
       "\t Gender           & Gender           & Female\\textbar{}Male                                                                                                                                                                                                                                                                                                                                                                                                                                                                                                                                                                                                              & \\#A6CEE3\\textbar{}\\#B15928                                                                                                                                                                                                                                                                                                                                                                                 &  1 &  TRUE & FALSE\\\\\n",
       "\t Orig.Annotations & Orig.Annotations & BEST4 OTOP2\\textbar{}Colonocyte 1\\textbar{}Colonocyte 2\\textbar{}Cycling cells\\textbar{}Cycling myeloid\\textbar{}Cycling TA\\textbar{}DN EOMES\\textbar{}DN TNF\\textbar{}Endothelium\\textbar{}Enteroendocrine\\textbar{}Epithelium Ribhi\\textbar{}Fibroblasts Ribhi\\textbar{}FRCs\\textbar{}gd IEL\\textbar{}Glia\\textbar{}Goblet\\textbar{}IER fibroblasts\\textbar{}Inflammatory colonocyte\\textbar{}Inflammatory fibroblasts\\textbar{}Inflammatory monocytes\\textbar{}Laminin colonocytes\\textbar{}Lymphatic endothelium\\textbar{}M2.2\\textbar{}MAIT\\textbar{}Mast 1\\textbar{}Mast 2\\textbar{}Mast Ribhi\\textbar{}Mature goblet\\textbar{}MT fibroblasts\\textbar{}MT T cells\\textbar{}Neutrophil 1\\textbar{}Neutrophil 2\\textbar{}Neutrophil 3\\textbar{}Paneth-like\\textbar{}PC  immediate early response\\textbar{}PC IgG 2\\textbar{}PC IGLL5\\textbar{}Pericytes\\textbar{}Plasmablast IgG\\textbar{}Plasmablast IgG Lambda\\textbar{}PLCG2 colonocytes\\textbar{}S1\\textbar{}S1 Ribhi\\textbar{}S1.2\\textbar{}S2a\\textbar{}S2b\\textbar{}S3\\textbar{}Secretory progenitor & \\#A6CEE3\\textbar{}\\#86B9D8\\textbar{}\\#66A5CD\\textbar{}\\#4791C2\\textbar{}\\#277DB7\\textbar{}\\#3889AC\\textbar{}\\#5AA1A3\\textbar{}\\#7CB999\\textbar{}\\#9FD18F\\textbar{}\\#A4D880\\textbar{}\\#86C969\\textbar{}\\#69BA53\\textbar{}\\#4BAC3E\\textbar{}\\#3B9F30\\textbar{}\\#6A9E4A\\textbar{}\\#999C63\\textbar{}\\#C79B7D\\textbar{}\\#F69A96\\textbar{}\\#F57E7E\\textbar{}\\#F06061\\textbar{}\\#EA4243\\textbar{}\\#E52426\\textbar{}\\#E63228\\textbar{}\\#EC593B\\textbar{}\\#F37F4F\\textbar{}\\#F9A662\\textbar{}\\#FDB965\\textbar{}\\#FDAA4B\\textbar{}\\#FE9B31\\textbar{}\\#FE8C17\\textbar{}\\#FD8004\\textbar{}\\#F18C36\\textbar{}\\#E59768\\textbar{}\\#D8A39A\\textbar{}\\#CCAFCC\\textbar{}\\#B79BCA\\textbar{}\\#A180BC\\textbar{}\\#8A64AE\\textbar{}\\#7449A0\\textbar{}\\#7D5599\\textbar{}\\#9F8399\\textbar{}\\#C2B099\\textbar{}\\#E5DD99\\textbar{}\\#FAF491\\textbar{}\\#E7CD77\\textbar{}\\#D5A65C\\textbar{}\\#C37F42\\textbar{}\\#B15928 & 12 &  TRUE & FALSE\\\\\n",
       "\t blueprint.main   & blueprint.main   & Adipocytes\\textbar{}B-cells\\textbar{}CD4+ T-cells\\textbar{}CD8+ T-cells\\textbar{}DC\\textbar{}Endothelial cells\\textbar{}Epithelial cells\\textbar{}Erythrocytes\\textbar{}Fibroblasts\\textbar{}HSC\\textbar{}Macrophages\\textbar{}Monocytes\\textbar{}Neutrophils\\textbar{}NK cells                                                                                                                                                                                                                                                                                                                                                                                                                                                               & \\#A6CEE3\\textbar{}\\#3385BB\\textbar{}\\#84BF96\\textbar{}\\#6DBD57\\textbar{}\\#7F9D55\\textbar{}\\#F57C7C\\textbar{}\\#E42622\\textbar{}\\#FBB268\\textbar{}\\#FE8D19\\textbar{}\\#DE9E83\\textbar{}\\#9D7BBA\\textbar{}\\#977899\\textbar{}\\#F3E587\\textbar{}\\#B15928                                                                                                                                                                                                                                                                                 &  4 &  TRUE & FALSE\\\\\n",
       "\t monaco.fine      & monaco.fine      & Central memory CD8 T cells\\textbar{}Classical monocytes\\textbar{}Effector memory CD8 T cells\\textbar{}Exhausted B cells\\textbar{}Follicular helper T cells\\textbar{}Intermediate monocytes\\textbar{}Low-density basophils\\textbar{}Low-density neutrophils\\textbar{}MAIT cells\\textbar{}Myeloid dendritic cells\\textbar{}Naive B cells\\textbar{}Naive CD4 T cells\\textbar{}Natural killer cells\\textbar{}Non classical monocytes\\textbar{}Non-switched memory B cells\\textbar{}Non-Vd2 gd T cells\\textbar{}Plasmablasts\\textbar{}Plasmacytoid dendritic cells\\textbar{}Progenitor cells\\textbar{}Switched memory B cells\\textbar{}T regulatory cells\\textbar{}Terminal effector CD8 T cells\\textbar{}Th1 cells\\textbar{}Th1/Th17 cells\\textbar{}Th17 cells\\textbar{}Th2 cells\\textbar{}Vd2 gd T cells                                                              & \\#A6CEE3\\textbar{}\\#6CA9CF\\textbar{}\\#3385BB\\textbar{}\\#4693A8\\textbar{}\\#84BF96\\textbar{}\\#A3D77F\\textbar{}\\#6DBD57\\textbar{}\\#37A22F\\textbar{}\\#7F9D55\\textbar{}\\#D49B84\\textbar{}\\#F57C7C\\textbar{}\\#EB4647\\textbar{}\\#E42622\\textbar{}\\#F06C45\\textbar{}\\#FBB268\\textbar{}\\#FDA848\\textbar{}\\#FE8D19\\textbar{}\\#F48829\\textbar{}\\#DE9E83\\textbar{}\\#C6ADD3\\textbar{}\\#9D7BBA\\textbar{}\\#754AA0\\textbar{}\\#977899\\textbar{}\\#D6CA99\\textbar{}\\#F3E587\\textbar{}\\#D29F57\\textbar{}\\#B15928                                                                                                                                                                         &  7 &  TRUE & FALSE\\\\\n",
       "\t SCT\\_snn\\_res.0.5  & SCT\\_snn\\_res.0.5  & 0\\textbar{}1\\textbar{}2\\textbar{}3\\textbar{}4\\textbar{}5\\textbar{}6\\textbar{}7\\textbar{}8\\textbar{}9\\textbar{}10\\textbar{}11\\textbar{}12\\textbar{}13\\textbar{}14\\textbar{}15\\textbar{}16\\textbar{}17\\textbar{}18\\textbar{}19\\textbar{}20\\textbar{}21\\textbar{}22                                                                                                                                                                                                                                                                                                                                                                                                                                                                                                                                                               & \\#A6CEE3\\textbar{}\\#62A3CB\\textbar{}\\#1F78B4\\textbar{}\\#68AB9F\\textbar{}\\#B2DF8A\\textbar{}\\#72BF5A\\textbar{}\\#33A02C\\textbar{}\\#969D62\\textbar{}\\#FB9A99\\textbar{}\\#EF595A\\textbar{}\\#E31A1C\\textbar{}\\#F06C45\\textbar{}\\#FDBF6F\\textbar{}\\#FE9E37\\textbar{}\\#FF7F00\\textbar{}\\#E4986B\\textbar{}\\#CAB2D6\\textbar{}\\#9A77B8\\textbar{}\\#6A3D9A\\textbar{}\\#B49D99\\textbar{}\\#FFFF99\\textbar{}\\#D8AC60\\textbar{}\\#B15928                                                                                                                                                                                                         &  6 &  TRUE & FALSE\\\\\n",
       "\t seurat\\_clusters  & seurat\\_clusters  & 0\\textbar{}1\\textbar{}2\\textbar{}3\\textbar{}4\\textbar{}5\\textbar{}6\\textbar{}7\\textbar{}8\\textbar{}9\\textbar{}10\\textbar{}11\\textbar{}12\\textbar{}13\\textbar{}14\\textbar{}15\\textbar{}16\\textbar{}17\\textbar{}18\\textbar{}19\\textbar{}20\\textbar{}21\\textbar{}22                                                                                                                                                                                                                                                                                                                                                                                                                                                                                                                                                               & \\#A6CEE3\\textbar{}\\#62A3CB\\textbar{}\\#1F78B4\\textbar{}\\#68AB9F\\textbar{}\\#B2DF8A\\textbar{}\\#72BF5A\\textbar{}\\#33A02C\\textbar{}\\#969D62\\textbar{}\\#FB9A99\\textbar{}\\#EF595A\\textbar{}\\#E31A1C\\textbar{}\\#F06C45\\textbar{}\\#FDBF6F\\textbar{}\\#FE9E37\\textbar{}\\#FF7F00\\textbar{}\\#E4986B\\textbar{}\\#CAB2D6\\textbar{}\\#9A77B8\\textbar{}\\#6A3D9A\\textbar{}\\#B49D99\\textbar{}\\#FFFF99\\textbar{}\\#D8AC60\\textbar{}\\#B15928                                                                                                                                                                                                         &  6 &  TRUE & FALSE\\\\\n",
       "\t PC\\_1             & PC1              & NA                                                                                                                                                                                                                                                                                                                                                                                                                                                                                                                                                                                                                       & NA                                                                                                                                                                                                                                                                                                                                                                                              & NA & FALSE &  TRUE\\\\\n",
       "\t PC\\_2             & PC2              & NA                                                                                                                                                                                                                                                                                                                                                                                                                                                                                                                                                                                                                       & NA                                                                                                                                                                                                                                                                                                                                                                                              & NA & FALSE &  TRUE\\\\\n",
       "\t PC\\_3             & PC3              & NA                                                                                                                                                                                                                                                                                                                                                                                                                                                                                                                                                                                                                       & NA                                                                                                                                                                                                                                                                                                                                                                                              & NA & FALSE &  TRUE\\\\\n",
       "\t PC\\_4             & PC4              & NA                                                                                                                                                                                                                                                                                                                                                                                                                                                                                                                                                                                                                       & NA                                                                                                                                                                                                                                                                                                                                                                                              & NA & FALSE &  TRUE\\\\\n",
       "\t PC\\_5             & PC5              & NA                                                                                                                                                                                                                                                                                                                                                                                                                                                                                                                                                                                                                       & NA                                                                                                                                                                                                                                                                                                                                                                                              & NA & FALSE &  TRUE\\\\\n",
       "\t umap\\_1           & umap1            & NA                                                                                                                                                                                                                                                                                                                                                                                                                                                                                                                                                                                                                       & NA                                                                                                                                                                                                                                                                                                                                                                                              & NA & FALSE &  TRUE\\\\\n",
       "\t umap\\_2           & umap2            & NA                                                                                                                                                                                                                                                                                                                                                                                                                                                                                                                                                                                                                       & NA                                                                                                                                                                                                                                                                                                                                                                                              & NA & FALSE &  TRUE\\\\\n",
       "\\end{tabular}\n"
      ],
      "text/markdown": [
       "\n",
       "A data.table: 16 × 7\n",
       "\n",
       "| ID &lt;chr&gt; | UI &lt;chr&gt; | fID &lt;chr&gt; | fCL &lt;chr&gt; | fRow &lt;dbl&gt; | grp &lt;lgl&gt; | dimred &lt;lgl&gt; |\n",
       "|---|---|---|---|---|---|---|\n",
       "| orig.ident       | orig.ident       | SeuratProject                                                                                                                                                                                                                                                                                                                                                                                                                                                                                                                                                                                                            | black                                                                                                                                                                                                                                                                                                                                                                                           |  1 | FALSE | FALSE |\n",
       "| nCount_RNA       | nCount_RNA       | NA                                                                                                                                                                                                                                                                                                                                                                                                                                                                                                                                                                                                                       | NA                                                                                                                                                                                                                                                                                                                                                                                              | NA | FALSE | FALSE |\n",
       "| Stim             | Stim             | ulcerative colitis                                                                                                                                                                                                                                                                                                                                                                                                                                                                                                                                                                                                       | black                                                                                                                                                                                                                                                                                                                                                                                           |  1 | FALSE | FALSE |\n",
       "| Gender           | Gender           | Female|Male                                                                                                                                                                                                                                                                                                                                                                                                                                                                                                                                                                                                              | #A6CEE3|#B15928                                                                                                                                                                                                                                                                                                                                                                                 |  1 |  TRUE | FALSE |\n",
       "| Orig.Annotations | Orig.Annotations | BEST4 OTOP2|Colonocyte 1|Colonocyte 2|Cycling cells|Cycling myeloid|Cycling TA|DN EOMES|DN TNF|Endothelium|Enteroendocrine|Epithelium Ribhi|Fibroblasts Ribhi|FRCs|gd IEL|Glia|Goblet|IER fibroblasts|Inflammatory colonocyte|Inflammatory fibroblasts|Inflammatory monocytes|Laminin colonocytes|Lymphatic endothelium|M2.2|MAIT|Mast 1|Mast 2|Mast Ribhi|Mature goblet|MT fibroblasts|MT T cells|Neutrophil 1|Neutrophil 2|Neutrophil 3|Paneth-like|PC  immediate early response|PC IgG 2|PC IGLL5|Pericytes|Plasmablast IgG|Plasmablast IgG Lambda|PLCG2 colonocytes|S1|S1 Ribhi|S1.2|S2a|S2b|S3|Secretory progenitor | #A6CEE3|#86B9D8|#66A5CD|#4791C2|#277DB7|#3889AC|#5AA1A3|#7CB999|#9FD18F|#A4D880|#86C969|#69BA53|#4BAC3E|#3B9F30|#6A9E4A|#999C63|#C79B7D|#F69A96|#F57E7E|#F06061|#EA4243|#E52426|#E63228|#EC593B|#F37F4F|#F9A662|#FDB965|#FDAA4B|#FE9B31|#FE8C17|#FD8004|#F18C36|#E59768|#D8A39A|#CCAFCC|#B79BCA|#A180BC|#8A64AE|#7449A0|#7D5599|#9F8399|#C2B099|#E5DD99|#FAF491|#E7CD77|#D5A65C|#C37F42|#B15928 | 12 |  TRUE | FALSE |\n",
       "| blueprint.main   | blueprint.main   | Adipocytes|B-cells|CD4+ T-cells|CD8+ T-cells|DC|Endothelial cells|Epithelial cells|Erythrocytes|Fibroblasts|HSC|Macrophages|Monocytes|Neutrophils|NK cells                                                                                                                                                                                                                                                                                                                                                                                                                                                               | #A6CEE3|#3385BB|#84BF96|#6DBD57|#7F9D55|#F57C7C|#E42622|#FBB268|#FE8D19|#DE9E83|#9D7BBA|#977899|#F3E587|#B15928                                                                                                                                                                                                                                                                                 |  4 |  TRUE | FALSE |\n",
       "| monaco.fine      | monaco.fine      | Central memory CD8 T cells|Classical monocytes|Effector memory CD8 T cells|Exhausted B cells|Follicular helper T cells|Intermediate monocytes|Low-density basophils|Low-density neutrophils|MAIT cells|Myeloid dendritic cells|Naive B cells|Naive CD4 T cells|Natural killer cells|Non classical monocytes|Non-switched memory B cells|Non-Vd2 gd T cells|Plasmablasts|Plasmacytoid dendritic cells|Progenitor cells|Switched memory B cells|T regulatory cells|Terminal effector CD8 T cells|Th1 cells|Th1/Th17 cells|Th17 cells|Th2 cells|Vd2 gd T cells                                                              | #A6CEE3|#6CA9CF|#3385BB|#4693A8|#84BF96|#A3D77F|#6DBD57|#37A22F|#7F9D55|#D49B84|#F57C7C|#EB4647|#E42622|#F06C45|#FBB268|#FDA848|#FE8D19|#F48829|#DE9E83|#C6ADD3|#9D7BBA|#754AA0|#977899|#D6CA99|#F3E587|#D29F57|#B15928                                                                                                                                                                         |  7 |  TRUE | FALSE |\n",
       "| SCT_snn_res.0.5  | SCT_snn_res.0.5  | 0|1|2|3|4|5|6|7|8|9|10|11|12|13|14|15|16|17|18|19|20|21|22                                                                                                                                                                                                                                                                                                                                                                                                                                                                                                                                                               | #A6CEE3|#62A3CB|#1F78B4|#68AB9F|#B2DF8A|#72BF5A|#33A02C|#969D62|#FB9A99|#EF595A|#E31A1C|#F06C45|#FDBF6F|#FE9E37|#FF7F00|#E4986B|#CAB2D6|#9A77B8|#6A3D9A|#B49D99|#FFFF99|#D8AC60|#B15928                                                                                                                                                                                                         |  6 |  TRUE | FALSE |\n",
       "| seurat_clusters  | seurat_clusters  | 0|1|2|3|4|5|6|7|8|9|10|11|12|13|14|15|16|17|18|19|20|21|22                                                                                                                                                                                                                                                                                                                                                                                                                                                                                                                                                               | #A6CEE3|#62A3CB|#1F78B4|#68AB9F|#B2DF8A|#72BF5A|#33A02C|#969D62|#FB9A99|#EF595A|#E31A1C|#F06C45|#FDBF6F|#FE9E37|#FF7F00|#E4986B|#CAB2D6|#9A77B8|#6A3D9A|#B49D99|#FFFF99|#D8AC60|#B15928                                                                                                                                                                                                         |  6 |  TRUE | FALSE |\n",
       "| PC_1             | PC1              | NA                                                                                                                                                                                                                                                                                                                                                                                                                                                                                                                                                                                                                       | NA                                                                                                                                                                                                                                                                                                                                                                                              | NA | FALSE |  TRUE |\n",
       "| PC_2             | PC2              | NA                                                                                                                                                                                                                                                                                                                                                                                                                                                                                                                                                                                                                       | NA                                                                                                                                                                                                                                                                                                                                                                                              | NA | FALSE |  TRUE |\n",
       "| PC_3             | PC3              | NA                                                                                                                                                                                                                                                                                                                                                                                                                                                                                                                                                                                                                       | NA                                                                                                                                                                                                                                                                                                                                                                                              | NA | FALSE |  TRUE |\n",
       "| PC_4             | PC4              | NA                                                                                                                                                                                                                                                                                                                                                                                                                                                                                                                                                                                                                       | NA                                                                                                                                                                                                                                                                                                                                                                                              | NA | FALSE |  TRUE |\n",
       "| PC_5             | PC5              | NA                                                                                                                                                                                                                                                                                                                                                                                                                                                                                                                                                                                                                       | NA                                                                                                                                                                                                                                                                                                                                                                                              | NA | FALSE |  TRUE |\n",
       "| umap_1           | umap1            | NA                                                                                                                                                                                                                                                                                                                                                                                                                                                                                                                                                                                                                       | NA                                                                                                                                                                                                                                                                                                                                                                                              | NA | FALSE |  TRUE |\n",
       "| umap_2           | umap2            | NA                                                                                                                                                                                                                                                                                                                                                                                                                                                                                                                                                                                                                       | NA                                                                                                                                                                                                                                                                                                                                                                                              | NA | FALSE |  TRUE |\n",
       "\n"
      ],
      "text/plain": [
       "   ID               UI              \n",
       "1  orig.ident       orig.ident      \n",
       "2  nCount_RNA       nCount_RNA      \n",
       "3  Stim             Stim            \n",
       "4  Gender           Gender          \n",
       "5  Orig.Annotations Orig.Annotations\n",
       "6  blueprint.main   blueprint.main  \n",
       "7  monaco.fine      monaco.fine     \n",
       "8  SCT_snn_res.0.5  SCT_snn_res.0.5 \n",
       "9  seurat_clusters  seurat_clusters \n",
       "10 PC_1             PC1             \n",
       "11 PC_2             PC2             \n",
       "12 PC_3             PC3             \n",
       "13 PC_4             PC4             \n",
       "14 PC_5             PC5             \n",
       "15 umap_1           umap1           \n",
       "16 umap_2           umap2           \n",
       "   fID                                                                                                                                                                                                                                                                                                                                                                                                                                                                                                                                                                                                                     \n",
       "1  SeuratProject                                                                                                                                                                                                                                                                                                                                                                                                                                                                                                                                                                                                           \n",
       "2  NA                                                                                                                                                                                                                                                                                                                                                                                                                                                                                                                                                                                                                      \n",
       "3  ulcerative colitis                                                                                                                                                                                                                                                                                                                                                                                                                                                                                                                                                                                                      \n",
       "4  Female|Male                                                                                                                                                                                                                                                                                                                                                                                                                                                                                                                                                                                                             \n",
       "5  BEST4 OTOP2|Colonocyte 1|Colonocyte 2|Cycling cells|Cycling myeloid|Cycling TA|DN EOMES|DN TNF|Endothelium|Enteroendocrine|Epithelium Ribhi|Fibroblasts Ribhi|FRCs|gd IEL|Glia|Goblet|IER fibroblasts|Inflammatory colonocyte|Inflammatory fibroblasts|Inflammatory monocytes|Laminin colonocytes|Lymphatic endothelium|M2.2|MAIT|Mast 1|Mast 2|Mast Ribhi|Mature goblet|MT fibroblasts|MT T cells|Neutrophil 1|Neutrophil 2|Neutrophil 3|Paneth-like|PC  immediate early response|PC IgG 2|PC IGLL5|Pericytes|Plasmablast IgG|Plasmablast IgG Lambda|PLCG2 colonocytes|S1|S1 Ribhi|S1.2|S2a|S2b|S3|Secretory progenitor\n",
       "6  Adipocytes|B-cells|CD4+ T-cells|CD8+ T-cells|DC|Endothelial cells|Epithelial cells|Erythrocytes|Fibroblasts|HSC|Macrophages|Monocytes|Neutrophils|NK cells                                                                                                                                                                                                                                                                                                                                                                                                                                                              \n",
       "7  Central memory CD8 T cells|Classical monocytes|Effector memory CD8 T cells|Exhausted B cells|Follicular helper T cells|Intermediate monocytes|Low-density basophils|Low-density neutrophils|MAIT cells|Myeloid dendritic cells|Naive B cells|Naive CD4 T cells|Natural killer cells|Non classical monocytes|Non-switched memory B cells|Non-Vd2 gd T cells|Plasmablasts|Plasmacytoid dendritic cells|Progenitor cells|Switched memory B cells|T regulatory cells|Terminal effector CD8 T cells|Th1 cells|Th1/Th17 cells|Th17 cells|Th2 cells|Vd2 gd T cells                                                             \n",
       "8  0|1|2|3|4|5|6|7|8|9|10|11|12|13|14|15|16|17|18|19|20|21|22                                                                                                                                                                                                                                                                                                                                                                                                                                                                                                                                                              \n",
       "9  0|1|2|3|4|5|6|7|8|9|10|11|12|13|14|15|16|17|18|19|20|21|22                                                                                                                                                                                                                                                                                                                                                                                                                                                                                                                                                              \n",
       "10 NA                                                                                                                                                                                                                                                                                                                                                                                                                                                                                                                                                                                                                      \n",
       "11 NA                                                                                                                                                                                                                                                                                                                                                                                                                                                                                                                                                                                                                      \n",
       "12 NA                                                                                                                                                                                                                                                                                                                                                                                                                                                                                                                                                                                                                      \n",
       "13 NA                                                                                                                                                                                                                                                                                                                                                                                                                                                                                                                                                                                                                      \n",
       "14 NA                                                                                                                                                                                                                                                                                                                                                                                                                                                                                                                                                                                                                      \n",
       "15 NA                                                                                                                                                                                                                                                                                                                                                                                                                                                                                                                                                                                                                      \n",
       "16 NA                                                                                                                                                                                                                                                                                                                                                                                                                                                                                                                                                                                                                      \n",
       "   fCL                                                                                                                                                                                                                                                                                                                                                                                            \n",
       "1  black                                                                                                                                                                                                                                                                                                                                                                                          \n",
       "2  NA                                                                                                                                                                                                                                                                                                                                                                                             \n",
       "3  black                                                                                                                                                                                                                                                                                                                                                                                          \n",
       "4  #A6CEE3|#B15928                                                                                                                                                                                                                                                                                                                                                                                \n",
       "5  #A6CEE3|#86B9D8|#66A5CD|#4791C2|#277DB7|#3889AC|#5AA1A3|#7CB999|#9FD18F|#A4D880|#86C969|#69BA53|#4BAC3E|#3B9F30|#6A9E4A|#999C63|#C79B7D|#F69A96|#F57E7E|#F06061|#EA4243|#E52426|#E63228|#EC593B|#F37F4F|#F9A662|#FDB965|#FDAA4B|#FE9B31|#FE8C17|#FD8004|#F18C36|#E59768|#D8A39A|#CCAFCC|#B79BCA|#A180BC|#8A64AE|#7449A0|#7D5599|#9F8399|#C2B099|#E5DD99|#FAF491|#E7CD77|#D5A65C|#C37F42|#B15928\n",
       "6  #A6CEE3|#3385BB|#84BF96|#6DBD57|#7F9D55|#F57C7C|#E42622|#FBB268|#FE8D19|#DE9E83|#9D7BBA|#977899|#F3E587|#B15928                                                                                                                                                                                                                                                                                \n",
       "7  #A6CEE3|#6CA9CF|#3385BB|#4693A8|#84BF96|#A3D77F|#6DBD57|#37A22F|#7F9D55|#D49B84|#F57C7C|#EB4647|#E42622|#F06C45|#FBB268|#FDA848|#FE8D19|#F48829|#DE9E83|#C6ADD3|#9D7BBA|#754AA0|#977899|#D6CA99|#F3E587|#D29F57|#B15928                                                                                                                                                                        \n",
       "8  #A6CEE3|#62A3CB|#1F78B4|#68AB9F|#B2DF8A|#72BF5A|#33A02C|#969D62|#FB9A99|#EF595A|#E31A1C|#F06C45|#FDBF6F|#FE9E37|#FF7F00|#E4986B|#CAB2D6|#9A77B8|#6A3D9A|#B49D99|#FFFF99|#D8AC60|#B15928                                                                                                                                                                                                        \n",
       "9  #A6CEE3|#62A3CB|#1F78B4|#68AB9F|#B2DF8A|#72BF5A|#33A02C|#969D62|#FB9A99|#EF595A|#E31A1C|#F06C45|#FDBF6F|#FE9E37|#FF7F00|#E4986B|#CAB2D6|#9A77B8|#6A3D9A|#B49D99|#FFFF99|#D8AC60|#B15928                                                                                                                                                                                                        \n",
       "10 NA                                                                                                                                                                                                                                                                                                                                                                                             \n",
       "11 NA                                                                                                                                                                                                                                                                                                                                                                                             \n",
       "12 NA                                                                                                                                                                                                                                                                                                                                                                                             \n",
       "13 NA                                                                                                                                                                                                                                                                                                                                                                                             \n",
       "14 NA                                                                                                                                                                                                                                                                                                                                                                                             \n",
       "15 NA                                                                                                                                                                                                                                                                                                                                                                                             \n",
       "16 NA                                                                                                                                                                                                                                                                                                                                                                                             \n",
       "   fRow grp   dimred\n",
       "1   1   FALSE FALSE \n",
       "2  NA   FALSE FALSE \n",
       "3   1   FALSE FALSE \n",
       "4   1    TRUE FALSE \n",
       "5  12    TRUE FALSE \n",
       "6   4    TRUE FALSE \n",
       "7   7    TRUE FALSE \n",
       "8   6    TRUE FALSE \n",
       "9   6    TRUE FALSE \n",
       "10 NA   FALSE  TRUE \n",
       "11 NA   FALSE  TRUE \n",
       "12 NA   FALSE  TRUE \n",
       "13 NA   FALSE  TRUE \n",
       "14 NA   FALSE  TRUE \n",
       "15 NA   FALSE  TRUE \n",
       "16 NA   FALSE  TRUE "
      ]
     },
     "metadata": {},
     "output_type": "display_data"
    }
   ],
   "source": [
    "# Ulcerative colitis\n",
    "load(file=file.path('objects', '06.rda'))\n",
    "obj <- subset(obj, subset = Stim == \"ulcerative colitis\")\n",
    "obj <- RunPCA(obj, npcs = 30, verbose = TRUE)\n",
    "obj <- RunUMAP(obj, reduction = \"pca\", dims = 1:20)\n",
    "obj <- FindNeighbors(obj, reduction = \"pca\", dims = 1:20)\n",
    "obj <- FindClusters(obj, resolution = 0.5)\n",
    "\n",
    "save(obj, file=file.path('objects', 'uc.rda'))\n",
    "\n",
    "seu =  obj\n",
    "scConf2 = createConfig(seu)\n",
    "makeShinyFiles(seu, scConf2,\n",
    "             gene.mapping = TRUE,\n",
    "             shiny.prefix = \"sc2\",\n",
    "             shiny.dir = \"colon_UC_crohns_scRNA-seq_GSM6614348/\",\n",
    "             gex.assay = \"SCT\",\n",
    "             default.multigene = present_genes) "
   ]
  },
  {
   "cell_type": "code",
   "execution_count": 47,
   "metadata": {
    "vscode": {
     "languageId": "r"
    }
   },
   "outputs": [
    {
     "name": "stderr",
     "output_type": "stream",
     "text": [
      "PC_ 1 \n",
      "Positive:  IGKC, IGHA1, JCHAIN, IGHA2, IGLC2, IGHG1, IGLC3, IGHG3, IGHG2, IGHM \n",
      "\t   IGHG4, MZB1, IGKV3-20, IGLL5, IGKV4-1, IGHV3-23, DERL3, IGKV3-11, IGLV6-57, IGHV3-7 \n",
      "\t   IGKV1-5, IGLV2-14, IGHGP, DNAAF1, XBP1, HERPUD1, IGLV3-1, IGKV2-30, IGHV3-15, IGKV3-15 \n",
      "Negative:  HLA-DRA, SOD2, LYZ, FTH1, CST3, IER3, TYROBP, FCER1G, AIF1, HLA-DPB1 \n",
      "\t   IL1B, CXCL8, HLA-DRB1, IFITM3, HLA-DPA1, PLAUR, S100A9, PTGS2, CCL3, COL3A1 \n",
      "\t   G0S2, CXCL2, CFD, CXCL14, NAMPT, EGR1, NFKBIA, C15orf48, DCN, BCL2A1 \n",
      "PC_ 2 \n",
      "Positive:  HLA-DRA, LYZ, TYROBP, AIF1, HLA-DPB1, FCER1G, HLA-DPA1, HLA-DRB1, IL1B, CXCL8 \n",
      "\t   FTH1, CCL4, S100A9, CCL3, HLA-DQA1, BCL2A1, HLA-DQB1, PLAUR, CD83, C1QA \n",
      "\t   HLA-DRB5, CCL3L1, IL1RN, CD74, MS4A7, S100A8, CCL4L2, LST1, C1QB, GPR183 \n",
      "Negative:  COL3A1, CXCL14, DCN, COL1A2, LUM, ADAMDEC1, C1S, CALD1, COL1A1, CCL2 \n",
      "\t   A2M, EGR1, CFD, RARRES2, NNMT, IGFBP7, IFITM3, C1R, COL6A1, MFAP4 \n",
      "\t   COL6A2, FOS, FBLN1, CFH, FN1, PTGDS, SPARCL1, TCIM, EDIL3, RND3 \n",
      "PC_ 3 \n",
      "Positive:  IL32, LTB, KLRB1, CCL5, IL7R, TRBC1, CD3D, CXCR4, CD2, CD52 \n",
      "\t   TRBC2, CREM, TNFAIP3, S100A4, GZMA, TRAC, TMSB4X, CD3E, RORA, PTPRC \n",
      "\t   SPOCK2, CD3G, LINC01871, ANXA1, PIK3R1, ETS1, CD7, RPL13, NKG7, CCR6 \n",
      "Negative:  IGKC, IGHA1, JCHAIN, IGHA2, HLA-DRA, LYZ, TYROBP, AIF1, FCER1G, IL1B \n",
      "\t   CXCL8, SOD2, HLA-DPB1, HLA-DPA1, CST3, CCL3, IGLC2, S100A9, IGHG1, PLAUR \n",
      "\t   HLA-DRB1, C1QA, C1QB, G0S2, IGLC3, MS4A7, HLA-DQA1, IL1RN, S100A8, FTL \n",
      "PC_ 4 \n",
      "Positive:  IGKC, IGHA1, CCL5, LTB, IL32, IL7R, KLRB1, COL3A1, DCN, CXCL14 \n",
      "\t   S100A4, CXCR4, LUM, ADAMDEC1, COL1A2, JCHAIN, C1S, TRBC1, CD3D, TNFAIP3 \n",
      "\t   CALD1, CD52, CFD, TMSB4X, CREM, CCL2, A2M, ANXA1, COL1A1, CD2 \n",
      "Negative:  PIGR, PLCG2, PHGR1, ELF3, KRT18, KRT8, LGALS4, MUC4, AGR2, CLDN4 \n",
      "\t   PLA2G2A, CLDN7, MUC12, KRT19, C15orf48, CD24, GPX2, LCN2, IFI27, MUC5B \n",
      "\t   SPINK1, TFF3, SOX4, IER3, OLFM4, EPCAM, CA2, MTRNR2L8, DSP, SMIM22 \n",
      "PC_ 5 \n",
      "Positive:  SOD2, CCL4, S100A8, S100A9, CXCL8, G0S2, IL1B, CCL3, IL1RN, FTH1 \n",
      "\t   C15orf48, BCL2A1, CCL4L2, CCL3L1, NAMPT, NFKBIA, IER3, CXCL2, AQP9, PLEK \n",
      "\t   PTGS2, INHBA, CXCL3, CXCL1, TNFAIP6, PLAUR, TNF, IL1A, IGHA1, TNFAIP3 \n",
      "Negative:  HLA-DPB1, HLA-DRA, HLA-DPA1, HLA-DRB1, C1QA, C1QB, HLA-DQA1, CST3, HLA-DQB1, C1QC \n",
      "\t   CD74, HLA-DRB5, LYZ, AIF1, SELENOP, CPVL, MS4A6A, SLC40A1, FGL2, TMSB4X \n",
      "\t   DNASE1L3, HLA-DMB, MPEG1, CLEC10A, FTL, LGALS2, FUCA1, HLA-DMA, LST1, CHMP1B \n",
      "\n",
      "20:39:24 UMAP embedding parameters a = 0.9922 b = 1.112\n",
      "\n",
      "Found more than one class \"dist\" in cache; using the first, from namespace 'spam'\n",
      "\n",
      "Also defined by ‘BiocGenerics’\n",
      "\n",
      "20:39:24 Read 2495 rows and found 20 numeric columns\n",
      "\n",
      "20:39:24 Using Annoy for neighbor search, n_neighbors = 30\n",
      "\n",
      "Found more than one class \"dist\" in cache; using the first, from namespace 'spam'\n",
      "\n",
      "Also defined by ‘BiocGenerics’\n",
      "\n",
      "20:39:24 Building Annoy index with metric = cosine, n_trees = 50\n",
      "\n",
      "0%   10   20   30   40   50   60   70   80   90   100%\n",
      "\n",
      "[----|----|----|----|----|----|----|----|----|----|\n",
      "\n",
      "*\n",
      "*\n",
      "*\n",
      "*\n",
      "*\n",
      "*\n",
      "*\n",
      "*\n",
      "*\n",
      "*\n",
      "*\n",
      "*\n",
      "*\n",
      "*\n",
      "*\n",
      "*\n",
      "*\n",
      "*\n",
      "*\n",
      "*\n",
      "*\n",
      "*\n",
      "*\n",
      "*\n",
      "*\n",
      "*\n",
      "*\n",
      "*\n",
      "*\n",
      "*\n",
      "*\n",
      "*\n",
      "*\n",
      "*\n",
      "*\n",
      "*\n",
      "*\n",
      "*\n",
      "*\n",
      "*\n",
      "*\n",
      "*\n",
      "*\n",
      "*\n",
      "*\n",
      "*\n",
      "*\n",
      "*\n",
      "*\n",
      "*\n",
      "|\n",
      "\n",
      "20:39:25 Writing NN index file to temp file /tmp/RtmpvWYxDr/file1a145634e78cf\n",
      "\n",
      "20:39:25 Searching Annoy index using 1 thread, search_k = 3000\n",
      "\n",
      "20:39:25 Annoy recall = 100%\n",
      "\n",
      "20:39:26 Commencing smooth kNN distance calibration using 1 thread\n",
      " with target n_neighbors = 30\n",
      "\n",
      "20:39:28 Initializing from normalized Laplacian + noise (using RSpectra)\n",
      "\n",
      "20:39:28 Commencing optimization for 500 epochs, with 96302 positive edges\n",
      "\n",
      "20:39:32 Optimization finished\n",
      "\n",
      "Computing nearest neighbor graph\n",
      "\n",
      "Computing SNN\n",
      "\n"
     ]
    },
    {
     "name": "stdout",
     "output_type": "stream",
     "text": [
      "Modularity Optimizer version 1.3.0 by Ludo Waltman and Nees Jan van Eck\n",
      "\n",
      "Number of nodes: 2495\n",
      "Number of edges: 73895\n",
      "\n",
      "Running Louvain algorithm...\n",
      "Maximum modularity in 10 random starts: 0.9277\n",
      "Number of communities: 15\n",
      "Elapsed time: 0 seconds\n"
     ]
    },
    {
     "data": {
      "text/html": [
       "<table class=\"dataframe\">\n",
       "<caption>A data.table: 16 × 7</caption>\n",
       "<thead>\n",
       "\t<tr><th scope=col>ID</th><th scope=col>UI</th><th scope=col>fID</th><th scope=col>fCL</th><th scope=col>fRow</th><th scope=col>grp</th><th scope=col>dimred</th></tr>\n",
       "\t<tr><th scope=col>&lt;chr&gt;</th><th scope=col>&lt;chr&gt;</th><th scope=col>&lt;chr&gt;</th><th scope=col>&lt;chr&gt;</th><th scope=col>&lt;dbl&gt;</th><th scope=col>&lt;lgl&gt;</th><th scope=col>&lt;lgl&gt;</th></tr>\n",
       "</thead>\n",
       "<tbody>\n",
       "\t<tr><td>orig.ident      </td><td>orig.ident      </td><td>SeuratProject                                                                                                                                                                                                                                                                                                                                                                                                                                                                                                                                                                                                           </td><td>black                                                                                                                                                                                                                                                                                                                                                                                          </td><td> 1</td><td>FALSE</td><td>FALSE</td></tr>\n",
       "\t<tr><td>nCount_RNA      </td><td>nCount_RNA      </td><td>NA                                                                                                                                                                                                                                                                                                                                                                                                                                                                                                                                                                                                                      </td><td>NA                                                                                                                                                                                                                                                                                                                                                                                             </td><td>NA</td><td>FALSE</td><td>FALSE</td></tr>\n",
       "\t<tr><td>Stim            </td><td>Stim            </td><td>Crohn’s disease                                                                                                                                                                                                                                                                                                                                                                                                                                                                                                                                                                                                         </td><td>black                                                                                                                                                                                                                                                                                                                                                                                          </td><td> 1</td><td>FALSE</td><td>FALSE</td></tr>\n",
       "\t<tr><td>Gender          </td><td>Gender          </td><td>Female|Male                                                                                                                                                                                                                                                                                                                                                                                                                                                                                                                                                                                                             </td><td>#A6CEE3|#B15928                                                                                                                                                                                                                                                                                                                                                                                </td><td> 1</td><td> TRUE</td><td>FALSE</td></tr>\n",
       "\t<tr><td>Orig.Annotations</td><td>Orig.Annotations</td><td>BEST4 OTOP2|Colonocyte 1|Colonocyte 2|Cycling cells|Cycling myeloid|Cycling TA|DN EOMES|DN TNF|Endothelium|Enteroendocrine|Epithelium Ribhi|Fibroblasts Ribhi|FRCs|gd IEL|Glia|Goblet|IER fibroblasts|Inflammatory colonocyte|Inflammatory fibroblasts|Inflammatory monocytes|Laminin colonocytes|Lymphatic endothelium|M2.2|MAIT|Mast 1|Mast 2|Mast Ribhi|Mature goblet|MT fibroblasts|MT T cells|Neutrophil 1|Neutrophil 2|Neutrophil 3|Paneth-like|PC  immediate early response|PC IgG 2|PC IGLL5|Pericytes|Plasmablast IgG|Plasmablast IgG Lambda|PLCG2 colonocytes|S1|S1 Ribhi|S1.2|S2a|S2b|S3|Secretory progenitor</td><td>#A6CEE3|#86B9D8|#66A5CD|#4791C2|#277DB7|#3889AC|#5AA1A3|#7CB999|#9FD18F|#A4D880|#86C969|#69BA53|#4BAC3E|#3B9F30|#6A9E4A|#999C63|#C79B7D|#F69A96|#F57E7E|#F06061|#EA4243|#E52426|#E63228|#EC593B|#F37F4F|#F9A662|#FDB965|#FDAA4B|#FE9B31|#FE8C17|#FD8004|#F18C36|#E59768|#D8A39A|#CCAFCC|#B79BCA|#A180BC|#8A64AE|#7449A0|#7D5599|#9F8399|#C2B099|#E5DD99|#FAF491|#E7CD77|#D5A65C|#C37F42|#B15928</td><td>12</td><td> TRUE</td><td>FALSE</td></tr>\n",
       "\t<tr><td>blueprint.main  </td><td>blueprint.main  </td><td>Adipocytes|B-cells|CD4+ T-cells|CD8+ T-cells|DC|Endothelial cells|Epithelial cells|Erythrocytes|Fibroblasts|HSC|Macrophages|Monocytes|Neutrophils|NK cells                                                                                                                                                                                                                                                                                                                                                                                                                                                              </td><td>#A6CEE3|#3385BB|#84BF96|#6DBD57|#7F9D55|#F57C7C|#E42622|#FBB268|#FE8D19|#DE9E83|#9D7BBA|#977899|#F3E587|#B15928                                                                                                                                                                                                                                                                                </td><td> 4</td><td> TRUE</td><td>FALSE</td></tr>\n",
       "\t<tr><td>monaco.fine     </td><td>monaco.fine     </td><td>Central memory CD8 T cells|Classical monocytes|Effector memory CD8 T cells|Exhausted B cells|Follicular helper T cells|Intermediate monocytes|Low-density basophils|Low-density neutrophils|MAIT cells|Myeloid dendritic cells|Naive B cells|Naive CD4 T cells|Natural killer cells|Non classical monocytes|Non-switched memory B cells|Non-Vd2 gd T cells|Plasmablasts|Plasmacytoid dendritic cells|Progenitor cells|Switched memory B cells|T regulatory cells|Terminal effector CD8 T cells|Th1 cells|Th1/Th17 cells|Th17 cells|Th2 cells|Vd2 gd T cells                                                             </td><td>#A6CEE3|#6CA9CF|#3385BB|#4693A8|#84BF96|#A3D77F|#6DBD57|#37A22F|#7F9D55|#D49B84|#F57C7C|#EB4647|#E42622|#F06C45|#FBB268|#FDA848|#FE8D19|#F48829|#DE9E83|#C6ADD3|#9D7BBA|#754AA0|#977899|#D6CA99|#F3E587|#D29F57|#B15928                                                                                                                                                                        </td><td> 7</td><td> TRUE</td><td>FALSE</td></tr>\n",
       "\t<tr><td>SCT_snn_res.0.5 </td><td>SCT_snn_res.0.5 </td><td>0|1|2|3|4|5|6|7|8|9|10|11|12|13|14                                                                                                                                                                                                                                                                                                                                                                                                                                                                                                                                                                                      </td><td>#A6CEE3|#3B8ABE|#72B29C|#84C868|#4F9F3B|#EC9A91|#E93E3F|#F06C45|#FDAC4F|#FB820F|#D1AAB7|#8C66AF|#A99099|#EEDB80|#B15928                                                                                                                                                                                                                                                                        </td><td> 4</td><td> TRUE</td><td>FALSE</td></tr>\n",
       "\t<tr><td>seurat_clusters </td><td>seurat_clusters </td><td>0|1|2|3|4|5|6|7|8|9|10|11|12|13|14                                                                                                                                                                                                                                                                                                                                                                                                                                                                                                                                                                                      </td><td>#A6CEE3|#3B8ABE|#72B29C|#84C868|#4F9F3B|#EC9A91|#E93E3F|#F06C45|#FDAC4F|#FB820F|#D1AAB7|#8C66AF|#A99099|#EEDB80|#B15928                                                                                                                                                                                                                                                                        </td><td> 4</td><td> TRUE</td><td>FALSE</td></tr>\n",
       "\t<tr><td>PC_1            </td><td>PC1             </td><td>NA                                                                                                                                                                                                                                                                                                                                                                                                                                                                                                                                                                                                                      </td><td>NA                                                                                                                                                                                                                                                                                                                                                                                             </td><td>NA</td><td>FALSE</td><td> TRUE</td></tr>\n",
       "\t<tr><td>PC_2            </td><td>PC2             </td><td>NA                                                                                                                                                                                                                                                                                                                                                                                                                                                                                                                                                                                                                      </td><td>NA                                                                                                                                                                                                                                                                                                                                                                                             </td><td>NA</td><td>FALSE</td><td> TRUE</td></tr>\n",
       "\t<tr><td>PC_3            </td><td>PC3             </td><td>NA                                                                                                                                                                                                                                                                                                                                                                                                                                                                                                                                                                                                                      </td><td>NA                                                                                                                                                                                                                                                                                                                                                                                             </td><td>NA</td><td>FALSE</td><td> TRUE</td></tr>\n",
       "\t<tr><td>PC_4            </td><td>PC4             </td><td>NA                                                                                                                                                                                                                                                                                                                                                                                                                                                                                                                                                                                                                      </td><td>NA                                                                                                                                                                                                                                                                                                                                                                                             </td><td>NA</td><td>FALSE</td><td> TRUE</td></tr>\n",
       "\t<tr><td>PC_5            </td><td>PC5             </td><td>NA                                                                                                                                                                                                                                                                                                                                                                                                                                                                                                                                                                                                                      </td><td>NA                                                                                                                                                                                                                                                                                                                                                                                             </td><td>NA</td><td>FALSE</td><td> TRUE</td></tr>\n",
       "\t<tr><td>umap_1          </td><td>umap1           </td><td>NA                                                                                                                                                                                                                                                                                                                                                                                                                                                                                                                                                                                                                      </td><td>NA                                                                                                                                                                                                                                                                                                                                                                                             </td><td>NA</td><td>FALSE</td><td> TRUE</td></tr>\n",
       "\t<tr><td>umap_2          </td><td>umap2           </td><td>NA                                                                                                                                                                                                                                                                                                                                                                                                                                                                                                                                                                                                                      </td><td>NA                                                                                                                                                                                                                                                                                                                                                                                             </td><td>NA</td><td>FALSE</td><td> TRUE</td></tr>\n",
       "</tbody>\n",
       "</table>\n"
      ],
      "text/latex": [
       "A data.table: 16 × 7\n",
       "\\begin{tabular}{lllllll}\n",
       " ID & UI & fID & fCL & fRow & grp & dimred\\\\\n",
       " <chr> & <chr> & <chr> & <chr> & <dbl> & <lgl> & <lgl>\\\\\n",
       "\\hline\n",
       "\t orig.ident       & orig.ident       & SeuratProject                                                                                                                                                                                                                                                                                                                                                                                                                                                                                                                                                                                                            & black                                                                                                                                                                                                                                                                                                                                                                                           &  1 & FALSE & FALSE\\\\\n",
       "\t nCount\\_RNA       & nCount\\_RNA       & NA                                                                                                                                                                                                                                                                                                                                                                                                                                                                                                                                                                                                                       & NA                                                                                                                                                                                                                                                                                                                                                                                              & NA & FALSE & FALSE\\\\\n",
       "\t Stim             & Stim             & Crohn’s disease                                                                                                                                                                                                                                                                                                                                                                                                                                                                                                                                                                                                          & black                                                                                                                                                                                                                                                                                                                                                                                           &  1 & FALSE & FALSE\\\\\n",
       "\t Gender           & Gender           & Female\\textbar{}Male                                                                                                                                                                                                                                                                                                                                                                                                                                                                                                                                                                                                              & \\#A6CEE3\\textbar{}\\#B15928                                                                                                                                                                                                                                                                                                                                                                                 &  1 &  TRUE & FALSE\\\\\n",
       "\t Orig.Annotations & Orig.Annotations & BEST4 OTOP2\\textbar{}Colonocyte 1\\textbar{}Colonocyte 2\\textbar{}Cycling cells\\textbar{}Cycling myeloid\\textbar{}Cycling TA\\textbar{}DN EOMES\\textbar{}DN TNF\\textbar{}Endothelium\\textbar{}Enteroendocrine\\textbar{}Epithelium Ribhi\\textbar{}Fibroblasts Ribhi\\textbar{}FRCs\\textbar{}gd IEL\\textbar{}Glia\\textbar{}Goblet\\textbar{}IER fibroblasts\\textbar{}Inflammatory colonocyte\\textbar{}Inflammatory fibroblasts\\textbar{}Inflammatory monocytes\\textbar{}Laminin colonocytes\\textbar{}Lymphatic endothelium\\textbar{}M2.2\\textbar{}MAIT\\textbar{}Mast 1\\textbar{}Mast 2\\textbar{}Mast Ribhi\\textbar{}Mature goblet\\textbar{}MT fibroblasts\\textbar{}MT T cells\\textbar{}Neutrophil 1\\textbar{}Neutrophil 2\\textbar{}Neutrophil 3\\textbar{}Paneth-like\\textbar{}PC  immediate early response\\textbar{}PC IgG 2\\textbar{}PC IGLL5\\textbar{}Pericytes\\textbar{}Plasmablast IgG\\textbar{}Plasmablast IgG Lambda\\textbar{}PLCG2 colonocytes\\textbar{}S1\\textbar{}S1 Ribhi\\textbar{}S1.2\\textbar{}S2a\\textbar{}S2b\\textbar{}S3\\textbar{}Secretory progenitor & \\#A6CEE3\\textbar{}\\#86B9D8\\textbar{}\\#66A5CD\\textbar{}\\#4791C2\\textbar{}\\#277DB7\\textbar{}\\#3889AC\\textbar{}\\#5AA1A3\\textbar{}\\#7CB999\\textbar{}\\#9FD18F\\textbar{}\\#A4D880\\textbar{}\\#86C969\\textbar{}\\#69BA53\\textbar{}\\#4BAC3E\\textbar{}\\#3B9F30\\textbar{}\\#6A9E4A\\textbar{}\\#999C63\\textbar{}\\#C79B7D\\textbar{}\\#F69A96\\textbar{}\\#F57E7E\\textbar{}\\#F06061\\textbar{}\\#EA4243\\textbar{}\\#E52426\\textbar{}\\#E63228\\textbar{}\\#EC593B\\textbar{}\\#F37F4F\\textbar{}\\#F9A662\\textbar{}\\#FDB965\\textbar{}\\#FDAA4B\\textbar{}\\#FE9B31\\textbar{}\\#FE8C17\\textbar{}\\#FD8004\\textbar{}\\#F18C36\\textbar{}\\#E59768\\textbar{}\\#D8A39A\\textbar{}\\#CCAFCC\\textbar{}\\#B79BCA\\textbar{}\\#A180BC\\textbar{}\\#8A64AE\\textbar{}\\#7449A0\\textbar{}\\#7D5599\\textbar{}\\#9F8399\\textbar{}\\#C2B099\\textbar{}\\#E5DD99\\textbar{}\\#FAF491\\textbar{}\\#E7CD77\\textbar{}\\#D5A65C\\textbar{}\\#C37F42\\textbar{}\\#B15928 & 12 &  TRUE & FALSE\\\\\n",
       "\t blueprint.main   & blueprint.main   & Adipocytes\\textbar{}B-cells\\textbar{}CD4+ T-cells\\textbar{}CD8+ T-cells\\textbar{}DC\\textbar{}Endothelial cells\\textbar{}Epithelial cells\\textbar{}Erythrocytes\\textbar{}Fibroblasts\\textbar{}HSC\\textbar{}Macrophages\\textbar{}Monocytes\\textbar{}Neutrophils\\textbar{}NK cells                                                                                                                                                                                                                                                                                                                                                                                                                                                               & \\#A6CEE3\\textbar{}\\#3385BB\\textbar{}\\#84BF96\\textbar{}\\#6DBD57\\textbar{}\\#7F9D55\\textbar{}\\#F57C7C\\textbar{}\\#E42622\\textbar{}\\#FBB268\\textbar{}\\#FE8D19\\textbar{}\\#DE9E83\\textbar{}\\#9D7BBA\\textbar{}\\#977899\\textbar{}\\#F3E587\\textbar{}\\#B15928                                                                                                                                                                                                                                                                                 &  4 &  TRUE & FALSE\\\\\n",
       "\t monaco.fine      & monaco.fine      & Central memory CD8 T cells\\textbar{}Classical monocytes\\textbar{}Effector memory CD8 T cells\\textbar{}Exhausted B cells\\textbar{}Follicular helper T cells\\textbar{}Intermediate monocytes\\textbar{}Low-density basophils\\textbar{}Low-density neutrophils\\textbar{}MAIT cells\\textbar{}Myeloid dendritic cells\\textbar{}Naive B cells\\textbar{}Naive CD4 T cells\\textbar{}Natural killer cells\\textbar{}Non classical monocytes\\textbar{}Non-switched memory B cells\\textbar{}Non-Vd2 gd T cells\\textbar{}Plasmablasts\\textbar{}Plasmacytoid dendritic cells\\textbar{}Progenitor cells\\textbar{}Switched memory B cells\\textbar{}T regulatory cells\\textbar{}Terminal effector CD8 T cells\\textbar{}Th1 cells\\textbar{}Th1/Th17 cells\\textbar{}Th17 cells\\textbar{}Th2 cells\\textbar{}Vd2 gd T cells                                                              & \\#A6CEE3\\textbar{}\\#6CA9CF\\textbar{}\\#3385BB\\textbar{}\\#4693A8\\textbar{}\\#84BF96\\textbar{}\\#A3D77F\\textbar{}\\#6DBD57\\textbar{}\\#37A22F\\textbar{}\\#7F9D55\\textbar{}\\#D49B84\\textbar{}\\#F57C7C\\textbar{}\\#EB4647\\textbar{}\\#E42622\\textbar{}\\#F06C45\\textbar{}\\#FBB268\\textbar{}\\#FDA848\\textbar{}\\#FE8D19\\textbar{}\\#F48829\\textbar{}\\#DE9E83\\textbar{}\\#C6ADD3\\textbar{}\\#9D7BBA\\textbar{}\\#754AA0\\textbar{}\\#977899\\textbar{}\\#D6CA99\\textbar{}\\#F3E587\\textbar{}\\#D29F57\\textbar{}\\#B15928                                                                                                                                                                         &  7 &  TRUE & FALSE\\\\\n",
       "\t SCT\\_snn\\_res.0.5  & SCT\\_snn\\_res.0.5  & 0\\textbar{}1\\textbar{}2\\textbar{}3\\textbar{}4\\textbar{}5\\textbar{}6\\textbar{}7\\textbar{}8\\textbar{}9\\textbar{}10\\textbar{}11\\textbar{}12\\textbar{}13\\textbar{}14                                                                                                                                                                                                                                                                                                                                                                                                                                                                                                                                                                                       & \\#A6CEE3\\textbar{}\\#3B8ABE\\textbar{}\\#72B29C\\textbar{}\\#84C868\\textbar{}\\#4F9F3B\\textbar{}\\#EC9A91\\textbar{}\\#E93E3F\\textbar{}\\#F06C45\\textbar{}\\#FDAC4F\\textbar{}\\#FB820F\\textbar{}\\#D1AAB7\\textbar{}\\#8C66AF\\textbar{}\\#A99099\\textbar{}\\#EEDB80\\textbar{}\\#B15928                                                                                                                                                                                                                                                                         &  4 &  TRUE & FALSE\\\\\n",
       "\t seurat\\_clusters  & seurat\\_clusters  & 0\\textbar{}1\\textbar{}2\\textbar{}3\\textbar{}4\\textbar{}5\\textbar{}6\\textbar{}7\\textbar{}8\\textbar{}9\\textbar{}10\\textbar{}11\\textbar{}12\\textbar{}13\\textbar{}14                                                                                                                                                                                                                                                                                                                                                                                                                                                                                                                                                                                       & \\#A6CEE3\\textbar{}\\#3B8ABE\\textbar{}\\#72B29C\\textbar{}\\#84C868\\textbar{}\\#4F9F3B\\textbar{}\\#EC9A91\\textbar{}\\#E93E3F\\textbar{}\\#F06C45\\textbar{}\\#FDAC4F\\textbar{}\\#FB820F\\textbar{}\\#D1AAB7\\textbar{}\\#8C66AF\\textbar{}\\#A99099\\textbar{}\\#EEDB80\\textbar{}\\#B15928                                                                                                                                                                                                                                                                         &  4 &  TRUE & FALSE\\\\\n",
       "\t PC\\_1             & PC1              & NA                                                                                                                                                                                                                                                                                                                                                                                                                                                                                                                                                                                                                       & NA                                                                                                                                                                                                                                                                                                                                                                                              & NA & FALSE &  TRUE\\\\\n",
       "\t PC\\_2             & PC2              & NA                                                                                                                                                                                                                                                                                                                                                                                                                                                                                                                                                                                                                       & NA                                                                                                                                                                                                                                                                                                                                                                                              & NA & FALSE &  TRUE\\\\\n",
       "\t PC\\_3             & PC3              & NA                                                                                                                                                                                                                                                                                                                                                                                                                                                                                                                                                                                                                       & NA                                                                                                                                                                                                                                                                                                                                                                                              & NA & FALSE &  TRUE\\\\\n",
       "\t PC\\_4             & PC4              & NA                                                                                                                                                                                                                                                                                                                                                                                                                                                                                                                                                                                                                       & NA                                                                                                                                                                                                                                                                                                                                                                                              & NA & FALSE &  TRUE\\\\\n",
       "\t PC\\_5             & PC5              & NA                                                                                                                                                                                                                                                                                                                                                                                                                                                                                                                                                                                                                       & NA                                                                                                                                                                                                                                                                                                                                                                                              & NA & FALSE &  TRUE\\\\\n",
       "\t umap\\_1           & umap1            & NA                                                                                                                                                                                                                                                                                                                                                                                                                                                                                                                                                                                                                       & NA                                                                                                                                                                                                                                                                                                                                                                                              & NA & FALSE &  TRUE\\\\\n",
       "\t umap\\_2           & umap2            & NA                                                                                                                                                                                                                                                                                                                                                                                                                                                                                                                                                                                                                       & NA                                                                                                                                                                                                                                                                                                                                                                                              & NA & FALSE &  TRUE\\\\\n",
       "\\end{tabular}\n"
      ],
      "text/markdown": [
       "\n",
       "A data.table: 16 × 7\n",
       "\n",
       "| ID &lt;chr&gt; | UI &lt;chr&gt; | fID &lt;chr&gt; | fCL &lt;chr&gt; | fRow &lt;dbl&gt; | grp &lt;lgl&gt; | dimred &lt;lgl&gt; |\n",
       "|---|---|---|---|---|---|---|\n",
       "| orig.ident       | orig.ident       | SeuratProject                                                                                                                                                                                                                                                                                                                                                                                                                                                                                                                                                                                                            | black                                                                                                                                                                                                                                                                                                                                                                                           |  1 | FALSE | FALSE |\n",
       "| nCount_RNA       | nCount_RNA       | NA                                                                                                                                                                                                                                                                                                                                                                                                                                                                                                                                                                                                                       | NA                                                                                                                                                                                                                                                                                                                                                                                              | NA | FALSE | FALSE |\n",
       "| Stim             | Stim             | Crohn’s disease                                                                                                                                                                                                                                                                                                                                                                                                                                                                                                                                                                                                          | black                                                                                                                                                                                                                                                                                                                                                                                           |  1 | FALSE | FALSE |\n",
       "| Gender           | Gender           | Female|Male                                                                                                                                                                                                                                                                                                                                                                                                                                                                                                                                                                                                              | #A6CEE3|#B15928                                                                                                                                                                                                                                                                                                                                                                                 |  1 |  TRUE | FALSE |\n",
       "| Orig.Annotations | Orig.Annotations | BEST4 OTOP2|Colonocyte 1|Colonocyte 2|Cycling cells|Cycling myeloid|Cycling TA|DN EOMES|DN TNF|Endothelium|Enteroendocrine|Epithelium Ribhi|Fibroblasts Ribhi|FRCs|gd IEL|Glia|Goblet|IER fibroblasts|Inflammatory colonocyte|Inflammatory fibroblasts|Inflammatory monocytes|Laminin colonocytes|Lymphatic endothelium|M2.2|MAIT|Mast 1|Mast 2|Mast Ribhi|Mature goblet|MT fibroblasts|MT T cells|Neutrophil 1|Neutrophil 2|Neutrophil 3|Paneth-like|PC  immediate early response|PC IgG 2|PC IGLL5|Pericytes|Plasmablast IgG|Plasmablast IgG Lambda|PLCG2 colonocytes|S1|S1 Ribhi|S1.2|S2a|S2b|S3|Secretory progenitor | #A6CEE3|#86B9D8|#66A5CD|#4791C2|#277DB7|#3889AC|#5AA1A3|#7CB999|#9FD18F|#A4D880|#86C969|#69BA53|#4BAC3E|#3B9F30|#6A9E4A|#999C63|#C79B7D|#F69A96|#F57E7E|#F06061|#EA4243|#E52426|#E63228|#EC593B|#F37F4F|#F9A662|#FDB965|#FDAA4B|#FE9B31|#FE8C17|#FD8004|#F18C36|#E59768|#D8A39A|#CCAFCC|#B79BCA|#A180BC|#8A64AE|#7449A0|#7D5599|#9F8399|#C2B099|#E5DD99|#FAF491|#E7CD77|#D5A65C|#C37F42|#B15928 | 12 |  TRUE | FALSE |\n",
       "| blueprint.main   | blueprint.main   | Adipocytes|B-cells|CD4+ T-cells|CD8+ T-cells|DC|Endothelial cells|Epithelial cells|Erythrocytes|Fibroblasts|HSC|Macrophages|Monocytes|Neutrophils|NK cells                                                                                                                                                                                                                                                                                                                                                                                                                                                               | #A6CEE3|#3385BB|#84BF96|#6DBD57|#7F9D55|#F57C7C|#E42622|#FBB268|#FE8D19|#DE9E83|#9D7BBA|#977899|#F3E587|#B15928                                                                                                                                                                                                                                                                                 |  4 |  TRUE | FALSE |\n",
       "| monaco.fine      | monaco.fine      | Central memory CD8 T cells|Classical monocytes|Effector memory CD8 T cells|Exhausted B cells|Follicular helper T cells|Intermediate monocytes|Low-density basophils|Low-density neutrophils|MAIT cells|Myeloid dendritic cells|Naive B cells|Naive CD4 T cells|Natural killer cells|Non classical monocytes|Non-switched memory B cells|Non-Vd2 gd T cells|Plasmablasts|Plasmacytoid dendritic cells|Progenitor cells|Switched memory B cells|T regulatory cells|Terminal effector CD8 T cells|Th1 cells|Th1/Th17 cells|Th17 cells|Th2 cells|Vd2 gd T cells                                                              | #A6CEE3|#6CA9CF|#3385BB|#4693A8|#84BF96|#A3D77F|#6DBD57|#37A22F|#7F9D55|#D49B84|#F57C7C|#EB4647|#E42622|#F06C45|#FBB268|#FDA848|#FE8D19|#F48829|#DE9E83|#C6ADD3|#9D7BBA|#754AA0|#977899|#D6CA99|#F3E587|#D29F57|#B15928                                                                                                                                                                         |  7 |  TRUE | FALSE |\n",
       "| SCT_snn_res.0.5  | SCT_snn_res.0.5  | 0|1|2|3|4|5|6|7|8|9|10|11|12|13|14                                                                                                                                                                                                                                                                                                                                                                                                                                                                                                                                                                                       | #A6CEE3|#3B8ABE|#72B29C|#84C868|#4F9F3B|#EC9A91|#E93E3F|#F06C45|#FDAC4F|#FB820F|#D1AAB7|#8C66AF|#A99099|#EEDB80|#B15928                                                                                                                                                                                                                                                                         |  4 |  TRUE | FALSE |\n",
       "| seurat_clusters  | seurat_clusters  | 0|1|2|3|4|5|6|7|8|9|10|11|12|13|14                                                                                                                                                                                                                                                                                                                                                                                                                                                                                                                                                                                       | #A6CEE3|#3B8ABE|#72B29C|#84C868|#4F9F3B|#EC9A91|#E93E3F|#F06C45|#FDAC4F|#FB820F|#D1AAB7|#8C66AF|#A99099|#EEDB80|#B15928                                                                                                                                                                                                                                                                         |  4 |  TRUE | FALSE |\n",
       "| PC_1             | PC1              | NA                                                                                                                                                                                                                                                                                                                                                                                                                                                                                                                                                                                                                       | NA                                                                                                                                                                                                                                                                                                                                                                                              | NA | FALSE |  TRUE |\n",
       "| PC_2             | PC2              | NA                                                                                                                                                                                                                                                                                                                                                                                                                                                                                                                                                                                                                       | NA                                                                                                                                                                                                                                                                                                                                                                                              | NA | FALSE |  TRUE |\n",
       "| PC_3             | PC3              | NA                                                                                                                                                                                                                                                                                                                                                                                                                                                                                                                                                                                                                       | NA                                                                                                                                                                                                                                                                                                                                                                                              | NA | FALSE |  TRUE |\n",
       "| PC_4             | PC4              | NA                                                                                                                                                                                                                                                                                                                                                                                                                                                                                                                                                                                                                       | NA                                                                                                                                                                                                                                                                                                                                                                                              | NA | FALSE |  TRUE |\n",
       "| PC_5             | PC5              | NA                                                                                                                                                                                                                                                                                                                                                                                                                                                                                                                                                                                                                       | NA                                                                                                                                                                                                                                                                                                                                                                                              | NA | FALSE |  TRUE |\n",
       "| umap_1           | umap1            | NA                                                                                                                                                                                                                                                                                                                                                                                                                                                                                                                                                                                                                       | NA                                                                                                                                                                                                                                                                                                                                                                                              | NA | FALSE |  TRUE |\n",
       "| umap_2           | umap2            | NA                                                                                                                                                                                                                                                                                                                                                                                                                                                                                                                                                                                                                       | NA                                                                                                                                                                                                                                                                                                                                                                                              | NA | FALSE |  TRUE |\n",
       "\n"
      ],
      "text/plain": [
       "   ID               UI              \n",
       "1  orig.ident       orig.ident      \n",
       "2  nCount_RNA       nCount_RNA      \n",
       "3  Stim             Stim            \n",
       "4  Gender           Gender          \n",
       "5  Orig.Annotations Orig.Annotations\n",
       "6  blueprint.main   blueprint.main  \n",
       "7  monaco.fine      monaco.fine     \n",
       "8  SCT_snn_res.0.5  SCT_snn_res.0.5 \n",
       "9  seurat_clusters  seurat_clusters \n",
       "10 PC_1             PC1             \n",
       "11 PC_2             PC2             \n",
       "12 PC_3             PC3             \n",
       "13 PC_4             PC4             \n",
       "14 PC_5             PC5             \n",
       "15 umap_1           umap1           \n",
       "16 umap_2           umap2           \n",
       "   fID                                                                                                                                                                                                                                                                                                                                                                                                                                                                                                                                                                                                                     \n",
       "1  SeuratProject                                                                                                                                                                                                                                                                                                                                                                                                                                                                                                                                                                                                           \n",
       "2  NA                                                                                                                                                                                                                                                                                                                                                                                                                                                                                                                                                                                                                      \n",
       "3  Crohn’s disease                                                                                                                                                                                                                                                                                                                                                                                                                                                                                                                                                                                                         \n",
       "4  Female|Male                                                                                                                                                                                                                                                                                                                                                                                                                                                                                                                                                                                                             \n",
       "5  BEST4 OTOP2|Colonocyte 1|Colonocyte 2|Cycling cells|Cycling myeloid|Cycling TA|DN EOMES|DN TNF|Endothelium|Enteroendocrine|Epithelium Ribhi|Fibroblasts Ribhi|FRCs|gd IEL|Glia|Goblet|IER fibroblasts|Inflammatory colonocyte|Inflammatory fibroblasts|Inflammatory monocytes|Laminin colonocytes|Lymphatic endothelium|M2.2|MAIT|Mast 1|Mast 2|Mast Ribhi|Mature goblet|MT fibroblasts|MT T cells|Neutrophil 1|Neutrophil 2|Neutrophil 3|Paneth-like|PC  immediate early response|PC IgG 2|PC IGLL5|Pericytes|Plasmablast IgG|Plasmablast IgG Lambda|PLCG2 colonocytes|S1|S1 Ribhi|S1.2|S2a|S2b|S3|Secretory progenitor\n",
       "6  Adipocytes|B-cells|CD4+ T-cells|CD8+ T-cells|DC|Endothelial cells|Epithelial cells|Erythrocytes|Fibroblasts|HSC|Macrophages|Monocytes|Neutrophils|NK cells                                                                                                                                                                                                                                                                                                                                                                                                                                                              \n",
       "7  Central memory CD8 T cells|Classical monocytes|Effector memory CD8 T cells|Exhausted B cells|Follicular helper T cells|Intermediate monocytes|Low-density basophils|Low-density neutrophils|MAIT cells|Myeloid dendritic cells|Naive B cells|Naive CD4 T cells|Natural killer cells|Non classical monocytes|Non-switched memory B cells|Non-Vd2 gd T cells|Plasmablasts|Plasmacytoid dendritic cells|Progenitor cells|Switched memory B cells|T regulatory cells|Terminal effector CD8 T cells|Th1 cells|Th1/Th17 cells|Th17 cells|Th2 cells|Vd2 gd T cells                                                             \n",
       "8  0|1|2|3|4|5|6|7|8|9|10|11|12|13|14                                                                                                                                                                                                                                                                                                                                                                                                                                                                                                                                                                                      \n",
       "9  0|1|2|3|4|5|6|7|8|9|10|11|12|13|14                                                                                                                                                                                                                                                                                                                                                                                                                                                                                                                                                                                      \n",
       "10 NA                                                                                                                                                                                                                                                                                                                                                                                                                                                                                                                                                                                                                      \n",
       "11 NA                                                                                                                                                                                                                                                                                                                                                                                                                                                                                                                                                                                                                      \n",
       "12 NA                                                                                                                                                                                                                                                                                                                                                                                                                                                                                                                                                                                                                      \n",
       "13 NA                                                                                                                                                                                                                                                                                                                                                                                                                                                                                                                                                                                                                      \n",
       "14 NA                                                                                                                                                                                                                                                                                                                                                                                                                                                                                                                                                                                                                      \n",
       "15 NA                                                                                                                                                                                                                                                                                                                                                                                                                                                                                                                                                                                                                      \n",
       "16 NA                                                                                                                                                                                                                                                                                                                                                                                                                                                                                                                                                                                                                      \n",
       "   fCL                                                                                                                                                                                                                                                                                                                                                                                            \n",
       "1  black                                                                                                                                                                                                                                                                                                                                                                                          \n",
       "2  NA                                                                                                                                                                                                                                                                                                                                                                                             \n",
       "3  black                                                                                                                                                                                                                                                                                                                                                                                          \n",
       "4  #A6CEE3|#B15928                                                                                                                                                                                                                                                                                                                                                                                \n",
       "5  #A6CEE3|#86B9D8|#66A5CD|#4791C2|#277DB7|#3889AC|#5AA1A3|#7CB999|#9FD18F|#A4D880|#86C969|#69BA53|#4BAC3E|#3B9F30|#6A9E4A|#999C63|#C79B7D|#F69A96|#F57E7E|#F06061|#EA4243|#E52426|#E63228|#EC593B|#F37F4F|#F9A662|#FDB965|#FDAA4B|#FE9B31|#FE8C17|#FD8004|#F18C36|#E59768|#D8A39A|#CCAFCC|#B79BCA|#A180BC|#8A64AE|#7449A0|#7D5599|#9F8399|#C2B099|#E5DD99|#FAF491|#E7CD77|#D5A65C|#C37F42|#B15928\n",
       "6  #A6CEE3|#3385BB|#84BF96|#6DBD57|#7F9D55|#F57C7C|#E42622|#FBB268|#FE8D19|#DE9E83|#9D7BBA|#977899|#F3E587|#B15928                                                                                                                                                                                                                                                                                \n",
       "7  #A6CEE3|#6CA9CF|#3385BB|#4693A8|#84BF96|#A3D77F|#6DBD57|#37A22F|#7F9D55|#D49B84|#F57C7C|#EB4647|#E42622|#F06C45|#FBB268|#FDA848|#FE8D19|#F48829|#DE9E83|#C6ADD3|#9D7BBA|#754AA0|#977899|#D6CA99|#F3E587|#D29F57|#B15928                                                                                                                                                                        \n",
       "8  #A6CEE3|#3B8ABE|#72B29C|#84C868|#4F9F3B|#EC9A91|#E93E3F|#F06C45|#FDAC4F|#FB820F|#D1AAB7|#8C66AF|#A99099|#EEDB80|#B15928                                                                                                                                                                                                                                                                        \n",
       "9  #A6CEE3|#3B8ABE|#72B29C|#84C868|#4F9F3B|#EC9A91|#E93E3F|#F06C45|#FDAC4F|#FB820F|#D1AAB7|#8C66AF|#A99099|#EEDB80|#B15928                                                                                                                                                                                                                                                                        \n",
       "10 NA                                                                                                                                                                                                                                                                                                                                                                                             \n",
       "11 NA                                                                                                                                                                                                                                                                                                                                                                                             \n",
       "12 NA                                                                                                                                                                                                                                                                                                                                                                                             \n",
       "13 NA                                                                                                                                                                                                                                                                                                                                                                                             \n",
       "14 NA                                                                                                                                                                                                                                                                                                                                                                                             \n",
       "15 NA                                                                                                                                                                                                                                                                                                                                                                                             \n",
       "16 NA                                                                                                                                                                                                                                                                                                                                                                                             \n",
       "   fRow grp   dimred\n",
       "1   1   FALSE FALSE \n",
       "2  NA   FALSE FALSE \n",
       "3   1   FALSE FALSE \n",
       "4   1    TRUE FALSE \n",
       "5  12    TRUE FALSE \n",
       "6   4    TRUE FALSE \n",
       "7   7    TRUE FALSE \n",
       "8   4    TRUE FALSE \n",
       "9   4    TRUE FALSE \n",
       "10 NA   FALSE  TRUE \n",
       "11 NA   FALSE  TRUE \n",
       "12 NA   FALSE  TRUE \n",
       "13 NA   FALSE  TRUE \n",
       "14 NA   FALSE  TRUE \n",
       "15 NA   FALSE  TRUE \n",
       "16 NA   FALSE  TRUE "
      ]
     },
     "metadata": {},
     "output_type": "display_data"
    }
   ],
   "source": [
    "# Crohn's disease\n",
    "load(file=file.path('objects', '06.rda'))\n",
    "obj <- subset(obj, subset = Stim == \"Crohn’s disease\")\n",
    "obj <- RunPCA(obj, npcs = 30, verbose = TRUE)\n",
    "obj <- RunUMAP(obj, reduction = \"pca\", dims = 1:20)\n",
    "obj <- FindNeighbors(obj, reduction = \"pca\", dims = 1:20)\n",
    "obj <- FindClusters(obj, resolution = 0.5)\n",
    "\n",
    "save(obj, file=file.path('objects', 'cd.rda'))\n",
    "\n",
    "seu =  obj\n",
    "scConf3 = createConfig(seu)\n",
    "makeShinyFiles(seu, scConf3,\n",
    "             gene.mapping = TRUE,\n",
    "             shiny.prefix = \"sc3\",\n",
    "             shiny.dir = \"colon_UC_crohns_scRNA-seq_GSM6614348/\",\n",
    "             gex.assay = \"SCT\",\n",
    "             default.multigene = present_genes) "
   ]
  },
  {
   "cell_type": "code",
   "execution_count": 48,
   "metadata": {
    "vscode": {
     "languageId": "r"
    }
   },
   "outputs": [
    {
     "name": "stderr",
     "output_type": "stream",
     "text": [
      "PC_ 1 \n",
      "Positive:  IGHA1, IGKC, JCHAIN, IGHA2, IGLC2, IGLC3, IGHG1, IGLL5, IGHG3, MZB1 \n",
      "\t   CCL5, IGKV3-20, RGS1, CD69, HLA-DRA, IGKV4-1, CYBA, DERL3, KLRB1, IGHM \n",
      "\t   CD52, CXCR4, IGLV2-14, CD3D, SPINK2, IGHG4, IGKV1-5, SRGN, IGLV6-57, TRBC1 \n",
      "Negative:  ADAMDEC1, DCN, LUM, COL3A1, COL1A2, CCL2, C1S, CALD1, A2M, EGR1 \n",
      "\t   MFAP4, FN1, CXCL14, FOS, CFH, MEG3, C1R, FBLN1, TCF21, IFITM3 \n",
      "\t   CCL8, TMEM176B, GSN, EDIL3, ABCA8, NNMT, COL1A1, PTN, SELENOP, STMN2 \n",
      "PC_ 2 \n",
      "Positive:  KRT8, LGALS4, PHGR1, ELF3, FABP1, KRT18, PLCG2, FXYD3, PIGR, S100A6 \n",
      "\t   CLDN4, IFI27, KRT20, C15orf48, KRT19, SMIM22, MT1G, CLDN7, CA2, LGALS3 \n",
      "\t   TFF3, CKB, EPCAM, CA1, SLC26A3, MT1E, GUCA2A, TSPAN1, C19orf33, TSPAN8 \n",
      "Negative:  IGHA1, JCHAIN, IGKC, IGHA2, IGLC2, ADAMDEC1, DCN, LUM, IGLC3, C1S \n",
      "\t   COL3A1, COL1A2, CCL2, CALD1, MFAP4, A2M, FN1, CFH, TCF21, CCL8 \n",
      "\t   CXCL14, C1R, FBLN1, ABCA8, MEG3, EDIL3, PTN, IGLL5, COL1A1, NNMT \n",
      "PC_ 3 \n",
      "Positive:  CCL5, TMSB4X, KLRB1, CXCR4, ANXA1, CD52, HLA-DRA, IL32, NKG7, GZMA \n",
      "\t   CD3D, TRAC, CD69, TRBC1, LTB, TRBC2, S100A4, BTG1, LINC01871, HLA-DRB1 \n",
      "\t   CD7, IL7R, HLA-DPB1, TNFAIP3, CREM, CD2, HCST, CD3E, ARHGDIB, DUSP2 \n",
      "Negative:  IGHA1, JCHAIN, IGKC, IGHA2, LGALS4, KRT8, PHGR1, FABP1, FXYD3, ELF3 \n",
      "\t   KRT18, S100A6, CLDN4, IFI27, PIGR, KRT20, SMIM22, KRT19, MT1G, PLCG2 \n",
      "\t   CA2, CLDN7, CKB, GUCA2A, SLC26A3, CA1, TFF3, EPCAM, TSPAN1, C19orf33 \n",
      "PC_ 4 \n",
      "Positive:  PLCG2, ELF3, TFF3, SOX4, MUC2, FCGBP, ITLN1, MUC4, MTRNR2L12, CLCA1 \n",
      "\t   AGR2, KRT18, ZG16, WFDC2, HES1, MTRNR2L8, HEXIM1, CSKMT, PIGR, CLDN4 \n",
      "\t   EGR1, FOSB, TCIM, NR4A1, SPINK4, SPINK1, IER3, LDLR, GADD45B, HIST1H4C \n",
      "Negative:  FABP1, FTH1, SLC26A3, GUCA2A, FXYD3, CA2, AQP8, LGALS3, CA1, PLAC8 \n",
      "\t   GUCA2B, SELENOP, IGKC, MS4A12, TSPAN8, TSPAN1, CA4, IFI27, IL32, KRT20 \n",
      "\t   TMEM54, SRI, SDCBP2, EPCAM, CEACAM7, IGHA1, S100A10, TMSB4X, PKIB, CDKN2B-AS1 \n",
      "PC_ 5 \n",
      "Positive:  CCL5, CD69, JCHAIN, NKG7, IGHA1, GZMA, KLRB1, IL32, LINC01871, HOPX \n",
      "\t   CD7, IGHA2, TRAC, JUNB, ANXA1, ID2, FOS, DUSP2, DNAJB1, CD3D \n",
      "\t   XCL1, TRBC1, BTG1, CTSW, RGS1, XCL2, CD52, TNFAIP3, TRBC2, PTGER4 \n",
      "Negative:  HLA-DRA, HLA-DRB1, HLA-DPB1, LYZ, HLA-DPA1, CD74, HLA-DQA1, AIF1, HLA-DQB1, CST3 \n",
      "\t   C1QA, C1QB, IGHG1, FTL, IGKC, C1QC, IGHG3, TYROBP, MS4A6A, HLA-DRB5 \n",
      "\t   FCER1G, DNASE1L3, MPEG1, AC020656.1, SELENOP, CPVL, LST1, HLA-DMA, HLA-DMB, MS4A7 \n",
      "\n",
      "20:39:44 UMAP embedding parameters a = 0.9922 b = 1.112\n",
      "\n",
      "Found more than one class \"dist\" in cache; using the first, from namespace 'spam'\n",
      "\n",
      "Also defined by ‘BiocGenerics’\n",
      "\n",
      "20:39:44 Read 1745 rows and found 20 numeric columns\n",
      "\n",
      "20:39:44 Using Annoy for neighbor search, n_neighbors = 30\n",
      "\n",
      "Found more than one class \"dist\" in cache; using the first, from namespace 'spam'\n",
      "\n",
      "Also defined by ‘BiocGenerics’\n",
      "\n",
      "20:39:44 Building Annoy index with metric = cosine, n_trees = 50\n",
      "\n",
      "0%   10   20   30   40   50   60   70   80   90   100%\n",
      "\n",
      "[----|----|----|----|----|----|----|----|----|----|\n",
      "\n",
      "*\n",
      "*\n",
      "*\n",
      "*\n",
      "*\n",
      "*\n",
      "*\n",
      "*\n",
      "*\n",
      "*\n",
      "*\n",
      "*\n",
      "*\n",
      "*\n",
      "*\n",
      "*\n",
      "*\n",
      "*\n",
      "*\n",
      "*\n",
      "*\n",
      "*\n",
      "*\n",
      "*\n",
      "*\n",
      "*\n",
      "*\n",
      "*\n",
      "*\n",
      "*\n",
      "*\n",
      "*\n",
      "*\n",
      "*\n",
      "*\n",
      "*\n",
      "*\n",
      "*\n",
      "*\n",
      "*\n",
      "*\n",
      "*\n",
      "*\n",
      "*\n",
      "*\n",
      "*\n",
      "*\n",
      "*\n",
      "*\n",
      "*\n",
      "|\n",
      "\n",
      "20:39:44 Writing NN index file to temp file /tmp/RtmpvWYxDr/file1a14582c87d6\n",
      "\n",
      "20:39:44 Searching Annoy index using 1 thread, search_k = 3000\n",
      "\n",
      "20:39:45 Annoy recall = 100%\n",
      "\n",
      "20:39:46 Commencing smooth kNN distance calibration using 1 thread\n",
      " with target n_neighbors = 30\n",
      "\n",
      "20:39:48 Initializing from normalized Laplacian + noise (using RSpectra)\n",
      "\n",
      "20:39:48 Commencing optimization for 500 epochs, with 65046 positive edges\n",
      "\n",
      "20:39:51 Optimization finished\n",
      "\n",
      "Computing nearest neighbor graph\n",
      "\n",
      "Computing SNN\n",
      "\n"
     ]
    },
    {
     "name": "stdout",
     "output_type": "stream",
     "text": [
      "Modularity Optimizer version 1.3.0 by Ludo Waltman and Nees Jan van Eck\n",
      "\n",
      "Number of nodes: 1745\n",
      "Number of edges: 47254\n",
      "\n",
      "Running Louvain algorithm...\n",
      "Maximum modularity in 10 random starts: 0.9214\n",
      "Number of communities: 14\n",
      "Elapsed time: 0 seconds\n"
     ]
    },
    {
     "data": {
      "text/html": [
       "<table class=\"dataframe\">\n",
       "<caption>A data.table: 16 × 7</caption>\n",
       "<thead>\n",
       "\t<tr><th scope=col>ID</th><th scope=col>UI</th><th scope=col>fID</th><th scope=col>fCL</th><th scope=col>fRow</th><th scope=col>grp</th><th scope=col>dimred</th></tr>\n",
       "\t<tr><th scope=col>&lt;chr&gt;</th><th scope=col>&lt;chr&gt;</th><th scope=col>&lt;chr&gt;</th><th scope=col>&lt;chr&gt;</th><th scope=col>&lt;dbl&gt;</th><th scope=col>&lt;lgl&gt;</th><th scope=col>&lt;lgl&gt;</th></tr>\n",
       "</thead>\n",
       "<tbody>\n",
       "\t<tr><td>orig.ident      </td><td>orig.ident      </td><td>SeuratProject                                                                                                                                                                                                                                                                                                                                                                                                                                                                                                                                                                                                           </td><td>black                                                                                                                                                                                                                                                                                                                                                                                          </td><td> 1</td><td>FALSE</td><td>FALSE</td></tr>\n",
       "\t<tr><td>nCount_RNA      </td><td>nCount_RNA      </td><td>NA                                                                                                                                                                                                                                                                                                                                                                                                                                                                                                                                                                                                                      </td><td>NA                                                                                                                                                                                                                                                                                                                                                                                             </td><td>NA</td><td>FALSE</td><td>FALSE</td></tr>\n",
       "\t<tr><td>Stim            </td><td>Stim            </td><td>healthy control                                                                                                                                                                                                                                                                                                                                                                                                                                                                                                                                                                                                         </td><td>black                                                                                                                                                                                                                                                                                                                                                                                          </td><td> 1</td><td>FALSE</td><td>FALSE</td></tr>\n",
       "\t<tr><td>Gender          </td><td>Gender          </td><td>Female|Male                                                                                                                                                                                                                                                                                                                                                                                                                                                                                                                                                                                                             </td><td>#A6CEE3|#B15928                                                                                                                                                                                                                                                                                                                                                                                </td><td> 1</td><td> TRUE</td><td>FALSE</td></tr>\n",
       "\t<tr><td>Orig.Annotations</td><td>Orig.Annotations</td><td>BEST4 OTOP2|Colonocyte 1|Colonocyte 2|Cycling cells|Cycling myeloid|Cycling TA|DN EOMES|DN TNF|Endothelium|Enteroendocrine|Epithelium Ribhi|Fibroblasts Ribhi|FRCs|gd IEL|Glia|Goblet|IER fibroblasts|Inflammatory colonocyte|Inflammatory fibroblasts|Inflammatory monocytes|Laminin colonocytes|Lymphatic endothelium|M2.2|MAIT|Mast 1|Mast 2|Mast Ribhi|Mature goblet|MT fibroblasts|MT T cells|Neutrophil 1|Neutrophil 2|Neutrophil 3|Paneth-like|PC  immediate early response|PC IgG 2|PC IGLL5|Pericytes|Plasmablast IgG|Plasmablast IgG Lambda|PLCG2 colonocytes|S1|S1 Ribhi|S1.2|S2a|S2b|S3|Secretory progenitor</td><td>#A6CEE3|#86B9D8|#66A5CD|#4791C2|#277DB7|#3889AC|#5AA1A3|#7CB999|#9FD18F|#A4D880|#86C969|#69BA53|#4BAC3E|#3B9F30|#6A9E4A|#999C63|#C79B7D|#F69A96|#F57E7E|#F06061|#EA4243|#E52426|#E63228|#EC593B|#F37F4F|#F9A662|#FDB965|#FDAA4B|#FE9B31|#FE8C17|#FD8004|#F18C36|#E59768|#D8A39A|#CCAFCC|#B79BCA|#A180BC|#8A64AE|#7449A0|#7D5599|#9F8399|#C2B099|#E5DD99|#FAF491|#E7CD77|#D5A65C|#C37F42|#B15928</td><td>12</td><td> TRUE</td><td>FALSE</td></tr>\n",
       "\t<tr><td>blueprint.main  </td><td>blueprint.main  </td><td>Adipocytes|B-cells|CD4+ T-cells|CD8+ T-cells|DC|Endothelial cells|Epithelial cells|Erythrocytes|Fibroblasts|HSC|Macrophages|Monocytes|NK cells                                                                                                                                                                                                                                                                                                                                                                                                                                                                          </td><td>#A6CEE3|#2A7FB7|#99CD91|#52AF43|#B89B74|#ED4F50|#F06C45|#FDA440|#ED8F47|#B294C7|#825D99|#F8F18F|#B15928                                                                                                                                                                                                                                                                                        </td><td> 4</td><td> TRUE</td><td>FALSE</td></tr>\n",
       "\t<tr><td>monaco.fine     </td><td>monaco.fine     </td><td>Central memory CD8 T cells|Classical monocytes|Effector memory CD8 T cells|Exhausted B cells|Follicular helper T cells|Intermediate monocytes|Low-density basophils|MAIT cells|Myeloid dendritic cells|Naive B cells|Naive CD4 T cells|Natural killer cells|Non classical monocytes|Non-switched memory B cells|Non-Vd2 gd T cells|Plasmablasts|Plasmacytoid dendritic cells|Progenitor cells|Switched memory B cells|T regulatory cells|Terminal effector CD8 T cells|Th1 cells|Th1/Th17 cells|Th17 cells|Th2 cells|Vd2 gd T cells                                                                                     </td><td>#A6CEE3|#6AA8CE|#2F82B9|#4E98A6|#8EC694|#98D277|#60B64D|#439F34|#9B9C64|#F29A94|#F16667|#E62E30|#EA4833|#F59057|#FDB45D|#FE982C|#FC8108|#E59766|#CEADC4|#A787C0|#7D54A5|#8D6B99|#CFC099|#F5EB8B|#D3A259|#B15928                                                                                                                                                                                </td><td> 7</td><td> TRUE</td><td>FALSE</td></tr>\n",
       "\t<tr><td>SCT_snn_res.0.5 </td><td>SCT_snn_res.0.5 </td><td>0|1|2|3|4|5|6|7|8|9|10|11|12|13                                                                                                                                                                                                                                                                                                                                                                                                                                                                                                                                                                                         </td><td>#A6CEE3|#3385BB|#84BF96|#6DBD57|#7F9D55|#F57C7C|#E42622|#FBB268|#FE8D19|#DE9E83|#9D7BBA|#977899|#F3E587|#B15928                                                                                                                                                                                                                                                                                </td><td> 4</td><td> TRUE</td><td>FALSE</td></tr>\n",
       "\t<tr><td>seurat_clusters </td><td>seurat_clusters </td><td>0|1|2|3|4|5|6|7|8|9|10|11|12|13                                                                                                                                                                                                                                                                                                                                                                                                                                                                                                                                                                                         </td><td>#A6CEE3|#3385BB|#84BF96|#6DBD57|#7F9D55|#F57C7C|#E42622|#FBB268|#FE8D19|#DE9E83|#9D7BBA|#977899|#F3E587|#B15928                                                                                                                                                                                                                                                                                </td><td> 4</td><td> TRUE</td><td>FALSE</td></tr>\n",
       "\t<tr><td>PC_1            </td><td>PC1             </td><td>NA                                                                                                                                                                                                                                                                                                                                                                                                                                                                                                                                                                                                                      </td><td>NA                                                                                                                                                                                                                                                                                                                                                                                             </td><td>NA</td><td>FALSE</td><td> TRUE</td></tr>\n",
       "\t<tr><td>PC_2            </td><td>PC2             </td><td>NA                                                                                                                                                                                                                                                                                                                                                                                                                                                                                                                                                                                                                      </td><td>NA                                                                                                                                                                                                                                                                                                                                                                                             </td><td>NA</td><td>FALSE</td><td> TRUE</td></tr>\n",
       "\t<tr><td>PC_3            </td><td>PC3             </td><td>NA                                                                                                                                                                                                                                                                                                                                                                                                                                                                                                                                                                                                                      </td><td>NA                                                                                                                                                                                                                                                                                                                                                                                             </td><td>NA</td><td>FALSE</td><td> TRUE</td></tr>\n",
       "\t<tr><td>PC_4            </td><td>PC4             </td><td>NA                                                                                                                                                                                                                                                                                                                                                                                                                                                                                                                                                                                                                      </td><td>NA                                                                                                                                                                                                                                                                                                                                                                                             </td><td>NA</td><td>FALSE</td><td> TRUE</td></tr>\n",
       "\t<tr><td>PC_5            </td><td>PC5             </td><td>NA                                                                                                                                                                                                                                                                                                                                                                                                                                                                                                                                                                                                                      </td><td>NA                                                                                                                                                                                                                                                                                                                                                                                             </td><td>NA</td><td>FALSE</td><td> TRUE</td></tr>\n",
       "\t<tr><td>umap_1          </td><td>umap1           </td><td>NA                                                                                                                                                                                                                                                                                                                                                                                                                                                                                                                                                                                                                      </td><td>NA                                                                                                                                                                                                                                                                                                                                                                                             </td><td>NA</td><td>FALSE</td><td> TRUE</td></tr>\n",
       "\t<tr><td>umap_2          </td><td>umap2           </td><td>NA                                                                                                                                                                                                                                                                                                                                                                                                                                                                                                                                                                                                                      </td><td>NA                                                                                                                                                                                                                                                                                                                                                                                             </td><td>NA</td><td>FALSE</td><td> TRUE</td></tr>\n",
       "</tbody>\n",
       "</table>\n"
      ],
      "text/latex": [
       "A data.table: 16 × 7\n",
       "\\begin{tabular}{lllllll}\n",
       " ID & UI & fID & fCL & fRow & grp & dimred\\\\\n",
       " <chr> & <chr> & <chr> & <chr> & <dbl> & <lgl> & <lgl>\\\\\n",
       "\\hline\n",
       "\t orig.ident       & orig.ident       & SeuratProject                                                                                                                                                                                                                                                                                                                                                                                                                                                                                                                                                                                                            & black                                                                                                                                                                                                                                                                                                                                                                                           &  1 & FALSE & FALSE\\\\\n",
       "\t nCount\\_RNA       & nCount\\_RNA       & NA                                                                                                                                                                                                                                                                                                                                                                                                                                                                                                                                                                                                                       & NA                                                                                                                                                                                                                                                                                                                                                                                              & NA & FALSE & FALSE\\\\\n",
       "\t Stim             & Stim             & healthy control                                                                                                                                                                                                                                                                                                                                                                                                                                                                                                                                                                                                          & black                                                                                                                                                                                                                                                                                                                                                                                           &  1 & FALSE & FALSE\\\\\n",
       "\t Gender           & Gender           & Female\\textbar{}Male                                                                                                                                                                                                                                                                                                                                                                                                                                                                                                                                                                                                              & \\#A6CEE3\\textbar{}\\#B15928                                                                                                                                                                                                                                                                                                                                                                                 &  1 &  TRUE & FALSE\\\\\n",
       "\t Orig.Annotations & Orig.Annotations & BEST4 OTOP2\\textbar{}Colonocyte 1\\textbar{}Colonocyte 2\\textbar{}Cycling cells\\textbar{}Cycling myeloid\\textbar{}Cycling TA\\textbar{}DN EOMES\\textbar{}DN TNF\\textbar{}Endothelium\\textbar{}Enteroendocrine\\textbar{}Epithelium Ribhi\\textbar{}Fibroblasts Ribhi\\textbar{}FRCs\\textbar{}gd IEL\\textbar{}Glia\\textbar{}Goblet\\textbar{}IER fibroblasts\\textbar{}Inflammatory colonocyte\\textbar{}Inflammatory fibroblasts\\textbar{}Inflammatory monocytes\\textbar{}Laminin colonocytes\\textbar{}Lymphatic endothelium\\textbar{}M2.2\\textbar{}MAIT\\textbar{}Mast 1\\textbar{}Mast 2\\textbar{}Mast Ribhi\\textbar{}Mature goblet\\textbar{}MT fibroblasts\\textbar{}MT T cells\\textbar{}Neutrophil 1\\textbar{}Neutrophil 2\\textbar{}Neutrophil 3\\textbar{}Paneth-like\\textbar{}PC  immediate early response\\textbar{}PC IgG 2\\textbar{}PC IGLL5\\textbar{}Pericytes\\textbar{}Plasmablast IgG\\textbar{}Plasmablast IgG Lambda\\textbar{}PLCG2 colonocytes\\textbar{}S1\\textbar{}S1 Ribhi\\textbar{}S1.2\\textbar{}S2a\\textbar{}S2b\\textbar{}S3\\textbar{}Secretory progenitor & \\#A6CEE3\\textbar{}\\#86B9D8\\textbar{}\\#66A5CD\\textbar{}\\#4791C2\\textbar{}\\#277DB7\\textbar{}\\#3889AC\\textbar{}\\#5AA1A3\\textbar{}\\#7CB999\\textbar{}\\#9FD18F\\textbar{}\\#A4D880\\textbar{}\\#86C969\\textbar{}\\#69BA53\\textbar{}\\#4BAC3E\\textbar{}\\#3B9F30\\textbar{}\\#6A9E4A\\textbar{}\\#999C63\\textbar{}\\#C79B7D\\textbar{}\\#F69A96\\textbar{}\\#F57E7E\\textbar{}\\#F06061\\textbar{}\\#EA4243\\textbar{}\\#E52426\\textbar{}\\#E63228\\textbar{}\\#EC593B\\textbar{}\\#F37F4F\\textbar{}\\#F9A662\\textbar{}\\#FDB965\\textbar{}\\#FDAA4B\\textbar{}\\#FE9B31\\textbar{}\\#FE8C17\\textbar{}\\#FD8004\\textbar{}\\#F18C36\\textbar{}\\#E59768\\textbar{}\\#D8A39A\\textbar{}\\#CCAFCC\\textbar{}\\#B79BCA\\textbar{}\\#A180BC\\textbar{}\\#8A64AE\\textbar{}\\#7449A0\\textbar{}\\#7D5599\\textbar{}\\#9F8399\\textbar{}\\#C2B099\\textbar{}\\#E5DD99\\textbar{}\\#FAF491\\textbar{}\\#E7CD77\\textbar{}\\#D5A65C\\textbar{}\\#C37F42\\textbar{}\\#B15928 & 12 &  TRUE & FALSE\\\\\n",
       "\t blueprint.main   & blueprint.main   & Adipocytes\\textbar{}B-cells\\textbar{}CD4+ T-cells\\textbar{}CD8+ T-cells\\textbar{}DC\\textbar{}Endothelial cells\\textbar{}Epithelial cells\\textbar{}Erythrocytes\\textbar{}Fibroblasts\\textbar{}HSC\\textbar{}Macrophages\\textbar{}Monocytes\\textbar{}NK cells                                                                                                                                                                                                                                                                                                                                                                                                                                                                           & \\#A6CEE3\\textbar{}\\#2A7FB7\\textbar{}\\#99CD91\\textbar{}\\#52AF43\\textbar{}\\#B89B74\\textbar{}\\#ED4F50\\textbar{}\\#F06C45\\textbar{}\\#FDA440\\textbar{}\\#ED8F47\\textbar{}\\#B294C7\\textbar{}\\#825D99\\textbar{}\\#F8F18F\\textbar{}\\#B15928                                                                                                                                                                                                                                                                                         &  4 &  TRUE & FALSE\\\\\n",
       "\t monaco.fine      & monaco.fine      & Central memory CD8 T cells\\textbar{}Classical monocytes\\textbar{}Effector memory CD8 T cells\\textbar{}Exhausted B cells\\textbar{}Follicular helper T cells\\textbar{}Intermediate monocytes\\textbar{}Low-density basophils\\textbar{}MAIT cells\\textbar{}Myeloid dendritic cells\\textbar{}Naive B cells\\textbar{}Naive CD4 T cells\\textbar{}Natural killer cells\\textbar{}Non classical monocytes\\textbar{}Non-switched memory B cells\\textbar{}Non-Vd2 gd T cells\\textbar{}Plasmablasts\\textbar{}Plasmacytoid dendritic cells\\textbar{}Progenitor cells\\textbar{}Switched memory B cells\\textbar{}T regulatory cells\\textbar{}Terminal effector CD8 T cells\\textbar{}Th1 cells\\textbar{}Th1/Th17 cells\\textbar{}Th17 cells\\textbar{}Th2 cells\\textbar{}Vd2 gd T cells                                                                                      & \\#A6CEE3\\textbar{}\\#6AA8CE\\textbar{}\\#2F82B9\\textbar{}\\#4E98A6\\textbar{}\\#8EC694\\textbar{}\\#98D277\\textbar{}\\#60B64D\\textbar{}\\#439F34\\textbar{}\\#9B9C64\\textbar{}\\#F29A94\\textbar{}\\#F16667\\textbar{}\\#E62E30\\textbar{}\\#EA4833\\textbar{}\\#F59057\\textbar{}\\#FDB45D\\textbar{}\\#FE982C\\textbar{}\\#FC8108\\textbar{}\\#E59766\\textbar{}\\#CEADC4\\textbar{}\\#A787C0\\textbar{}\\#7D54A5\\textbar{}\\#8D6B99\\textbar{}\\#CFC099\\textbar{}\\#F5EB8B\\textbar{}\\#D3A259\\textbar{}\\#B15928                                                                                                                                                                                 &  7 &  TRUE & FALSE\\\\\n",
       "\t SCT\\_snn\\_res.0.5  & SCT\\_snn\\_res.0.5  & 0\\textbar{}1\\textbar{}2\\textbar{}3\\textbar{}4\\textbar{}5\\textbar{}6\\textbar{}7\\textbar{}8\\textbar{}9\\textbar{}10\\textbar{}11\\textbar{}12\\textbar{}13                                                                                                                                                                                                                                                                                                                                                                                                                                                                                                                                                                                          & \\#A6CEE3\\textbar{}\\#3385BB\\textbar{}\\#84BF96\\textbar{}\\#6DBD57\\textbar{}\\#7F9D55\\textbar{}\\#F57C7C\\textbar{}\\#E42622\\textbar{}\\#FBB268\\textbar{}\\#FE8D19\\textbar{}\\#DE9E83\\textbar{}\\#9D7BBA\\textbar{}\\#977899\\textbar{}\\#F3E587\\textbar{}\\#B15928                                                                                                                                                                                                                                                                                 &  4 &  TRUE & FALSE\\\\\n",
       "\t seurat\\_clusters  & seurat\\_clusters  & 0\\textbar{}1\\textbar{}2\\textbar{}3\\textbar{}4\\textbar{}5\\textbar{}6\\textbar{}7\\textbar{}8\\textbar{}9\\textbar{}10\\textbar{}11\\textbar{}12\\textbar{}13                                                                                                                                                                                                                                                                                                                                                                                                                                                                                                                                                                                          & \\#A6CEE3\\textbar{}\\#3385BB\\textbar{}\\#84BF96\\textbar{}\\#6DBD57\\textbar{}\\#7F9D55\\textbar{}\\#F57C7C\\textbar{}\\#E42622\\textbar{}\\#FBB268\\textbar{}\\#FE8D19\\textbar{}\\#DE9E83\\textbar{}\\#9D7BBA\\textbar{}\\#977899\\textbar{}\\#F3E587\\textbar{}\\#B15928                                                                                                                                                                                                                                                                                 &  4 &  TRUE & FALSE\\\\\n",
       "\t PC\\_1             & PC1              & NA                                                                                                                                                                                                                                                                                                                                                                                                                                                                                                                                                                                                                       & NA                                                                                                                                                                                                                                                                                                                                                                                              & NA & FALSE &  TRUE\\\\\n",
       "\t PC\\_2             & PC2              & NA                                                                                                                                                                                                                                                                                                                                                                                                                                                                                                                                                                                                                       & NA                                                                                                                                                                                                                                                                                                                                                                                              & NA & FALSE &  TRUE\\\\\n",
       "\t PC\\_3             & PC3              & NA                                                                                                                                                                                                                                                                                                                                                                                                                                                                                                                                                                                                                       & NA                                                                                                                                                                                                                                                                                                                                                                                              & NA & FALSE &  TRUE\\\\\n",
       "\t PC\\_4             & PC4              & NA                                                                                                                                                                                                                                                                                                                                                                                                                                                                                                                                                                                                                       & NA                                                                                                                                                                                                                                                                                                                                                                                              & NA & FALSE &  TRUE\\\\\n",
       "\t PC\\_5             & PC5              & NA                                                                                                                                                                                                                                                                                                                                                                                                                                                                                                                                                                                                                       & NA                                                                                                                                                                                                                                                                                                                                                                                              & NA & FALSE &  TRUE\\\\\n",
       "\t umap\\_1           & umap1            & NA                                                                                                                                                                                                                                                                                                                                                                                                                                                                                                                                                                                                                       & NA                                                                                                                                                                                                                                                                                                                                                                                              & NA & FALSE &  TRUE\\\\\n",
       "\t umap\\_2           & umap2            & NA                                                                                                                                                                                                                                                                                                                                                                                                                                                                                                                                                                                                                       & NA                                                                                                                                                                                                                                                                                                                                                                                              & NA & FALSE &  TRUE\\\\\n",
       "\\end{tabular}\n"
      ],
      "text/markdown": [
       "\n",
       "A data.table: 16 × 7\n",
       "\n",
       "| ID &lt;chr&gt; | UI &lt;chr&gt; | fID &lt;chr&gt; | fCL &lt;chr&gt; | fRow &lt;dbl&gt; | grp &lt;lgl&gt; | dimred &lt;lgl&gt; |\n",
       "|---|---|---|---|---|---|---|\n",
       "| orig.ident       | orig.ident       | SeuratProject                                                                                                                                                                                                                                                                                                                                                                                                                                                                                                                                                                                                            | black                                                                                                                                                                                                                                                                                                                                                                                           |  1 | FALSE | FALSE |\n",
       "| nCount_RNA       | nCount_RNA       | NA                                                                                                                                                                                                                                                                                                                                                                                                                                                                                                                                                                                                                       | NA                                                                                                                                                                                                                                                                                                                                                                                              | NA | FALSE | FALSE |\n",
       "| Stim             | Stim             | healthy control                                                                                                                                                                                                                                                                                                                                                                                                                                                                                                                                                                                                          | black                                                                                                                                                                                                                                                                                                                                                                                           |  1 | FALSE | FALSE |\n",
       "| Gender           | Gender           | Female|Male                                                                                                                                                                                                                                                                                                                                                                                                                                                                                                                                                                                                              | #A6CEE3|#B15928                                                                                                                                                                                                                                                                                                                                                                                 |  1 |  TRUE | FALSE |\n",
       "| Orig.Annotations | Orig.Annotations | BEST4 OTOP2|Colonocyte 1|Colonocyte 2|Cycling cells|Cycling myeloid|Cycling TA|DN EOMES|DN TNF|Endothelium|Enteroendocrine|Epithelium Ribhi|Fibroblasts Ribhi|FRCs|gd IEL|Glia|Goblet|IER fibroblasts|Inflammatory colonocyte|Inflammatory fibroblasts|Inflammatory monocytes|Laminin colonocytes|Lymphatic endothelium|M2.2|MAIT|Mast 1|Mast 2|Mast Ribhi|Mature goblet|MT fibroblasts|MT T cells|Neutrophil 1|Neutrophil 2|Neutrophil 3|Paneth-like|PC  immediate early response|PC IgG 2|PC IGLL5|Pericytes|Plasmablast IgG|Plasmablast IgG Lambda|PLCG2 colonocytes|S1|S1 Ribhi|S1.2|S2a|S2b|S3|Secretory progenitor | #A6CEE3|#86B9D8|#66A5CD|#4791C2|#277DB7|#3889AC|#5AA1A3|#7CB999|#9FD18F|#A4D880|#86C969|#69BA53|#4BAC3E|#3B9F30|#6A9E4A|#999C63|#C79B7D|#F69A96|#F57E7E|#F06061|#EA4243|#E52426|#E63228|#EC593B|#F37F4F|#F9A662|#FDB965|#FDAA4B|#FE9B31|#FE8C17|#FD8004|#F18C36|#E59768|#D8A39A|#CCAFCC|#B79BCA|#A180BC|#8A64AE|#7449A0|#7D5599|#9F8399|#C2B099|#E5DD99|#FAF491|#E7CD77|#D5A65C|#C37F42|#B15928 | 12 |  TRUE | FALSE |\n",
       "| blueprint.main   | blueprint.main   | Adipocytes|B-cells|CD4+ T-cells|CD8+ T-cells|DC|Endothelial cells|Epithelial cells|Erythrocytes|Fibroblasts|HSC|Macrophages|Monocytes|NK cells                                                                                                                                                                                                                                                                                                                                                                                                                                                                           | #A6CEE3|#2A7FB7|#99CD91|#52AF43|#B89B74|#ED4F50|#F06C45|#FDA440|#ED8F47|#B294C7|#825D99|#F8F18F|#B15928                                                                                                                                                                                                                                                                                         |  4 |  TRUE | FALSE |\n",
       "| monaco.fine      | monaco.fine      | Central memory CD8 T cells|Classical monocytes|Effector memory CD8 T cells|Exhausted B cells|Follicular helper T cells|Intermediate monocytes|Low-density basophils|MAIT cells|Myeloid dendritic cells|Naive B cells|Naive CD4 T cells|Natural killer cells|Non classical monocytes|Non-switched memory B cells|Non-Vd2 gd T cells|Plasmablasts|Plasmacytoid dendritic cells|Progenitor cells|Switched memory B cells|T regulatory cells|Terminal effector CD8 T cells|Th1 cells|Th1/Th17 cells|Th17 cells|Th2 cells|Vd2 gd T cells                                                                                      | #A6CEE3|#6AA8CE|#2F82B9|#4E98A6|#8EC694|#98D277|#60B64D|#439F34|#9B9C64|#F29A94|#F16667|#E62E30|#EA4833|#F59057|#FDB45D|#FE982C|#FC8108|#E59766|#CEADC4|#A787C0|#7D54A5|#8D6B99|#CFC099|#F5EB8B|#D3A259|#B15928                                                                                                                                                                                 |  7 |  TRUE | FALSE |\n",
       "| SCT_snn_res.0.5  | SCT_snn_res.0.5  | 0|1|2|3|4|5|6|7|8|9|10|11|12|13                                                                                                                                                                                                                                                                                                                                                                                                                                                                                                                                                                                          | #A6CEE3|#3385BB|#84BF96|#6DBD57|#7F9D55|#F57C7C|#E42622|#FBB268|#FE8D19|#DE9E83|#9D7BBA|#977899|#F3E587|#B15928                                                                                                                                                                                                                                                                                 |  4 |  TRUE | FALSE |\n",
       "| seurat_clusters  | seurat_clusters  | 0|1|2|3|4|5|6|7|8|9|10|11|12|13                                                                                                                                                                                                                                                                                                                                                                                                                                                                                                                                                                                          | #A6CEE3|#3385BB|#84BF96|#6DBD57|#7F9D55|#F57C7C|#E42622|#FBB268|#FE8D19|#DE9E83|#9D7BBA|#977899|#F3E587|#B15928                                                                                                                                                                                                                                                                                 |  4 |  TRUE | FALSE |\n",
       "| PC_1             | PC1              | NA                                                                                                                                                                                                                                                                                                                                                                                                                                                                                                                                                                                                                       | NA                                                                                                                                                                                                                                                                                                                                                                                              | NA | FALSE |  TRUE |\n",
       "| PC_2             | PC2              | NA                                                                                                                                                                                                                                                                                                                                                                                                                                                                                                                                                                                                                       | NA                                                                                                                                                                                                                                                                                                                                                                                              | NA | FALSE |  TRUE |\n",
       "| PC_3             | PC3              | NA                                                                                                                                                                                                                                                                                                                                                                                                                                                                                                                                                                                                                       | NA                                                                                                                                                                                                                                                                                                                                                                                              | NA | FALSE |  TRUE |\n",
       "| PC_4             | PC4              | NA                                                                                                                                                                                                                                                                                                                                                                                                                                                                                                                                                                                                                       | NA                                                                                                                                                                                                                                                                                                                                                                                              | NA | FALSE |  TRUE |\n",
       "| PC_5             | PC5              | NA                                                                                                                                                                                                                                                                                                                                                                                                                                                                                                                                                                                                                       | NA                                                                                                                                                                                                                                                                                                                                                                                              | NA | FALSE |  TRUE |\n",
       "| umap_1           | umap1            | NA                                                                                                                                                                                                                                                                                                                                                                                                                                                                                                                                                                                                                       | NA                                                                                                                                                                                                                                                                                                                                                                                              | NA | FALSE |  TRUE |\n",
       "| umap_2           | umap2            | NA                                                                                                                                                                                                                                                                                                                                                                                                                                                                                                                                                                                                                       | NA                                                                                                                                                                                                                                                                                                                                                                                              | NA | FALSE |  TRUE |\n",
       "\n"
      ],
      "text/plain": [
       "   ID               UI              \n",
       "1  orig.ident       orig.ident      \n",
       "2  nCount_RNA       nCount_RNA      \n",
       "3  Stim             Stim            \n",
       "4  Gender           Gender          \n",
       "5  Orig.Annotations Orig.Annotations\n",
       "6  blueprint.main   blueprint.main  \n",
       "7  monaco.fine      monaco.fine     \n",
       "8  SCT_snn_res.0.5  SCT_snn_res.0.5 \n",
       "9  seurat_clusters  seurat_clusters \n",
       "10 PC_1             PC1             \n",
       "11 PC_2             PC2             \n",
       "12 PC_3             PC3             \n",
       "13 PC_4             PC4             \n",
       "14 PC_5             PC5             \n",
       "15 umap_1           umap1           \n",
       "16 umap_2           umap2           \n",
       "   fID                                                                                                                                                                                                                                                                                                                                                                                                                                                                                                                                                                                                                     \n",
       "1  SeuratProject                                                                                                                                                                                                                                                                                                                                                                                                                                                                                                                                                                                                           \n",
       "2  NA                                                                                                                                                                                                                                                                                                                                                                                                                                                                                                                                                                                                                      \n",
       "3  healthy control                                                                                                                                                                                                                                                                                                                                                                                                                                                                                                                                                                                                         \n",
       "4  Female|Male                                                                                                                                                                                                                                                                                                                                                                                                                                                                                                                                                                                                             \n",
       "5  BEST4 OTOP2|Colonocyte 1|Colonocyte 2|Cycling cells|Cycling myeloid|Cycling TA|DN EOMES|DN TNF|Endothelium|Enteroendocrine|Epithelium Ribhi|Fibroblasts Ribhi|FRCs|gd IEL|Glia|Goblet|IER fibroblasts|Inflammatory colonocyte|Inflammatory fibroblasts|Inflammatory monocytes|Laminin colonocytes|Lymphatic endothelium|M2.2|MAIT|Mast 1|Mast 2|Mast Ribhi|Mature goblet|MT fibroblasts|MT T cells|Neutrophil 1|Neutrophil 2|Neutrophil 3|Paneth-like|PC  immediate early response|PC IgG 2|PC IGLL5|Pericytes|Plasmablast IgG|Plasmablast IgG Lambda|PLCG2 colonocytes|S1|S1 Ribhi|S1.2|S2a|S2b|S3|Secretory progenitor\n",
       "6  Adipocytes|B-cells|CD4+ T-cells|CD8+ T-cells|DC|Endothelial cells|Epithelial cells|Erythrocytes|Fibroblasts|HSC|Macrophages|Monocytes|NK cells                                                                                                                                                                                                                                                                                                                                                                                                                                                                          \n",
       "7  Central memory CD8 T cells|Classical monocytes|Effector memory CD8 T cells|Exhausted B cells|Follicular helper T cells|Intermediate monocytes|Low-density basophils|MAIT cells|Myeloid dendritic cells|Naive B cells|Naive CD4 T cells|Natural killer cells|Non classical monocytes|Non-switched memory B cells|Non-Vd2 gd T cells|Plasmablasts|Plasmacytoid dendritic cells|Progenitor cells|Switched memory B cells|T regulatory cells|Terminal effector CD8 T cells|Th1 cells|Th1/Th17 cells|Th17 cells|Th2 cells|Vd2 gd T cells                                                                                     \n",
       "8  0|1|2|3|4|5|6|7|8|9|10|11|12|13                                                                                                                                                                                                                                                                                                                                                                                                                                                                                                                                                                                         \n",
       "9  0|1|2|3|4|5|6|7|8|9|10|11|12|13                                                                                                                                                                                                                                                                                                                                                                                                                                                                                                                                                                                         \n",
       "10 NA                                                                                                                                                                                                                                                                                                                                                                                                                                                                                                                                                                                                                      \n",
       "11 NA                                                                                                                                                                                                                                                                                                                                                                                                                                                                                                                                                                                                                      \n",
       "12 NA                                                                                                                                                                                                                                                                                                                                                                                                                                                                                                                                                                                                                      \n",
       "13 NA                                                                                                                                                                                                                                                                                                                                                                                                                                                                                                                                                                                                                      \n",
       "14 NA                                                                                                                                                                                                                                                                                                                                                                                                                                                                                                                                                                                                                      \n",
       "15 NA                                                                                                                                                                                                                                                                                                                                                                                                                                                                                                                                                                                                                      \n",
       "16 NA                                                                                                                                                                                                                                                                                                                                                                                                                                                                                                                                                                                                                      \n",
       "   fCL                                                                                                                                                                                                                                                                                                                                                                                            \n",
       "1  black                                                                                                                                                                                                                                                                                                                                                                                          \n",
       "2  NA                                                                                                                                                                                                                                                                                                                                                                                             \n",
       "3  black                                                                                                                                                                                                                                                                                                                                                                                          \n",
       "4  #A6CEE3|#B15928                                                                                                                                                                                                                                                                                                                                                                                \n",
       "5  #A6CEE3|#86B9D8|#66A5CD|#4791C2|#277DB7|#3889AC|#5AA1A3|#7CB999|#9FD18F|#A4D880|#86C969|#69BA53|#4BAC3E|#3B9F30|#6A9E4A|#999C63|#C79B7D|#F69A96|#F57E7E|#F06061|#EA4243|#E52426|#E63228|#EC593B|#F37F4F|#F9A662|#FDB965|#FDAA4B|#FE9B31|#FE8C17|#FD8004|#F18C36|#E59768|#D8A39A|#CCAFCC|#B79BCA|#A180BC|#8A64AE|#7449A0|#7D5599|#9F8399|#C2B099|#E5DD99|#FAF491|#E7CD77|#D5A65C|#C37F42|#B15928\n",
       "6  #A6CEE3|#2A7FB7|#99CD91|#52AF43|#B89B74|#ED4F50|#F06C45|#FDA440|#ED8F47|#B294C7|#825D99|#F8F18F|#B15928                                                                                                                                                                                                                                                                                        \n",
       "7  #A6CEE3|#6AA8CE|#2F82B9|#4E98A6|#8EC694|#98D277|#60B64D|#439F34|#9B9C64|#F29A94|#F16667|#E62E30|#EA4833|#F59057|#FDB45D|#FE982C|#FC8108|#E59766|#CEADC4|#A787C0|#7D54A5|#8D6B99|#CFC099|#F5EB8B|#D3A259|#B15928                                                                                                                                                                                \n",
       "8  #A6CEE3|#3385BB|#84BF96|#6DBD57|#7F9D55|#F57C7C|#E42622|#FBB268|#FE8D19|#DE9E83|#9D7BBA|#977899|#F3E587|#B15928                                                                                                                                                                                                                                                                                \n",
       "9  #A6CEE3|#3385BB|#84BF96|#6DBD57|#7F9D55|#F57C7C|#E42622|#FBB268|#FE8D19|#DE9E83|#9D7BBA|#977899|#F3E587|#B15928                                                                                                                                                                                                                                                                                \n",
       "10 NA                                                                                                                                                                                                                                                                                                                                                                                             \n",
       "11 NA                                                                                                                                                                                                                                                                                                                                                                                             \n",
       "12 NA                                                                                                                                                                                                                                                                                                                                                                                             \n",
       "13 NA                                                                                                                                                                                                                                                                                                                                                                                             \n",
       "14 NA                                                                                                                                                                                                                                                                                                                                                                                             \n",
       "15 NA                                                                                                                                                                                                                                                                                                                                                                                             \n",
       "16 NA                                                                                                                                                                                                                                                                                                                                                                                             \n",
       "   fRow grp   dimred\n",
       "1   1   FALSE FALSE \n",
       "2  NA   FALSE FALSE \n",
       "3   1   FALSE FALSE \n",
       "4   1    TRUE FALSE \n",
       "5  12    TRUE FALSE \n",
       "6   4    TRUE FALSE \n",
       "7   7    TRUE FALSE \n",
       "8   4    TRUE FALSE \n",
       "9   4    TRUE FALSE \n",
       "10 NA   FALSE  TRUE \n",
       "11 NA   FALSE  TRUE \n",
       "12 NA   FALSE  TRUE \n",
       "13 NA   FALSE  TRUE \n",
       "14 NA   FALSE  TRUE \n",
       "15 NA   FALSE  TRUE \n",
       "16 NA   FALSE  TRUE "
      ]
     },
     "metadata": {},
     "output_type": "display_data"
    }
   ],
   "source": [
    "# Controls\n",
    "load(file=file.path('objects', '06.rda'))\n",
    "obj <- subset(obj, subset = Stim == \"healthy control\")\n",
    "obj <- RunPCA(obj, npcs = 30, verbose = TRUE)\n",
    "obj <- RunUMAP(obj, reduction = \"pca\", dims = 1:20)\n",
    "obj <- FindNeighbors(obj, reduction = \"pca\", dims = 1:20)\n",
    "obj <- FindClusters(obj, resolution = 0.5)\n",
    "\n",
    "save(obj, file=file.path('objects', 'hc.rda'))\n",
    "\n",
    "seu =  obj\n",
    "scConf4 = createConfig(seu)\n",
    "makeShinyFiles(seu, scConf4,\n",
    "             gene.mapping = TRUE,\n",
    "             shiny.prefix = \"sc4\",\n",
    "             shiny.dir = \"colon_UC_crohns_scRNA-seq_GSM6614348/\",\n",
    "             gex.assay = \"SCT\",\n",
    "             default.multigene = present_genes) "
   ]
  },
  {
   "cell_type": "code",
   "execution_count": 49,
   "metadata": {
    "vscode": {
     "languageId": "r"
    }
   },
   "outputs": [],
   "source": [
    "makeShinyCodesMulti(\n",
    "  shiny.title = \"UC and Crohn's IBD from colonic mucosa scRNAseq\", shiny.footnotes = NULL,\n",
    "  shiny.prefix = c(\"sc1\", \"sc2\", \"sc3\", \"sc4\"),\n",
    "  shiny.headers = c(\"All\", \"UC\", \"CD\", \"Healthy\"), \n",
    "  shiny.dir = \"colon_UC_crohns_scRNA-seq_GSM6614348/\") "
   ]
  },
  {
   "cell_type": "code",
   "execution_count": 51,
   "metadata": {
    "vscode": {
     "languageId": "r"
    }
   },
   "outputs": [],
   "source": [
    "system(\"R -e \\\"shiny::runApp('colon_UC_crohns_scRNA-seq_GSM6614348')\\\"\")"
   ]
  }
 ],
 "metadata": {
  "kernelspec": {
   "display_name": "R",
   "language": "R",
   "name": "ir"
  },
  "language_info": {
   "codemirror_mode": "r",
   "file_extension": ".r",
   "mimetype": "text/x-r-source",
   "name": "R",
   "pygments_lexer": "r",
   "version": "4.3.3"
  }
 },
 "nbformat": 4,
 "nbformat_minor": 2
}
