{
 "cells": [
  {
   "cell_type": "markdown",
   "metadata": {},
   "source": [
    "# [Macrophage and neutrophil heterogeneity at single-cell spatial resolution in human inflammatory bowel disease](https://pubmed.ncbi.nlm.nih.gov/37495570/)\n",
    "GEO: [GSE214695](https://www.ncbi.nlm.nih.gov/geo/query/acc.cgi?acc=GSE214695)"
   ]
  },
  {
   "cell_type": "code",
   "execution_count": null,
   "metadata": {
    "vscode": {
     "languageId": "r"
    }
   },
   "outputs": [],
   "source": [
    "suppressPackageStartupMessages({\n",
    "    library(Seurat)\n",
    "    library(celldex)\n",
    "    library(ShinyCell)\n",
    "    library(dplyr)\n",
    "    library(SingleR)\n",
    "    library(dplyr)\n",
    "    library(tibble)\n",
    "})"
   ]
  },
  {
   "cell_type": "code",
   "execution_count": null,
   "metadata": {
    "vscode": {
     "languageId": "r"
    }
   },
   "outputs": [],
   "source": [
    "source('scTools/R/process.geo.data.r')"
   ]
  },
  {
   "cell_type": "code",
   "execution_count": null,
   "metadata": {
    "vscode": {
     "languageId": "r"
    }
   },
   "outputs": [],
   "source": [
    "seurat_objs <- process.GEO.data(GEOID = \"GSE214695\")"
   ]
  },
  {
   "cell_type": "code",
   "execution_count": null,
   "metadata": {
    "vscode": {
     "languageId": "r"
    }
   },
   "outputs": [],
   "source": [
    "# Merge samples\n",
    "obj <- merge(seurat_objs[[1]], \n",
    "c(seurat_objs[[2]], seurat_objs[[3]], seurat_objs[[4]], seurat_objs[[5]], seurat_objs[[6]], seurat_objs[[7]],\n",
    " seurat_objs[[8]], seurat_objs[[9]], seurat_objs[[10]], seurat_objs[[11]], seurat_objs[[12]], seurat_objs[[13]],\n",
    "seurat_objs[[14]], seurat_objs[[15]], seurat_objs[[16]], seurat_objs[[17]], seurat_objs[[18]]))\n",
    "save(obj, file = file.path(\"objects\", \"00.rda\"))"
   ]
  },
  {
   "cell_type": "code",
   "execution_count": null,
   "metadata": {
    "vscode": {
     "languageId": "r"
    }
   },
   "outputs": [],
   "source": [
    "# Clean up data\n",
    "obj <- JoinLayers(obj)\n",
    "obj[[\"percent.mt\"]] <- PercentageFeatureSet(object = obj, pattern = \"^MT-\")\n",
    "obj <- subset(obj, subset = nFeature_RNA > 350 & nFeature_RNA < 5000 & percent.mt < 10)\n",
    "obj\n",
    "save(obj, file = file.path(\"objects\", \"01.rda\"))"
   ]
  },
  {
   "cell_type": "code",
   "execution_count": null,
   "metadata": {
    "vscode": {
     "languageId": "r"
    }
   },
   "outputs": [],
   "source": [
    "# length(rownames(annotations))\n",
    "# length(rownames(df1_filtered))\n",
    "# length(rownames(obj@meta.data))"
   ]
  },
  {
   "cell_type": "code",
   "execution_count": null,
   "metadata": {
    "vscode": {
     "languageId": "r"
    }
   },
   "outputs": [],
   "source": [
    "# common_row_names <- intersect(rownames(obj@meta.data), rownames(annotations))\n",
    "# common_row_names\n",
    "# df1_filtered <- obj@meta.data[common_row_names, ]"
   ]
  },
  {
   "cell_type": "code",
   "execution_count": null,
   "metadata": {
    "vscode": {
     "languageId": "r"
    }
   },
   "outputs": [],
   "source": [
    "obj <- SCTransform(obj, ncells = 3000,  variable.features.n = 2000, vst.flavor=\"v2\", method = 'glmGamPoi', conserve.memory = TRUE)\n",
    "save(obj, file=file.path(\"objects\", \"02.rda\"))"
   ]
  },
  {
   "cell_type": "code",
   "execution_count": null,
   "metadata": {
    "vscode": {
     "languageId": "r"
    }
   },
   "outputs": [],
   "source": [
    "obj <- RunPCA(obj, npcs = 30, verbose = TRUE)\n",
    "obj <- RunUMAP(obj, reduction = \"pca\", dims = 1:20)\n",
    "obj <- FindNeighbors(obj, reduction = \"pca\", dims = 1:20)\n",
    "obj <- FindClusters(obj, resolution = 0.5)\n",
    "save(obj, file=file.path(\"objects\", \"03.rda\"))"
   ]
  },
  {
   "cell_type": "code",
   "execution_count": null,
   "metadata": {
    "vscode": {
     "languageId": "r"
    }
   },
   "outputs": [],
   "source": [
    "# # Add updated metadata\n",
    "# metadata <- obj@meta.data\n",
    "# metadata <- left_join(\n",
    "#   obj@meta.data %>% rownames_to_column(),\n",
    "#   annotations %>% rownames_to_column(),\n",
    "#   by = \"rowname\"\n",
    "# )\n",
    "# rownames(metadata) <- metadata$rowname\n",
    "# metadata <- metadata[, -1]  # Remove the redundant rowname column\n",
    "# obj@meta.data <- metadata\n",
    "# obj"
   ]
  },
  {
   "cell_type": "code",
   "execution_count": null,
   "metadata": {
    "vscode": {
     "languageId": "r"
    }
   },
   "outputs": [],
   "source": [
    "# load(file = file.path(\"objects\", \"01.rda\"))"
   ]
  },
  {
   "cell_type": "code",
   "execution_count": null,
   "metadata": {
    "vscode": {
     "languageId": "r"
    }
   },
   "outputs": [],
   "source": [
    "test <- obj"
   ]
  },
  {
   "cell_type": "code",
   "execution_count": null,
   "metadata": {
    "vscode": {
     "languageId": "r"
    }
   },
   "outputs": [],
   "source": [
    "rownames(test@meta.data) <- make.unique(gsub(\"[^A-Za-z]+\", \"\", rownames(test@meta.data)))\n",
    "# head(test@meta.data[1:4])"
   ]
  },
  {
   "cell_type": "code",
   "execution_count": null,
   "metadata": {
    "vscode": {
     "languageId": "r"
    }
   },
   "outputs": [],
   "source": [
    "mdata <- read.csv(\"GSE214695/GSE214695_cell_annotation.csv.gz\", sep = \",\")\n",
    "mdata$cell_id <- make.unique(mdata$cell_id)\n",
    "rownames(mdata) <- mdata$cell_id\n",
    "rownames(mdata) <- make.unique(gsub(\"[^A-Za-z]+\", \"\", rownames(mdata)))\n",
    "# mdata <- select(mdata, c(sample, annotation, nanostring_reference))\n",
    "# head(mdata)"
   ]
  },
  {
   "cell_type": "code",
   "execution_count": null,
   "metadata": {
    "vscode": {
     "languageId": "r"
    }
   },
   "outputs": [],
   "source": [
    "metadata <- merge(test@meta.data, mdata, by=0, all.x=TRUE)\n",
    "# rownames(metadata) <- metadata$Row.names\n",
    "metadata<- select(metadata, c(Row.names, sample, annotation, nanostring_reference))\n",
    "# head(metadata)\n",
    "# length(rownames(metadata))"
   ]
  },
  {
   "cell_type": "code",
   "execution_count": null,
   "metadata": {
    "vscode": {
     "languageId": "r"
    }
   },
   "outputs": [],
   "source": [
    "test <- AddMetaData(test, metadata = metadata, col.name = \"sample\")\n",
    "test <- AddMetaData(test, metadata = metadata, col.name = \"annotation\")\n",
    "test <- AddMetaData(test, metadata = metadata, col.name = \"nanostring_reference\")"
   ]
  },
  {
   "cell_type": "code",
   "execution_count": null,
   "metadata": {
    "vscode": {
     "languageId": "r"
    }
   },
   "outputs": [],
   "source": [
    "rownames(test@assays$RNA@cells) <- make.unique(gsub(\"[^A-Za-z]+\", \"\", rownames(test@assays$RNA@cells)))"
   ]
  },
  {
   "cell_type": "code",
   "execution_count": null,
   "metadata": {
    "vscode": {
     "languageId": "r"
    }
   },
   "outputs": [],
   "source": [
    "Idents(test) <- \"RNA\"\n",
    "test <- SCTransform(test, ncells = 3000,  variable.features.n = 2000, vst.flavor=\"v2\", method = 'glmGamPoi', conserve.memory = TRUE)\n",
    "save(test, file=file.path(\"objects\", \"02.rda\"))"
   ]
  },
  {
   "cell_type": "code",
   "execution_count": null,
   "metadata": {
    "vscode": {
     "languageId": "r"
    }
   },
   "outputs": [],
   "source": [
    "# load(file = file.path(\"objects\", \"02.rda\"))"
   ]
  },
  {
   "cell_type": "code",
   "execution_count": null,
   "metadata": {
    "vscode": {
     "languageId": "r"
    }
   },
   "outputs": [],
   "source": [
    "test <- RunPCA(test, npcs = 30, verbose = TRUE)\n",
    "test <- RunUMAP(test, reduction = \"pca\", dims = 1:20)\n",
    "test <- FindNeighbors(test, reduction = \"pca\", dims = 1:20)\n",
    "test <- FindClusters(test, resolution = 0.5)\n",
    "save(test, file=file.path(\"objects\", \"03.rda\"))"
   ]
  },
  {
   "cell_type": "code",
   "execution_count": null,
   "metadata": {
    "vscode": {
     "languageId": "r"
    }
   },
   "outputs": [],
   "source": [
    "immune_cell_names <- c(\n",
    "  'CD8 CTL', 'Tregs', 'M2', 'PC IgA IgM', 'PC IgA heat shock 1', 'PC IgA 1',\n",
    "  'PC IgA heat shock 2', 'ThF', 'PC IgA 3', 'Memory B cell', 'PC IgA Lambda 1',\n",
    "  'CD4 ANXA1', 'NK', 'PC IgA 2', 'Cycling T cells', 'PC IgA 4', 'CD4 naïve',\n",
    "  'CD8 CTL TRM', 'S1PR1 T cells', 'Plasmablast IgA Lambda 2', 'ILC3', 'GC B cell',\n",
    "  'B cell', 'T cells CCL20', 'IDA macrophage', 'M1 ACOD1', 'PC IgG 1',\n",
    "  'CD8 FGFBP2', 'DCs CD1c', 'M0_Ribhi', 'M1 CXCL5', 'Ribhi T cells 1',\n",
    "  'Activated endothelium', 'M0', 'Ribhi T cells 2', 'DCs CCL22', 'B cell Ribhi',\n",
    "  'M1 CXCL5', 'Tuft cells', 'Eosinophils', 'Cycling cells 3', 'Myofibroblasts',\n",
    "  'Naïve B cell', 'DCs CCL22_Ribhi'\n",
    ")"
   ]
  },
  {
   "cell_type": "code",
   "execution_count": null,
   "metadata": {
    "vscode": {
     "languageId": "r"
    }
   },
   "outputs": [],
   "source": [
    "load(file = file.path(\"objects\", \"03.rda\"))"
   ]
  },
  {
   "cell_type": "code",
   "execution_count": null,
   "metadata": {
    "vscode": {
     "languageId": "r"
    }
   },
   "outputs": [],
   "source": [
    "test <- SetIdent(test, value = \"annotation\")\n",
    "test <- subset(test, idents = immune_cell_names, invert = TRUE)"
   ]
  },
  {
   "cell_type": "code",
   "execution_count": null,
   "metadata": {
    "vscode": {
     "languageId": "r"
    }
   },
   "outputs": [],
   "source": [
    "blueprint.ref <- celldex::BlueprintEncodeData()\n",
    "monaco.ref <- celldex::MonacoImmuneData()"
   ]
  },
  {
   "cell_type": "code",
   "execution_count": null,
   "metadata": {
    "vscode": {
     "languageId": "r"
    }
   },
   "outputs": [],
   "source": [
    "sce <- LayerData(test)\n",
    "blueprint.main <- SingleR(test = sce, assay.type.test = 1, ref = blueprint.ref, labels = blueprint.ref$label.main)\n",
    "test@meta.data$blueprint.main <- blueprint.main$pruned.labels\n",
    "save(test, file=file.path(\"objects\", \"04.rda\"))"
   ]
  },
  {
   "cell_type": "code",
   "execution_count": null,
   "metadata": {
    "vscode": {
     "languageId": "r"
    }
   },
   "outputs": [],
   "source": [
    "table(test@meta.data$blueprint.main)"
   ]
  },
  {
   "cell_type": "code",
   "execution_count": null,
   "metadata": {
    "vscode": {
     "languageId": "r"
    }
   },
   "outputs": [],
   "source": [
    "test <- SetIdent(test, value = \"blueprint.main\")\n",
    "remove_low_count_cells <- function(seurat_obj, metadata_column, threshold = 20) {\n",
    "\n",
    "  # obj <- SetIdent(obj, value = metadata_column)\n",
    "\n",
    "  total_counts <- table(seurat_obj@meta.data[[metadata_column]])\n",
    "\n",
    "  low_count_cells <- names(total_counts[total_counts < threshold])\n",
    "\n",
    "  seurat_obj <- subset(seurat_obj, idents = low_count_cells, invert = TRUE)\n",
    "\n",
    "  return(seurat_obj)\n",
    "}\n",
    "test <- remove_low_count_cells(seurat_obj = test, metadata_column = \"blueprint.main\", threshold = 20)"
   ]
  },
  {
   "cell_type": "code",
   "execution_count": null,
   "metadata": {
    "vscode": {
     "languageId": "r"
    }
   },
   "outputs": [],
   "source": [
    "table(test@meta.data$blueprint.main)"
   ]
  },
  {
   "cell_type": "code",
   "execution_count": null,
   "metadata": {
    "vscode": {
     "languageId": "r"
    }
   },
   "outputs": [],
   "source": [
    "# test <- SetIdent(test, value = \"blueprint.main\")\n",
    "# test <- subset(test, idents = c(\"Adipocytes\", \"Erythrocytes\", \"HSC\"), invert = TRUE)\n",
    "# table(test@meta.data$blueprint.main)"
   ]
  },
  {
   "cell_type": "code",
   "execution_count": null,
   "metadata": {
    "vscode": {
     "languageId": "r"
    }
   },
   "outputs": [],
   "source": [
    "sce <- LayerData(test)\n",
    "monaco.fine <- SingleR(test = sce, assay.type.test = 1, ref = monaco.ref, labels = monaco.ref$label.fine)\n",
    "test@meta.data$monaco.fine <- monaco.fine$pruned.labels\n",
    "save(test, file=file.path('objects', '05.rda'))"
   ]
  },
  {
   "cell_type": "code",
   "execution_count": null,
   "metadata": {
    "vscode": {
     "languageId": "r"
    }
   },
   "outputs": [],
   "source": [
    "# load(file = file.path('objects', '05.rda'))"
   ]
  },
  {
   "cell_type": "code",
   "execution_count": null,
   "metadata": {
    "vscode": {
     "languageId": "r"
    }
   },
   "outputs": [],
   "source": [
    "table(test@meta.data$monaco.fine)"
   ]
  },
  {
   "cell_type": "code",
   "execution_count": null,
   "metadata": {
    "vscode": {
     "languageId": "r"
    }
   },
   "outputs": [],
   "source": [
    "test <- SetIdent(test, value = \"monaco.fine\")\n",
    "remove_low_count_cells <- function(seurat_obj, metadata_column, threshold = 20) {\n",
    "\n",
    "  # obj <- SetIdent(obj, value = metadata_column)\n",
    "\n",
    "  total_counts <- table(seurat_obj@meta.data[[metadata_column]])\n",
    "\n",
    "  low_count_cells <- names(total_counts[total_counts < threshold])\n",
    "\n",
    "  seurat_obj <- subset(seurat_obj, idents = low_count_cells, invert = TRUE)\n",
    "\n",
    "  return(seurat_obj)\n",
    "}\n",
    "test <- remove_low_count_cells(seurat_obj = test, metadata_column = \"monaco.fine\", threshold = 20)"
   ]
  },
  {
   "cell_type": "code",
   "execution_count": null,
   "metadata": {
    "vscode": {
     "languageId": "r"
    }
   },
   "outputs": [],
   "source": [
    "table(test@meta.data$monaco.fine)"
   ]
  },
  {
   "cell_type": "code",
   "execution_count": null,
   "metadata": {
    "vscode": {
     "languageId": "r"
    }
   },
   "outputs": [],
   "source": [
    "# Genes Rik was interested\n",
    "genes <- \n",
    "c(\"LILRB1\", \"LILRB2\", \"LILRB3\", \"HLA-G\", \"IL1B\",\n",
    " \"IL6\", \"IL23A\", \"IL12A\", \"IL12B\", \"TNF\", \"IL10\", \"TIGIT\", \"PDCD1\")"
   ]
  },
  {
   "cell_type": "code",
   "execution_count": null,
   "metadata": {
    "vscode": {
     "languageId": "r"
    }
   },
   "outputs": [],
   "source": [
    "# Keep only genes present in data for `default.multigene`\n",
    "seurat_data <- GetAssayData(object = test)\n",
    "seurat_genes <- rownames(seurat_data)\n",
    "present_genes <- genes[genes %in% seurat_genes]"
   ]
  },
  {
   "cell_type": "code",
   "execution_count": null,
   "metadata": {
    "vscode": {
     "languageId": "r"
    }
   },
   "outputs": [],
   "source": [
    "\n"
   ]
  },
  {
   "cell_type": "code",
   "execution_count": null,
   "metadata": {
    "vscode": {
     "languageId": "r"
    }
   },
   "outputs": [],
   "source": [
    "colnames(test@meta.data)"
   ]
  },
  {
   "cell_type": "code",
   "execution_count": null,
   "metadata": {
    "vscode": {
     "languageId": "r"
    }
   },
   "outputs": [],
   "source": [
    "\n",
    "# Clean up metadata\n",
    "test@meta.data$Gender <- test@meta.data$gender.ch1\n",
    "test@meta.data$Stim <- test@meta.data$disease.state.ch1\n",
    "test@meta.data$Orig.Annotations <- test@meta.data$annotation"
   ]
  },
  {
   "cell_type": "code",
   "execution_count": null,
   "metadata": {
    "vscode": {
     "languageId": "r"
    }
   },
   "outputs": [],
   "source": [
    "columns_to_keep <-  c('orig.ident', 'nCount_RNA', 'Stim', 'Gender', 'Orig.Annotations', 'blueprint.main', 'monaco.fine')\n",
    "test@meta.data <- test@meta.data[, columns_to_keep, drop = FALSE]"
   ]
  },
  {
   "cell_type": "code",
   "execution_count": null,
   "metadata": {
    "vscode": {
     "languageId": "r"
    }
   },
   "outputs": [],
   "source": [
    "test <- subset(test, subset = Orig.Annotations != \"NA\")"
   ]
  },
  {
   "cell_type": "code",
   "execution_count": null,
   "metadata": {
    "vscode": {
     "languageId": "r"
    }
   },
   "outputs": [],
   "source": [
    "save(test, file=file.path('objects', '06.rda'))"
   ]
  },
  {
   "cell_type": "code",
   "execution_count": null,
   "metadata": {
    "vscode": {
     "languageId": "r"
    }
   },
   "outputs": [],
   "source": [
    "\n",
    "seu =  test\n",
    "scConf = createConfig(seu)\n",
    "makeShinyApp(seu, scConf,\n",
    "             gene.mapping = TRUE,\n",
    "             shiny.title = \"UC and Crohn's IBD from colonic mucosa scRNAseq\",\n",
    "             shiny.dir = \"colon_UC_crohns_scRNA-seq_GSM6614348/\",\n",
    "             gex.assay = \"SCT\",\n",
    "             default.multigene = present_genes) \n",
    "system(\"R -e \\\"shiny::runApp('colon_UC_crohns_scRNA-seq_GSM6614348')\\\"\")"
   ]
  },
  {
   "cell_type": "code",
   "execution_count": null,
   "metadata": {
    "vscode": {
     "languageId": "r"
    }
   },
   "outputs": [],
   "source": [
    "# All stims\n",
    "seu =  test\n",
    "scConf1 = createConfig(seu)\n",
    "makeShinyFiles(seu, scConf1,\n",
    "             gene.mapping = TRUE,\n",
    "             shiny.prefix = \"sc1\",\n",
    "             shiny.dir = \"colon_UC_crohns_scRNA-seq_GSM6614348/\",\n",
    "             gex.assay = \"SCT\",\n",
    "             default.multigene = present_genes) "
   ]
  },
  {
   "cell_type": "code",
   "execution_count": null,
   "metadata": {
    "vscode": {
     "languageId": "r"
    }
   },
   "outputs": [],
   "source": [
    "# Ulcerative colitis\n",
    "load(file=file.path('objects', '06.rda'))\n",
    "test <- subset(test, subset = Stim == \"ulcerative colitis\")\n",
    "test <- RunPCA(test, npcs = 30, verbose = TRUE)\n",
    "test <- RunUMAP(test, reduction = \"pca\", dims = 1:20)\n",
    "test <- FindNeighbors(test, reduction = \"pca\", dims = 1:20)\n",
    "test <- FindClusters(test, resolution = 0.5)\n",
    "\n",
    "save(test, file=file.path('objects', 'uc.rda'))\n",
    "\n",
    "seu =  test\n",
    "scConf2 = createConfig(seu)\n",
    "makeShinyFiles(seu, scConf2,\n",
    "             gene.mapping = TRUE,\n",
    "             shiny.prefix = \"sc2\",\n",
    "             shiny.dir = \"colon_UC_crohns_scRNA-seq_GSM6614348/\",\n",
    "             gex.assay = \"SCT\",\n",
    "             default.multigene = present_genes) "
   ]
  },
  {
   "cell_type": "code",
   "execution_count": null,
   "metadata": {
    "vscode": {
     "languageId": "r"
    }
   },
   "outputs": [],
   "source": [
    "# Crohn's disease\n",
    "load(file=file.path('objects', '06.rda'))\n",
    "test <- subset(test, subset = Stim == \"Crohn’s disease\")\n",
    "test <- RunPCA(test, npcs = 30, verbose = TRUE)\n",
    "test <- RunUMAP(test, reduction = \"pca\", dims = 1:20)\n",
    "test <- FindNeighbors(test, reduction = \"pca\", dims = 1:20)\n",
    "test <- FindClusters(test, resolution = 0.5)\n",
    "\n",
    "save(test, file=file.path('objects', 'cd.rda'))\n",
    "\n",
    "seu =  test\n",
    "scConf3 = createConfig(seu)\n",
    "makeShinyFiles(seu, scConf3,\n",
    "             gene.mapping = TRUE,\n",
    "             shiny.prefix = \"sc3\",\n",
    "             shiny.dir = \"colon_UC_crohns_scRNA-seq_GSM6614348/\",\n",
    "             gex.assay = \"SCT\",\n",
    "             default.multigene = present_genes) "
   ]
  },
  {
   "cell_type": "code",
   "execution_count": null,
   "metadata": {
    "vscode": {
     "languageId": "r"
    }
   },
   "outputs": [],
   "source": [
    "# Controls\n",
    "load(file=file.path('objects', '06.rda'))\n",
    "test <- subset(test, subset = Stim == \"healthy control\")\n",
    "test <- RunPCA(test, npcs = 30, verbose = TRUE)\n",
    "test <- RunUMAP(test, reduction = \"pca\", dims = 1:20)\n",
    "test <- FindNeighbors(test, reduction = \"pca\", dims = 1:20)\n",
    "test <- FindClusters(test, resolution = 0.5)\n",
    "\n",
    "save(test, file=file.path('objects', 'hc.rda'))\n",
    "\n",
    "seu =  test\n",
    "scConf4 = createConfig(seu)\n",
    "makeShinyFiles(seu, scConf4,\n",
    "             gene.mapping = TRUE,\n",
    "             shiny.prefix = \"sc4\",\n",
    "             shiny.dir = \"colon_UC_crohns_scRNA-seq_GSM6614348/\",\n",
    "             gex.assay = \"SCT\",\n",
    "             default.multigene = present_genes) "
   ]
  },
  {
   "cell_type": "code",
   "execution_count": null,
   "metadata": {
    "vscode": {
     "languageId": "r"
    }
   },
   "outputs": [],
   "source": [
    "makeShinyCodesMulti(\n",
    "  shiny.title = \"UC and Crohn's IBD from colonic mucosa scRNAseq\", shiny.footnotes = NULL,\n",
    "  shiny.prefix = c(\"sc1\", \"sc2\", \"sc3\", \"sc4\"),\n",
    "  shiny.headers = c(\"All\", \"UC\", \"CD\", \"Healthy\"), \n",
    "  shiny.dir = \"colon_UC_crohns_scRNA-seq_GSM6614348/\") "
   ]
  },
  {
   "cell_type": "code",
   "execution_count": null,
   "metadata": {
    "vscode": {
     "languageId": "r"
    }
   },
   "outputs": [],
   "source": [
    "system(\"R -e \\\"shiny::runApp('colon_UC_crohns_scRNA-seq_GSM6614348')\\\"\")"
   ]
  }
 ],
 "metadata": {
  "kernelspec": {
   "display_name": "R",
   "language": "R",
   "name": "ir"
  },
  "language_info": {
   "codemirror_mode": "r",
   "file_extension": ".r",
   "mimetype": "text/x-r-source",
   "name": "R",
   "pygments_lexer": "r",
   "version": "4.3.3"
  }
 },
 "nbformat": 4,
 "nbformat_minor": 2
}
